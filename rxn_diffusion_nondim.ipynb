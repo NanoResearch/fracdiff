{
 "cells": [
  {
   "cell_type": "markdown",
   "metadata": {},
   "source": [
    "# Integrate a nondimensional form of the equation"
   ]
  },
  {
   "cell_type": "markdown",
   "metadata": {},
   "source": [
    "This notebook contains the code necessary to call the LSODA integrator on a reparametrized form of the reaction diffusion equation (see the main notebook *main_rxndiff_solver.ipynb* for details). For this notebook, time has been rescaled so that the ugly $t^{1-\\alpha}$ term now appears on the reaction portion as $t^{\\frac{1}{\\alpha} - 1}$. A few other standard rescalings have been performed as well, such that the equation that is being solved looks like:\n",
    "\n",
    "$$\\dot \\phi = \\hat H_{diff} \\phi - \\gamma t^{\\frac{1}{\\alpha} - 1} \\mathcal H(d - r) \\phi $$\n",
    "\n",
    "where $H_{diff}$ is the standard spatial diffusion operator in an harmonic potential (the terms from this are writte nout explicitly in *main_rxndiff_solver.ipynb*). \\mathcal H is a unit step. This equation is derived by taking our original diffusion equation and performing the substitution $t \\leftarrow D t^\\alpha$ and $\\gamma \\leftarrow \\dfrac{\\gamma}{(D^{1/\\alpha} \\alpha)}$\n",
    "\n",
    "This integrator appears to fail at early times due to an instability that propagates from the edge of the reaction zone. This is different than the behavior of the standard, dimensional form of the reaction-diffusion equation, which appears to fail due to an instability that propagates from the origin\n",
    "\n",
    "*If you are current reading an HTML file, then you are looking at a static snapshot of the .ipynb version of this file.*"
   ]
  },
  {
   "cell_type": "markdown",
   "metadata": {},
   "source": [
    "#### Preamble (Import necessary packages)"
   ]
  },
  {
   "cell_type": "code",
   "execution_count": 1,
   "metadata": {
    "collapsed": false
   },
   "outputs": [
    {
     "name": "stdout",
     "output_type": "stream",
     "text": [
      "Populating the interactive namespace from numpy and matplotlib\n"
     ]
    }
   ],
   "source": [
    "# import matplotlib\n",
    "# matplotlib.use( \"agg\" )\n",
    "%pylab inline\n",
    "\n",
    "import plt_fmt\n",
    "\n",
    "# from numba import jit\n",
    "\n",
    "from fig_annotate import *\n",
    "\n",
    "from diffusion_integrator_funcs import *\n",
    "# from frac_brown import *\n",
    "\n",
    "from brownian_integrator import *"
   ]
  },
  {
   "cell_type": "markdown",
   "metadata": {},
   "source": [
    "## Initialize parameter values and run an integration"
   ]
  },
  {
   "cell_type": "code",
   "execution_count": 21,
   "metadata": {
    "collapsed": false
   },
   "outputs": [],
   "source": [
    "from scipy.integrate import ode\n",
    "\n",
    "## pick parameter values\n",
    "params = dict()\n",
    "\n",
    "# alpha less than one\n",
    "params['ALPHA']= .5\n",
    "# width of reactive well\n",
    "params['WELL_DIAM'] = 1\n",
    "# width of overall potential well. smaller this is, the stronger the forcing\n",
    "params['POT_DIAM'] = 100\n",
    "params['KAPPA'] = 1e3\n",
    "params['DCOEFF'] = 1.0 # this has been dimensionalized out so it doesn't matter\n",
    "\n",
    "\n",
    "\n",
    "ACTUAL_LENGTH = 10*params['POT_DIAM']\n",
    "\n",
    "# set integrator settings\n",
    "settings = dict()\n",
    "\n",
    "# TIME\n",
    "# remember that these have been rescaled to unusual units\n",
    "time_pts = 1e6\n",
    "start_time = 0.0\n",
    "stop_time = 1e3\n",
    "times = linspace(start_time, stop_time, time_pts)\n",
    "dt = times[2]-times[1]\n",
    "times = times+dt\n",
    "settings['times'] = times\n",
    "\n",
    "# SPACE\n",
    "space_pts = 100\n",
    "space = linspace(0.0, ACTUAL_LENGTH, space_pts)\n",
    "dx = space[2] - space[1]\n",
    "space = space+dx\n",
    "# settings['dx'] = dx\n",
    "settings['space'] = space\n",
    "\n",
    "# initial conditions\n",
    "y0 = ones(space_pts)\n",
    "\n",
    "# r = ode(nxt_step, jacob).set_integrator('vode', method='bdf', with_jacobian=True)\n",
    "r = ode(nxt_step, radiff_timeop_nondim).set_integrator('lsoda', with_jacobian=True)\n",
    "r.set_initial_value(y0, times[0])\n",
    "\n",
    "r.set_f_params([settings, params])\n",
    "r.set_jac_params([settings, params])\n",
    "\n",
    "t1 = times[-1]\n",
    "sol = list()\n",
    "while r.successful() and r.t < t1:\n",
    "    r.integrate(r.t+dt)\n",
    "    sol.append(r.y)\n",
    "\n",
    "sol = array(real(sol)).T\n",
    "\n",
    "\n",
    "# now multiply through by the equilibrium distribution\n",
    "gauss = eq_dist(space, params['POT_DIAM'])\n",
    "gauss = gauss[:, None]\n",
    "sol = sol*gauss\n"
   ]
  },
  {
   "cell_type": "markdown",
   "metadata": {},
   "source": [
    "## Make plots of solutions"
   ]
  },
  {
   "cell_type": "code",
   "execution_count": 22,
   "metadata": {
    "collapsed": false
   },
   "outputs": [
    {
     "data": {
      "image/png": "[encoded data removed]",
      "text/plain": [
       "<matplotlib.figure.Figure at 0x10b880f28>"
      ]
     },
     "metadata": {},
     "output_type": "display_data"
    }
   ],
   "source": [
    "# plot time slices\n",
    "figure()\n",
    "solrange = len(sol[0,:])\n",
    "num_slices = 20\n",
    "hold(True)\n",
    "slice_range = floor(solrange/num_slices)\n",
    "for ii in range(num_slices):\n",
    "    plot(space, sol[:,ii*slice_range])\n",
    "plot(space, sol[:,-1])\n",
    "# ylim([0,10])\n",
    "rcParams['font.family']='Open Sans'\n",
    "xlabel(\"Position along well\")\n",
    "ylabel(\"Probability\")\n",
    "namestr = 'alpha_' + str(params['ALPHA']) + '__diffu_' + str(params['DCOEFF'])+'__kappa_' +\\\n",
    "str(params['KAPPA'])+'__reacdiam_' +str(params['WELL_DIAM'])+'__potdiam_' + str(params['POT_DIAM'])\n",
    "# savefig(namestr+'.pdf')\n",
    "\n",
    "\n",
    "# figure() \n",
    "# total_conc = sum(sol, axis = 0)\n",
    "# plot(times, total_conc[:-1])\n",
    "# ylabel(\"Total count\")\n",
    "# xlabel(\"time\")"
   ]
  },
  {
   "cell_type": "markdown",
   "metadata": {
    "collapsed": true
   },
   "source": [
    "Right now, this version of the system seems fussier than the version with the power-law time in the normal place. Curiously, the instability appears to propagate from the edge of the reaction zone, rather than the origin."
   ]
  },
  {
   "cell_type": "markdown",
   "metadata": {},
   "source": [
    "## Calculate survial probability timescales"
   ]
  },
  {
   "cell_type": "markdown",
   "metadata": {},
   "source": [
    "This operation is described in detail in the other notebook, **main_rxndiff_solver.ipynb**"
   ]
  },
  {
   "cell_type": "code",
   "execution_count": 19,
   "metadata": {
    "collapsed": true
   },
   "outputs": [],
   "source": [
    "## pick parameter values\n",
    "\n",
    "\n",
    "def timescale_vs_asquared_nondim(well_diams, params, settings, save_full_sol=False):\n",
    "    '''\n",
    "    Estimate the characteristic timescale of the reaction diffusion system \n",
    "    as a function of the well diameter. This code does not save the full \n",
    "    solution for memory reasons.\n",
    "    \n",
    "    INPUTS\n",
    "    ------\n",
    "    \n",
    "    well_diams : array\n",
    "        The different potential well widths at which to run simulations\n",
    "    \n",
    "    params : dict()\n",
    "        All parameters values to use in the integration\n",
    "        \n",
    "   settings : dict()\n",
    "        All of the settings for the integrator\n",
    "        \n",
    "        \n",
    "    RETURNS\n",
    "    -------\n",
    "    \n",
    "    outs : array\n",
    "        Survival probability traces for each value in well_diams\n",
    "    \n",
    "    '''\n",
    "    \n",
    "    # make a defensive copy\n",
    "    params = params.copy()\n",
    "    settings = settings.copy()\n",
    "\n",
    "    allsol = list()\n",
    "    all_timesums = list()\n",
    "    ct = 0\n",
    "\n",
    "    for diam in well_diams:\n",
    "        \n",
    "        params['POT_DIAM'] = diam\n",
    "        space_pts = 100\n",
    "        ACTUAL_LENGTH = 10*params['POT_DIAM']\n",
    "#         ACTUAL_LENGTH = .5\n",
    "        dx = ACTUAL_LENGTH/space_pts\n",
    "        space = linspace(0.0, ACTUAL_LENGTH, space_pts)\n",
    "        space = space+dx\n",
    "    \n",
    "        settings['space'] = space\n",
    "        \n",
    "        # set initial equilibrium conditions\n",
    "        y0 = ones(space_pts)\n",
    "        \n",
    "        # have to re-intialize because r is a generator expression\n",
    "        r = ode(nxt_step, radiff_timeop_nondim).set_integrator('lsoda', with_jacobian=True)\n",
    "        r.set_initial_value(y0, times[0])\n",
    "        r.set_f_params([settings, params])\n",
    "        r.set_jac_params([settings, params])\n",
    "        t1 = times[-1]\n",
    "\n",
    "        sol = list()\n",
    "        while r.successful() and r.t < t1:\n",
    "            r.integrate(r.t+dt)\n",
    "            sol.append(r.y)\n",
    "        sol = array(real(sol)).T\n",
    "\n",
    "        gauss = eq_dist(space, params['POT_DIAM'])\n",
    "        gauss = gauss[:, None]\n",
    "        sol = sol*gauss\n",
    "        \n",
    "#         gauss = (1/sqrt(2*pi*params['POT_DIAM']**2))*exp(-space**2/(4*params['POT_DIAM']**2))\n",
    "#         gauss = gauss[:, None]\n",
    "#         sol = sol*gauss\n",
    "#         radpart = 4*pi*(space**2)\n",
    "#         radpart = radpart[:, None]\n",
    "#         sol = radpart*sol\n",
    "\n",
    "\n",
    "        # integrate out space\n",
    "        timesum = dx*sum(sol, axis = 0)\n",
    "        all_timesums.append( timesum )\n",
    "\n",
    "        if save_full_sol:\n",
    "            allsol.append( sol )\n",
    "        \n",
    "        # report on progress\n",
    "        nn = len(well_diams)\n",
    "        nnind = floor(nn/5)\n",
    "        ct = mod(ct, nnind)\n",
    "        ct += 1\n",
    "        if ct==1: print (diam)\n",
    "    \n",
    "    outs = array(all_timesums)\n",
    "    if save_full_sol:\n",
    "        return [allsol, outs]\n",
    "    else:\n",
    "        return outs\n",
    "\n",
    "\n",
    "\n",
    "def timescale_vs_asquared_vs_kappa(well_diams, kvals, params, settings):\n",
    "    \n",
    "    params = params.copy()\n",
    "    outs = list()\n",
    "    times = settings['times']\n",
    "    dt = times[2] - times[1]\n",
    "    \n",
    "    for kval in kvals:\n",
    "        params['KAPPA'] = kval\n",
    "        tva = timescale_vs_asquared(well_diams, params, settings)\n",
    "        outs.append( dt*sum(tva, axis=1) )\n",
    "        \n",
    "    return outs\n",
    "        \n",
    "\n",
    "def timescale_vs_asquared_vs_rxndiam(well_diams, rxn_diam_vals, params, settings):\n",
    "    \n",
    "    params = params.copy()\n",
    "    outs = list()\n",
    "    times = settings['times']\n",
    "    dt = times[2] - times[1]\n",
    "    \n",
    "    for rxn_diam in rxn_diam_vals:\n",
    "        params['WELL_DIAM'] = rxn_diam\n",
    "        tva = timescale_vs_asquared(well_diams, params, settings)\n",
    "        outs.append( dt*sum(tva, axis=1) )\n",
    "        \n",
    "    return outs"
   ]
  },
  {
   "cell_type": "code",
   "execution_count": 31,
   "metadata": {
    "collapsed": false
   },
   "outputs": [
    {
     "name": "stdout",
     "output_type": "stream",
     "text": [
      "1.0\n"
     ]
    },
    {
     "ename": "KeyboardInterrupt",
     "evalue": "",
     "output_type": "error",
     "traceback": [
      "\u001b[0;31m---------------------------------------------------------------------------\u001b[0m",
      "\u001b[0;31mKeyboardInterrupt\u001b[0m                         Traceback (most recent call last)",
      "\u001b[0;32m<ipython-input-31-50c778a95b50>\u001b[0m in \u001b[0;36m<module>\u001b[0;34m()\u001b[0m\n\u001b[1;32m      9\u001b[0m \u001b[0mwell_diams\u001b[0m \u001b[0;34m=\u001b[0m \u001b[0mexpspace\u001b[0m\u001b[0;34m(\u001b[0m\u001b[0mmin_a_val\u001b[0m\u001b[0;34m,\u001b[0m \u001b[0mmax_a_val\u001b[0m\u001b[0;34m,\u001b[0m \u001b[0ma_npts\u001b[0m\u001b[0;34m)\u001b[0m\u001b[0;34m\u001b[0m\u001b[0m\n\u001b[1;32m     10\u001b[0m \u001b[0;34m\u001b[0m\u001b[0m\n\u001b[0;32m---> 11\u001b[0;31m \u001b[0mout\u001b[0m \u001b[0;34m=\u001b[0m \u001b[0mtimescale_vs_asquared_nondim\u001b[0m\u001b[0;34m(\u001b[0m\u001b[0mwell_diams\u001b[0m\u001b[0;34m,\u001b[0m \u001b[0mparams\u001b[0m\u001b[0;34m,\u001b[0m \u001b[0msettings\u001b[0m\u001b[0;34m,\u001b[0m \u001b[0msave_full_sol\u001b[0m\u001b[0;34m=\u001b[0m\u001b[0;32mFalse\u001b[0m\u001b[0;34m)\u001b[0m\u001b[0;34m\u001b[0m\u001b[0m\n\u001b[0m\u001b[1;32m     12\u001b[0m \u001b[0;34m\u001b[0m\u001b[0m\n\u001b[1;32m     13\u001b[0m \u001b[0;34m\u001b[0m\u001b[0m\n",
      "\u001b[0;32m<ipython-input-19-36fcb9032cc2>\u001b[0m in \u001b[0;36mtimescale_vs_asquared_nondim\u001b[0;34m(well_diams, params, settings, save_full_sol)\u001b[0m\n\u001b[1;32m     61\u001b[0m         \u001b[0msol\u001b[0m \u001b[0;34m=\u001b[0m \u001b[0mlist\u001b[0m\u001b[0;34m(\u001b[0m\u001b[0;34m)\u001b[0m\u001b[0;34m\u001b[0m\u001b[0m\n\u001b[1;32m     62\u001b[0m         \u001b[0;32mwhile\u001b[0m \u001b[0mr\u001b[0m\u001b[0;34m.\u001b[0m\u001b[0msuccessful\u001b[0m\u001b[0;34m(\u001b[0m\u001b[0;34m)\u001b[0m \u001b[0;32mand\u001b[0m \u001b[0mr\u001b[0m\u001b[0;34m.\u001b[0m\u001b[0mt\u001b[0m \u001b[0;34m<\u001b[0m \u001b[0mt1\u001b[0m\u001b[0;34m:\u001b[0m\u001b[0;34m\u001b[0m\u001b[0m\n\u001b[0;32m---> 63\u001b[0;31m             \u001b[0mr\u001b[0m\u001b[0;34m.\u001b[0m\u001b[0mintegrate\u001b[0m\u001b[0;34m(\u001b[0m\u001b[0mr\u001b[0m\u001b[0;34m.\u001b[0m\u001b[0mt\u001b[0m\u001b[0;34m+\u001b[0m\u001b[0mdt\u001b[0m\u001b[0;34m)\u001b[0m\u001b[0;34m\u001b[0m\u001b[0m\n\u001b[0m\u001b[1;32m     64\u001b[0m             \u001b[0msol\u001b[0m\u001b[0;34m.\u001b[0m\u001b[0mappend\u001b[0m\u001b[0;34m(\u001b[0m\u001b[0mr\u001b[0m\u001b[0;34m.\u001b[0m\u001b[0my\u001b[0m\u001b[0;34m)\u001b[0m\u001b[0;34m\u001b[0m\u001b[0m\n\u001b[1;32m     65\u001b[0m         \u001b[0msol\u001b[0m \u001b[0;34m=\u001b[0m \u001b[0marray\u001b[0m\u001b[0;34m(\u001b[0m\u001b[0mreal\u001b[0m\u001b[0;34m(\u001b[0m\u001b[0msol\u001b[0m\u001b[0;34m)\u001b[0m\u001b[0;34m)\u001b[0m\u001b[0;34m.\u001b[0m\u001b[0mT\u001b[0m\u001b[0;34m\u001b[0m\u001b[0m\n",
      "\u001b[0;32m/Users/william/miniconda/envs/spakenv/lib/python3.4/site-packages/scipy/integrate/_ode.py\u001b[0m in \u001b[0;36mintegrate\u001b[0;34m(self, t, step, relax)\u001b[0m\n\u001b[1;32m    392\u001b[0m             self._y, self.t = mth(self.f, self.jac or (lambda: None),\n\u001b[1;32m    393\u001b[0m                                 \u001b[0mself\u001b[0m\u001b[0;34m.\u001b[0m\u001b[0m_y\u001b[0m\u001b[0;34m,\u001b[0m \u001b[0mself\u001b[0m\u001b[0;34m.\u001b[0m\u001b[0mt\u001b[0m\u001b[0;34m,\u001b[0m \u001b[0mt\u001b[0m\u001b[0;34m,\u001b[0m\u001b[0;34m\u001b[0m\u001b[0m\n\u001b[0;32m--> 394\u001b[0;31m                                 self.f_params, self.jac_params)\n\u001b[0m\u001b[1;32m    395\u001b[0m         \u001b[0;32mexcept\u001b[0m \u001b[0mSystemError\u001b[0m\u001b[0;34m:\u001b[0m\u001b[0;34m\u001b[0m\u001b[0m\n\u001b[1;32m    396\u001b[0m             \u001b[0;31m# f2py issue with tuple returns, see ticket 1187.\u001b[0m\u001b[0;34m\u001b[0m\u001b[0;34m\u001b[0m\u001b[0m\n",
      "\u001b[0;32m/Users/william/miniconda/envs/spakenv/lib/python3.4/site-packages/scipy/integrate/_ode.py\u001b[0m in \u001b[0;36mrun\u001b[0;34m(self, f, jac, y0, t0, t1, f_params, jac_params)\u001b[0m\n\u001b[1;32m   1191\u001b[0m         \u001b[0margs\u001b[0m \u001b[0;34m=\u001b[0m \u001b[0;34m[\u001b[0m\u001b[0mf\u001b[0m\u001b[0;34m,\u001b[0m \u001b[0my0\u001b[0m\u001b[0;34m,\u001b[0m \u001b[0mt0\u001b[0m\u001b[0;34m,\u001b[0m \u001b[0mt1\u001b[0m\u001b[0;34m]\u001b[0m \u001b[0;34m+\u001b[0m \u001b[0mself\u001b[0m\u001b[0;34m.\u001b[0m\u001b[0mcall_args\u001b[0m\u001b[0;34m[\u001b[0m\u001b[0;34m:\u001b[0m\u001b[0;34m-\u001b[0m\u001b[0;36m1\u001b[0m\u001b[0;34m]\u001b[0m \u001b[0;34m+\u001b[0m\u001b[0;31m \u001b[0m\u001b[0;31m\\\u001b[0m\u001b[0;34m\u001b[0m\u001b[0m\n\u001b[1;32m   1192\u001b[0m                \u001b[0;34m[\u001b[0m\u001b[0mjac\u001b[0m\u001b[0;34m,\u001b[0m \u001b[0mself\u001b[0m\u001b[0;34m.\u001b[0m\u001b[0mcall_args\u001b[0m\u001b[0;34m[\u001b[0m\u001b[0;34m-\u001b[0m\u001b[0;36m1\u001b[0m\u001b[0;34m]\u001b[0m\u001b[0;34m,\u001b[0m \u001b[0mf_params\u001b[0m\u001b[0;34m,\u001b[0m \u001b[0;36m0\u001b[0m\u001b[0;34m,\u001b[0m \u001b[0mjac_params\u001b[0m\u001b[0;34m]\u001b[0m\u001b[0;34m\u001b[0m\u001b[0m\n\u001b[0;32m-> 1193\u001b[0;31m         \u001b[0my1\u001b[0m\u001b[0;34m,\u001b[0m \u001b[0mt\u001b[0m\u001b[0;34m,\u001b[0m \u001b[0mistate\u001b[0m \u001b[0;34m=\u001b[0m \u001b[0mself\u001b[0m\u001b[0;34m.\u001b[0m\u001b[0mrunner\u001b[0m\u001b[0;34m(\u001b[0m\u001b[0;34m*\u001b[0m\u001b[0margs\u001b[0m\u001b[0;34m)\u001b[0m\u001b[0;34m\u001b[0m\u001b[0m\n\u001b[0m\u001b[1;32m   1194\u001b[0m         \u001b[0;32mif\u001b[0m \u001b[0mistate\u001b[0m \u001b[0;34m<\u001b[0m \u001b[0;36m0\u001b[0m\u001b[0;34m:\u001b[0m\u001b[0;34m\u001b[0m\u001b[0m\n\u001b[1;32m   1195\u001b[0m             warnings.warn('lsoda: ' +\n",
      "\u001b[0;32m/Users/william/Documents/Research/spakowitz_lab/code/fracdiff/brownian_integrator.py\u001b[0m in \u001b[0;36mnxt_step\u001b[0;34m(timepoint, yvals, settings_and_params)\u001b[0m\n\u001b[1;32m     36\u001b[0m     \"\"\"\n\u001b[1;32m     37\u001b[0m     \u001b[0msettings\u001b[0m\u001b[0;34m,\u001b[0m \u001b[0mparams\u001b[0m \u001b[0;34m=\u001b[0m \u001b[0msettings_and_params\u001b[0m\u001b[0;34m\u001b[0m\u001b[0m\n\u001b[0;32m---> 38\u001b[0;31m     \u001b[0mjac\u001b[0m \u001b[0;34m=\u001b[0m \u001b[0mradiff_timeop\u001b[0m\u001b[0;34m(\u001b[0m\u001b[0mtimepoint\u001b[0m\u001b[0;34m,\u001b[0m \u001b[0myvals\u001b[0m\u001b[0;34m,\u001b[0m \u001b[0;34m[\u001b[0m\u001b[0msettings\u001b[0m\u001b[0;34m,\u001b[0m \u001b[0mparams\u001b[0m\u001b[0;34m]\u001b[0m\u001b[0;34m)\u001b[0m\u001b[0;34m\u001b[0m\u001b[0m\n\u001b[0m\u001b[1;32m     39\u001b[0m     \u001b[0mnxt_vals\u001b[0m \u001b[0;34m=\u001b[0m \u001b[0mjac\u001b[0m\u001b[0;34m.\u001b[0m\u001b[0mdot\u001b[0m\u001b[0;34m(\u001b[0m\u001b[0myvals\u001b[0m\u001b[0;34m)\u001b[0m\u001b[0;34m\u001b[0m\u001b[0m\n\u001b[1;32m     40\u001b[0m     \u001b[0;32mreturn\u001b[0m \u001b[0mnxt_vals\u001b[0m\u001b[0;34m\u001b[0m\u001b[0m\n",
      "\u001b[0;32m/Users/william/Documents/Research/spakowitz_lab/code/fracdiff/brownian_integrator.py\u001b[0m in \u001b[0;36mradiff_timeop\u001b[0;34m(timepoint, yvals, settings_and_params)\u001b[0m\n\u001b[1;32m    135\u001b[0m     \u001b[0miden\u001b[0m \u001b[0;34m=\u001b[0m \u001b[0midentity\u001b[0m\u001b[0;34m(\u001b[0m\u001b[0mL\u001b[0m\u001b[0;34m)\u001b[0m\u001b[0;34m\u001b[0m\u001b[0m\n\u001b[1;32m    136\u001b[0m \u001b[0;34m\u001b[0m\u001b[0m\n\u001b[0;32m--> 137\u001b[0;31m     \u001b[0mjac\u001b[0m \u001b[0;34m=\u001b[0m \u001b[0mradiff_spaceop\u001b[0m\u001b[0;34m(\u001b[0m\u001b[0myvals\u001b[0m\u001b[0;34m,\u001b[0m \u001b[0mallspace\u001b[0m\u001b[0;34m,\u001b[0m \u001b[0ma\u001b[0m\u001b[0;34m)\u001b[0m\u001b[0;34m\u001b[0m\u001b[0m\n\u001b[0m\u001b[1;32m    138\u001b[0m     \u001b[0;31m# now multiply by diffusion coefficient and all that\u001b[0m\u001b[0;34m\u001b[0m\u001b[0;34m\u001b[0m\u001b[0m\n\u001b[1;32m    139\u001b[0m     \u001b[0mjac\u001b[0m \u001b[0;34m=\u001b[0m \u001b[0;34m-\u001b[0m\u001b[0mDCOEFF\u001b[0m\u001b[0;34m*\u001b[0m\u001b[0mjac\u001b[0m\u001b[0;34m\u001b[0m\u001b[0m\n",
      "\u001b[0;32m/Users/william/Documents/Research/spakowitz_lab/code/fracdiff/brownian_integrator.py\u001b[0m in \u001b[0;36mradiff_spaceop\u001b[0;34m(yvals, space, pot_diam)\u001b[0m\n\u001b[1;32m     95\u001b[0m \u001b[0;34m\u001b[0m\u001b[0m\n\u001b[1;32m     96\u001b[0m     \u001b[0;31m# first derivative steps\u001b[0m\u001b[0;34m\u001b[0m\u001b[0;34m\u001b[0m\u001b[0m\n\u001b[0;32m---> 97\u001b[0;31m     \u001b[0mdrv\u001b[0m \u001b[0;34m=\u001b[0m \u001b[0mgrad1D\u001b[0m\u001b[0;34m(\u001b[0m\u001b[0mL\u001b[0m\u001b[0;34m)\u001b[0m\u001b[0;34m/\u001b[0m\u001b[0mdx\u001b[0m\u001b[0;34m\u001b[0m\u001b[0m\n\u001b[0m\u001b[1;32m     98\u001b[0m     \u001b[0mjac\u001b[0m \u001b[0;34m+=\u001b[0m \u001b[0;34m(\u001b[0m\u001b[0;36m4\u001b[0m\u001b[0;34m*\u001b[0m\u001b[0mdrv\u001b[0m\u001b[0;34m/\u001b[0m\u001b[0mallspace\u001b[0m\u001b[0;34m)\u001b[0m \u001b[0;34m-\u001b[0m \u001b[0;34m(\u001b[0m\u001b[0;36m3\u001b[0m\u001b[0;34m/\u001b[0m\u001b[0;34m(\u001b[0m\u001b[0;36m4\u001b[0m\u001b[0;34m*\u001b[0m\u001b[0ma\u001b[0m\u001b[0;34m**\u001b[0m\u001b[0;36m2\u001b[0m\u001b[0;34m)\u001b[0m\u001b[0;34m)\u001b[0m\u001b[0;34m*\u001b[0m\u001b[0mallspace\u001b[0m\u001b[0;34m*\u001b[0m\u001b[0mdrv\u001b[0m\u001b[0;34m\u001b[0m\u001b[0m\n\u001b[1;32m     99\u001b[0m \u001b[0;34m\u001b[0m\u001b[0m\n",
      "\u001b[0;31mKeyboardInterrupt\u001b[0m: "
     ]
    }
   ],
   "source": [
    "min_a_val = .001\n",
    "max_a_val = .1\n",
    "\n",
    "min_a_val = 1\n",
    "max_a_val = 100\n",
    "a_npts = 5\n",
    "\n",
    "\n",
    "well_diams = expspace(min_a_val, max_a_val, a_npts)\n",
    "\n",
    "out = timescale_vs_asquared_nondim(well_diams, params, settings, save_full_sol=False)\n",
    "\n",
    "\n",
    "# plot the results\n",
    "loglog(well_diams**2, dt*sum(out, axis=1),'.',markersize=20)\n",
    "ylabel('Survival time')\n",
    "xlabel('a^2 (proportional to molecular weight)')\n",
    "\n",
    "\n",
    "# Why is this exploding?"
   ]
  },
  {
   "cell_type": "code",
   "execution_count": null,
   "metadata": {
    "collapsed": true
   },
   "outputs": [],
   "source": []
  }
 ],
 "metadata": {
  "kernelspec": {
   "display_name": "Python 3",
   "language": "python",
   "name": "python3"
  },
  "language_info": {
   "codemirror_mode": {
    "name": "ipython",
    "version": 3
   },
   "file_extension": ".py",
   "mimetype": "text/x-python",
   "name": "python",
   "nbconvert_exporter": "python",
   "pygments_lexer": "ipython3",
   "version": "3.4.3"
  }
 },
 "nbformat": 4,
 "nbformat_minor": 0
}
