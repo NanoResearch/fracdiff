{
 "cells": [
  {
   "cell_type": "markdown",
   "metadata": {},
   "source": [
    "# Integrate a nondimensional form of the equation"
   ]
  },
  {
   "cell_type": "markdown",
   "metadata": {},
   "source": [
    "This notebook contains the code necessary to call the LSODA integrator on a reparametrized form of the reaction diffusion equation (see the main notebook *main_rxndiff_solver.ipynb* for details). For this notebook, time has been rescaled so that the ugly $t^{1-\\alpha}$ term now appears on the reaction portion as $t^{\\frac{1}{\\alpha} - 1}$. A few other standard rescalings have been performed as well, such that the equation that is being solved looks like:\n",
    "\n",
    "\n",
    "This integrator appears to fail at early times due to an instability that propagates from the edge of the reaction zone. This is different than the behavior of the standard, dimensional form of the reaction-diffusion equation, which appears to fail due to an instability that propagates from the origin\n",
    "\n",
    "*If you are current reading an HTML file, then you are looking at a static snapshot of the .ipynb version of this file.*"
   ]
  },
  {
   "cell_type": "markdown",
   "metadata": {},
   "source": [
    "#### Preamble (Import necessary packages)"
   ]
  },
  {
   "cell_type": "code",
   "execution_count": 1,
   "metadata": {
    "collapsed": false
   },
   "outputs": [
    {
     "name": "stdout",
     "output_type": "stream",
     "text": [
      "Populating the interactive namespace from numpy and matplotlib\n"
     ]
    }
   ],
   "source": [
    "# import matplotlib\n",
    "# matplotlib.use( \"agg\" )\n",
    "%pylab inline\n",
    "\n",
    "import plt_fmt\n",
    "\n",
    "from numba import jit\n",
    "\n",
    "from fig_annotate import *\n",
    "\n",
    "from diffusion_integrator_funcs import *\n",
    "# from frac_brown import *\n",
    "\n",
    "from brownian_integrator import *"
   ]
  },
  {
   "cell_type": "markdown",
   "metadata": {},
   "source": [
    "## Initialize parameter values and run an integration"
   ]
  },
  {
   "cell_type": "code",
   "execution_count": 39,
   "metadata": {
    "collapsed": false
   },
   "outputs": [],
   "source": [
    "from scipy.integrate import ode\n",
    "\n",
    "## pick parameter values\n",
    "params = dict()\n",
    "\n",
    "# alpha less than one\n",
    "params['ALPHA']= .5\n",
    "# width of reactive well\n",
    "params['WELL_DIAM'] = .05\n",
    "# width of overall potential well. smaller this is, the stronger the forcing\n",
    "params['POT_DIAM'] = .05\n",
    "params['KAPPA'] = 0*1e8\n",
    "params['DCOEFF'] = 1.0 # this has been dimensionalized out so it doesn't matter\n",
    "\n",
    "\n",
    "\n",
    "ACTUAL_LENGTH = 10*params['POT_DIAM']\n",
    "\n",
    "# set integrator settings\n",
    "settings = dict()\n",
    "\n",
    "# TIME\n",
    "# remember that these have been rescaled to unusual units\n",
    "time_pts = 1e6\n",
    "start_time = 0.0\n",
    "stop_time = 1e-8\n",
    "times = linspace(start_time, stop_time, time_pts)\n",
    "dt = times[2]-times[1]\n",
    "times = times+dt\n",
    "settings['times'] = times\n",
    "\n",
    "# SPACE\n",
    "space_pts = 100\n",
    "space = linspace(0.0, ACTUAL_LENGTH, space_pts)\n",
    "dx = space[2] - space[1]\n",
    "space = space+dx\n",
    "# settings['dx'] = dx\n",
    "settings['space'] = space\n",
    "\n",
    "# initial conditions\n",
    "y0 = ones(space_pts)\n",
    "\n",
    "# r = ode(nxt_step, jacob).set_integrator('vode', method='bdf', with_jacobian=True)\n",
    "r = ode(nxt_step, radiff_timeop_nondim).set_integrator('lsoda', with_jacobian=True)\n",
    "r.set_initial_value(y0, times[0])\n",
    "\n",
    "r.set_f_params([settings, params])\n",
    "r.set_jac_params([settings, params])\n",
    "\n",
    "t1 = times[-1]\n",
    "sol = list()\n",
    "while r.successful() and r.t < t1:\n",
    "    r.integrate(r.t+dt)\n",
    "    sol.append(r.y)\n",
    "\n",
    "sol = array(real(sol)).T\n",
    "\n",
    "\n",
    "# now multiply through by the equilibrium distribution\n",
    "gauss = eq_dist(space, params['POT_DIAM'])\n",
    "gauss = gauss[:, None]\n",
    "sol = sol*gauss\n"
   ]
  },
  {
   "cell_type": "markdown",
   "metadata": {},
   "source": [
    "## Make plots of solutions"
   ]
  },
  {
   "cell_type": "code",
   "execution_count": 38,
   "metadata": {
    "collapsed": false
   },
   "outputs": [
    {
     "data": {
      "image/png": "[encoded data removed]",
      "text/plain": [
       "<matplotlib.figure.Figure at 0x1094f9fd0>"
      ]
     },
     "metadata": {},
     "output_type": "display_data"
    }
   ],
   "source": [
    "# plot time slices\n",
    "figure()\n",
    "solrange = len(sol[0,:])\n",
    "num_slices = 20\n",
    "hold(True)\n",
    "slice_range = floor(solrange/num_slices)\n",
    "for ii in range(num_slices):\n",
    "    plot(space, sol[:,ii*slice_range])\n",
    "plot(space, sol[:,-1])\n",
    "# ylim([0,10])\n",
    "rcParams['font.family']='Open Sans'\n",
    "xlabel(\"Position along well\")\n",
    "ylabel(\"Probability\")\n",
    "namestr = 'alpha_' + str(params['ALPHA']) + '__diffu_' + str(params['DCOEFF'])+'__kappa_' +\\\n",
    "str(params['KAPPA'])+'__reacdiam_' +str(params['WELL_DIAM'])+'__potdiam_' + str(params['POT_DIAM'])\n",
    "# savefig(namestr+'.pdf')\n",
    "\n",
    "\n",
    "# figure() \n",
    "# total_conc = sum(sol, axis = 0)\n",
    "# plot(times, total_conc[:-1])\n",
    "# ylabel(\"Total count\")\n",
    "# xlabel(\"time\")"
   ]
  },
  {
   "cell_type": "markdown",
   "metadata": {
    "collapsed": true
   },
   "source": [
    "Right now, this version of the system seems fussier than the version with the power-law time in the normal place. Curiously, the instability appears to propagate from the edge of the reaction zone, rather than the origin."
   ]
  },
  {
   "cell_type": "code",
   "execution_count": null,
   "metadata": {
    "collapsed": true
   },
   "outputs": [],
   "source": []
  }
 ],
 "metadata": {
  "kernelspec": {
   "display_name": "Python 3",
   "language": "python",
   "name": "python3"
  },
  "language_info": {
   "codemirror_mode": {
    "name": "ipython",
    "version": 3
   },
   "file_extension": ".py",
   "mimetype": "text/x-python",
   "name": "python",
   "nbconvert_exporter": "python",
   "pygments_lexer": "ipython3",
   "version": "3.4.3"
  }
 },
 "nbformat": 4,
 "nbformat_minor": 0
}
