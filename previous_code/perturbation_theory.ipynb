{
 "cells": [
  {
   "cell_type": "code",
   "execution_count": 1,
   "metadata": {
    "collapsed": false
   },
   "outputs": [
    {
     "name": "stdout",
     "output_type": "stream",
     "text": [
      "Populating the interactive namespace from numpy and matplotlib\n"
     ]
    }
   ],
   "source": [
    "%pylab inline\n",
    "\n",
    "import plt_fmt\n",
    "def matprint(M):\n",
    "    \"\"\"\n",
    "    Makes a pretty printing of a square matrix\n",
    "    \"\"\"\n",
    "    for item in M:\n",
    "        for val in item:\n",
    "            print('{0:.3f}'.format(val).rjust(6),end=\" \")\n",
    "        print('\\n')\n",
    "sin(.1*2*pi)/(2*pi)\n",
    "\n",
    "\n",
    "from scipy.special import gamma, gammainc\n",
    "from math import factorial\n",
    "from scipy.linalg import eig, inv\n",
    "\n",
    "def matcrunch(tmat):\n",
    "    \"\"\"\n",
    "    Given a transition matrix, remove every other column in\n",
    "    order to enforce a symmetry requirement\n",
    "    \"\"\"\n",
    "    newmat = tmat[::2,:]\n",
    "    outmat = newmat[:,::2]\n",
    "    return outmat\n",
    "\n",
    "\n",
    "def expm_exact(mat):\n",
    "    \"\"\"\n",
    "    Given a diagonalizable matrix, compute the exact matrix exponential\n",
    "    \"\"\"\n",
    "    dd = eig(mat)[1]\n",
    "    eigvals = eig(mat)[0]\n",
    "    \n",
    "    exped = diag( exp(eigvals) )\n",
    "    \n",
    "    return real(dd.dot( exped.dot(inv(dd)) ))\n",
    "\n",
    "def dirty_gammainc(k, x):\n",
    "    \"\"\"\n",
    "    A wrapper for the numpy incomplete gamma function that treats\n",
    "    the zero case separately from the other cases\n",
    "    \n",
    "    TODO: treat all integers as special cases with a truncated summation\n",
    "    \n",
    "    k : int\n",
    "    \n",
    "    x : double\n",
    "    \"\"\"\n",
    "    \n",
    "    k = int(k)\n",
    "    \n",
    "    if k == 1:\n",
    "        return exp(-x)\n",
    "    elif k > 1:\n",
    "        return gammainc(k, x)\n",
    "    else:\n",
    "        print (\"Bad input\")\n",
    "        return nan"
   ]
  },
  {
   "cell_type": "code",
   "execution_count": 2,
   "metadata": {
    "collapsed": false
   },
   "outputs": [],
   "source": [
    "from scipy.special import gamma, gammainc\n",
    "from math import factorial\n",
    "from scipy.linalg import eig, inv\n",
    "\n",
    "\n",
    "def expm_exact(mat):\n",
    "    \"\"\"\n",
    "    Given a diagonalizable matrix, compute the exact matrix exponential\n",
    "    \"\"\"\n",
    "    dd = eig(mat)[1]\n",
    "    eigvals = eig(mat)[0]\n",
    "    \n",
    "    exped = diag( exp(eigvals) )\n",
    "    \n",
    "    return real(dd.dot( exped.dot(inv(dd)) ))\n",
    "\n",
    "def dirty_gammainc(k, x):\n",
    "    \"\"\"\n",
    "    A wrapper for the numpy incomplete gamma function that treats\n",
    "    special cases separately from the general case\n",
    "    \n",
    "    k : int\n",
    "    \n",
    "    x : double\n",
    "    \"\"\"\n",
    "    \n",
    "    k = int(k)\n",
    "    \n",
    "    if k == 1:\n",
    "        return exp(-x)\n",
    "    elif k > 1:\n",
    "        return gammainc(k, x)\n",
    "    else:\n",
    "        print (\"Bad input\")\n",
    "        return nan\n",
    "    \n",
    "def dirtier_gammainc(k, x):\n",
    "    \"\"\"\n",
    "    A full alternative to the numpy incomplete gamma function that\n",
    "    avoids taking nasty integrals but which runs slower \n",
    "    and is also terrible.\n",
    "\n",
    "    \n",
    "    k : int\n",
    "    \n",
    "    x : double\n",
    "    \n",
    "    INCOMPLETE CURRENTLY\n",
    "    \"\"\"\n",
    "    \n",
    "    k = int(k)\n",
    "    \n",
    "    if k == 1:\n",
    "        return exp(-x)\n",
    "    elif k > 1:\n",
    "        return gammainc(k, x)\n",
    "    else:\n",
    "        print (\"Bad input\")\n",
    "        return nan\n",
    "\n",
    "def amat(m,n,a=nan,k=nan,L=nan):\n",
    "    \"\"\"\n",
    "    m : int\n",
    "    \n",
    "    n : int\n",
    "    \n",
    "    Defaults are set so that strange behavior occurs unless the \n",
    "    value is explicitly passed\n",
    "    \n",
    "    Terrible rounding errors will occur if m, n are passed as doubles\n",
    "    TODO: Vectorize this properly\n",
    "    \n",
    "    \"\"\"\n",
    "    \n",
    "    if any(isnan((a,k,L))):\n",
    "        print (\"Parameter values were left unset\")\n",
    "    \n",
    "    if m == n == 0:\n",
    "        return -k*a\n",
    "#         return 0\n",
    "\n",
    "    if mod(n-m, 2) != 0:\n",
    "        return 0\n",
    "    \n",
    "    if mod(n+m, 2) != 0:\n",
    "        return 0\n",
    "    \n",
    "    if n == m:\n",
    "        element1 = -k*a + -k*L*((-1)**n*sin(a/L*n*pi))/(n*pi)\n",
    "#         element1 = -k*L*((-1)**n*sin(a/L*n*pi))/(n*pi)\n",
    "    elif (n != 0 and m==0):\n",
    "        element1 = -2*sqrt(2)*k*L*cos(n*pi/2)*sin(a/L*n*pi/2)/(n*pi)\n",
    "    elif (m != 0 and n==0):\n",
    "        element1 = -2*sqrt(2)*k*L*cos(m*pi/2)*sin(a/L*m*pi/2)/(m*pi) \n",
    "    else:   \n",
    "        p1 = int((n+m)/2)\n",
    "        p2 = int((n-m)/2)\n",
    "\n",
    "        element1 = -(k*L/pi)*(   (-1)**p1*sin(pi*p1*a/L)/(2*p1)\\\n",
    "                               +  (-1)**p2*sin(pi*p2*a/L)/(2*p2)       )\n",
    "\n",
    "    return element1\n",
    "amat = vectorize(amat)\n",
    "\n",
    "\n",
    "def gmat(m,n,t=0.0,L=1.0,D=1.0e-1,alp=1.0):\n",
    "    \"\"\"\n",
    "    Calculate the time-dependent part of the state transition matrix\n",
    "    for the square well perturbed system\n",
    "    \n",
    "    make sure that m and n are ints\n",
    "    \n",
    "    TODO: Vectorize this properly\n",
    "    \"\"\"\n",
    "    \n",
    "    if m == n:\n",
    "        element2 = t\n",
    "\n",
    "    else:\n",
    "        (lamb_m, lamb_n) = ( (ind*pi/L)**2 for ind in (m,n) )\n",
    "\n",
    "        denominator = D*(lamb_m - lamb_n)**(1/alp)\n",
    "\n",
    "        numerator = gamma( (alp + 1)/alp ) - \\\n",
    "        (1/alp)*dirty_gammainc(1/alp, (D*(lamb_m - lamb_n))*(t**alp))\n",
    "#         numerator = 1 - exp(-D*t*(lamb_m - lamb_n))\n",
    "\n",
    "        element2 = numerator/denominator\n",
    "\n",
    "    if isnan(element2):\n",
    "        element2 = 0.0\n",
    "        print (\"You got a NaN!: \")\n",
    "        print ((m,n))\n",
    "        print ((numerator,denominator))\n",
    "        print('\\n')\n",
    "\n",
    "\n",
    "    return element2\n",
    "gmat = vectorize(gmat)\n",
    "\n",
    "\n",
    "def eigenfunctions(x, n, L=nan):\n",
    "    \"\"\"\n",
    "    The unperturbed eigenfunctions of the infinite square well\n",
    "    \n",
    "    x : array\n",
    "        array of values over which to define the function\n",
    "        \n",
    "    n : int\n",
    "        the mode to use\n",
    "        \n",
    "    L : double\n",
    "        the width of the confining potential\n",
    "        \n",
    "    Returns\n",
    "    -------\n",
    "    \n",
    "    out : array\n",
    "        A vector sampling of the n^{th} eigenmode of the square well\n",
    "    \n",
    "    \"\"\"\n",
    "    \n",
    "    if n == 0:\n",
    "        return ones(len(x))\n",
    "    elif n > 0:\n",
    "        return sqrt(2)*cos(pi*n*(x/L + 1/2))\n",
    "    else:\n",
    "        print (\"Bad arguments\")\n",
    "        return nan\n",
    "    \n",
    "\n",
    "    \n",
    "def sum_eigen(x, coeff, L=1.0,ignore='none'):\n",
    "    \"\"\"\n",
    "    coeff : array\n",
    "        a vector of coefficients of for the various modes\n",
    "        of the square well\n",
    "    \n",
    "    x : array\n",
    "        The sequence of values over which to construct the function\n",
    "        \n",
    "    Returns\n",
    "    -------\n",
    "    \n",
    "    out : array\n",
    "        A weighted combination of the provided modes\n",
    "    \n",
    "    \"\"\"\n",
    "    \n",
    "    out = zeros(len(x))\n",
    "    \n",
    "    for (ind, c) in enumerate(coeff):\n",
    "        if ignore =='odd':\n",
    "            out += c*eigenfunctions(x, 2*ind, L=L)\n",
    "        elif ignore =='even':\n",
    "            out += c*eigenfunctions(x, 2*ind+1, L=L)\n",
    "        elif ignore == 'none':\n",
    "            out += c*eigenfunctions(x, ind, L=L)\n",
    "        else:\n",
    "            print ('Bad Keyword for ignore')\n",
    "            out += c*eigenfunctions(x, ind, L=L)\n",
    "    \n",
    "    return out\n",
    " \n",
    "\n",
    "def expm2(mat):\n",
    "    \"\"\"\n",
    "    A simple alternative to numpy's matrix exponential function\n",
    "    which uses truncation instead of Pade approximants\n",
    "    \"\"\"\n",
    "    out = 1 + mat + (mat**2)/2 + (mat**3)/6 + (mat**4)/(24)\n",
    "    \n",
    "    return out\n"
   ]
  },
  {
   "cell_type": "code",
   "execution_count": 3,
   "metadata": {
    "collapsed": false
   },
   "outputs": [
    {
     "ename": "NameError",
     "evalue": "name 'amat_delta' is not defined",
     "output_type": "error",
     "traceback": [
      "\u001b[0;31m---------------------------------------------------------------------------\u001b[0m",
      "\u001b[0;31mNameError\u001b[0m                                 Traceback (most recent call last)",
      "\u001b[0;32m<ipython-input-3-9a06dcc9d070>\u001b[0m in \u001b[0;36m<module>\u001b[0;34m()\u001b[0m\n\u001b[1;32m     14\u001b[0m \u001b[0;34m\u001b[0m\u001b[0m\n\u001b[1;32m     15\u001b[0m \u001b[0;31m# pre-compute the little-a matrix\u001b[0m\u001b[0;34m\u001b[0m\u001b[0;34m\u001b[0m\u001b[0m\n\u001b[0;32m---> 16\u001b[0;31m \u001b[0mamat_full\u001b[0m \u001b[0;34m=\u001b[0m \u001b[0mmatcrunch\u001b[0m\u001b[0;34m(\u001b[0m\u001b[0mamat_delta\u001b[0m\u001b[0;34m(\u001b[0m\u001b[0mx\u001b[0m\u001b[0;34m,\u001b[0m\u001b[0my\u001b[0m\u001b[0;34m,\u001b[0m \u001b[0mL\u001b[0m\u001b[0;34m=\u001b[0m\u001b[0mLval\u001b[0m\u001b[0;34m,\u001b[0m\u001b[0ma\u001b[0m\u001b[0;34m=\u001b[0m\u001b[0maval\u001b[0m\u001b[0;34m,\u001b[0m\u001b[0mk\u001b[0m\u001b[0;34m=\u001b[0m\u001b[0mkval\u001b[0m\u001b[0;34m)\u001b[0m\u001b[0;34m)\u001b[0m\u001b[0;34m\u001b[0m\u001b[0m\n\u001b[0m\u001b[1;32m     17\u001b[0m \u001b[0;34m\u001b[0m\u001b[0m\n\u001b[1;32m     18\u001b[0m \u001b[0mfigure\u001b[0m\u001b[0;34m(\u001b[0m\u001b[0;34m)\u001b[0m\u001b[0;34m\u001b[0m\u001b[0m\n",
      "\u001b[0;31mNameError\u001b[0m: name 'amat_delta' is not defined"
     ]
    }
   ],
   "source": [
    "from scipy.linalg import expm\n",
    "\n",
    "n_modes = 150\n",
    "Lval = 1.0e0\n",
    "aval = 0*.321*Lval\n",
    "kval = 1.e11\n",
    "Dval = 1.e-6\n",
    "\n",
    "xvals = linspace(-.5*Lval,.5*Lval,5000)\n",
    "\n",
    "(x,y) = meshgrid(range(n_modes), range(n_modes))\n",
    "\n",
    "times = linspace(0,.0005,5)\n",
    "\n",
    "# pre-compute the little-a matrix\n",
    "amat_full = matcrunch(amat_delta(x,y, L=Lval,a=aval,k=kval))\n",
    "\n",
    "figure()\n",
    "hold(True)\n",
    "for time in times:\n",
    "    gmat_full = matcrunch(gmat(x,y, t=time,L=Lval,D=Dval,alp=1.0))\n",
    "    tmat = expm_exact(amat_full*gmat_full)\n",
    "    coeffs = zeros(n_modes/2) # remove the factor of two if symmetry goes away\n",
    "    coeffs[0] = 1.0\n",
    "    coeffs = tmat.dot(coeffs)\n",
    "    sol = sum_eigen(xvals,coeffs,ignore='odd',L=Lval)\n",
    "    \n",
    "#     gker = (1./7)*ones(7)\n",
    "#     sol = convolve(sol, gker,'same')\n",
    "    plot(xvals, sol,'.')\n",
    "    print(\"time: \" + str(time))\n",
    "\n",
    "xlim([xvals[0], xvals[-1]])\n",
    "# ylim([.955,1.05]) # good for k=5e1, 100 modes\n",
    "# ylim([-.05,1.05]) # good for k=5e1, 100 modes\n",
    "\n",
    "rcParams['font.family'] = 'Myriad Pro Bold'\n",
    "xlabel('Position within well')\n",
    "ylabel('Concentration')\n",
    "# savefig('xxdraining.pdf')"
   ]
  },
  {
   "cell_type": "code",
   "execution_count": 179,
   "metadata": {
    "collapsed": false
   },
   "outputs": [
    {
     "data": {
      "text/plain": [
       "<matplotlib.image.AxesImage at 0x11260b1d0>"
      ]
     },
     "execution_count": 179,
     "metadata": {},
     "output_type": "execute_result"
    },
    {
     "data": {
      "image/png": "[encoded data removed]",
      "text/plain": [
       "<matplotlib.figure.Figure at 0x110633390>"
      ]
     },
     "metadata": {},
     "output_type": "display_data"
    }
   ],
   "source": [
    "imshow(amat(x,y, L=Lval,a=aval,k=kval)[:10,:10])"
   ]
  },
  {
   "cell_type": "markdown",
   "metadata": {},
   "source": [
    "## Simulate coupled coefficients ##"
   ]
  },
  {
   "cell_type": "code",
   "execution_count": 253,
   "metadata": {
    "collapsed": false
   },
   "outputs": [
    {
     "data": {
      "text/plain": [
       "<matplotlib.text.Text at 0x11fe95940>"
      ]
     },
     "execution_count": 253,
     "metadata": {},
     "output_type": "execute_result"
    },
    {
     "data": {
      "image/png": "[encoded data removed]",
      "text/plain": [
       "<matplotlib.figure.Figure at 0x1330129e8>"
      ]
     },
     "metadata": {},
     "output_type": "display_data"
    },
    {
     "data": {
      "image/png": "[encoded data removed]",
      "text/plain": [
       "<matplotlib.figure.Figure at 0x12e33e240>"
      ]
     },
     "metadata": {},
     "output_type": "display_data"
    },
    {
     "data": {
      "image/png": "[encoded data removed]",
      "text/plain": [
       "<matplotlib.figure.Figure at 0x12e3593c8>"
      ]
     },
     "metadata": {},
     "output_type": "display_data"
    }
   ],
   "source": [
    "# WHERE DOES THE DIFFUSION COEFFICIENT GO?\n",
    "\n",
    "n_modes = 40 # number of coupled modes to simulate\n",
    "\n",
    "time_pts = 10000\n",
    "actual_time = .8\n",
    "\n",
    "space_pts = 1000\n",
    "Lval = 1.0\n",
    "\n",
    "def nxt_step_coeff(gvals, dt, amat):\n",
    "    \"\"\"\n",
    "    \n",
    "    gvals : array\n",
    "        the ordered array of values of the coefficients of the various \n",
    "        unperturbed eigenfunctions at the previous timestep\n",
    "        \n",
    "    \"\"\"\n",
    "    \n",
    "    Dc = .06\n",
    "    \n",
    "    Ln = 1.0\n",
    "    \n",
    "    L = len(gvals)\n",
    "    nxt_vals = zeros(L)\n",
    "    \n",
    "    # unperturbed evolution\n",
    "    indices = array([item for item in range(L)])\n",
    "    eigenvalues = Dc*(pi*indices/Ln)**2\n",
    "    eigenvalues[0] = 0.0\n",
    "    nxt_vals += gvals*eigenvalues\n",
    "    \n",
    "    nxt_vals += amat.dot(gvals)\n",
    "   \n",
    "    return gvals + dt*nxt_vals\n",
    "\n",
    "\n",
    "dt = actual_time/time_pts\n",
    "\n",
    "g0 = zeros(n_modes/2)\n",
    "g0[0] = 1.0\n",
    "\n",
    "\n",
    "\n",
    "(x,y) = meshgrid(range(n_modes), range(n_modes))\n",
    "amat_full = matcrunch(amat(x,y, L=Lval,a=.3,k=40))\n",
    "\n",
    "sol = euler_mesh(g0, nxt_step_coeff, 0.0, actual_time, dt, [amat_full])\n",
    "\n",
    "xvals = linspace(-.5,.5,space_pts)\n",
    "\n",
    "mesh_sol = zeros([time_pts, space_pts]) \n",
    "for (rind, row) in enumerate(sol.T):\n",
    "    comb = sum_eigen(xvals,row,ignore='odd',L=1.0)\n",
    "    mesh_sol[rind-1, :] = comb\n",
    "#     plot(xvals, comb)\n",
    "    \n",
    "# ylim([0, 1.05])\n",
    "\n",
    "figure()\n",
    "imshow(mesh_sol.T, aspect='auto')\n",
    "\n",
    "\n",
    "figure()\n",
    "plot(mesh_sol.T[:,0])\n",
    "hold(True)\n",
    "plot(mesh_sol.T[:,10])\n",
    "plot(mesh_sol.T[:,100])\n",
    "plot(mesh_sol.T[:,-1])\n",
    "rcParams['font.family']='Myriad Prodd'\n",
    "xlabel(\"Position along well\")\n",
    "ylabel(\"Concentration\")\n",
    "# savefig('Square well coupled prediction 2.pdf')\n",
    "\n",
    "figure()\n",
    "total_conc = sum(mesh_sol.T,axis=0)\n",
    "plot(total_conc)\n",
    "xlabel(\"time\")\n",
    "ylabel(\"total concentration\")\n"
   ]
  },
  {
   "cell_type": "code",
   "execution_count": null,
   "metadata": {
    "collapsed": true
   },
   "outputs": [],
   "source": [
    "sol = sum_eigen(xvals,coeffs,ignore='odd',L=Lval)\n",
    "plot(xvals, sol,'.')"
   ]
  },
  {
   "cell_type": "code",
   "execution_count": null,
   "metadata": {
    "collapsed": true
   },
   "outputs": [],
   "source": []
  },
  {
   "cell_type": "code",
   "execution_count": null,
   "metadata": {
    "collapsed": true
   },
   "outputs": [],
   "source": []
  },
  {
   "cell_type": "code",
   "execution_count": null,
   "metadata": {
    "collapsed": true
   },
   "outputs": [],
   "source": []
  },
  {
   "cell_type": "code",
   "execution_count": null,
   "metadata": {
    "collapsed": true
   },
   "outputs": [],
   "source": []
  },
  {
   "cell_type": "code",
   "execution_count": 11,
   "metadata": {
    "collapsed": true
   },
   "outputs": [],
   "source": [
    "\n",
    "def amat_delta(m,n,a=nan,k=nan,L=nan):\n",
    "    \"\"\"\n",
    "    m : int\n",
    "    \n",
    "    n : int\n",
    "    \n",
    "    Defaults are set so that strange behavior occurs unless the \n",
    "    value is explicitly passed\n",
    "    \n",
    "    Terrible rounding errors will occur if m, n are passed as doubles\n",
    "    TODO: Vectorize this properly\n",
    "        \n",
    "    \"\"\"\n",
    "    \n",
    "    if any(isnan((a,k,L))):\n",
    "        print (\"Parameter values were left unset\")\n",
    "    \n",
    "    if m == n == 0:\n",
    "        return -k\n",
    "#         return 0\n",
    "\n",
    "    if mod(n-m, 2) != 0:\n",
    "        return 0\n",
    "    \n",
    "    if mod(n+m, 2) != 0:\n",
    "        return 0\n",
    "    \n",
    "    if (n != 0 and m==0):\n",
    "        element1 = -k*sqrt(2)*cos(n*pi/2)\n",
    "    elif (m != 0 and n==0):\n",
    "        element1 = -k*sqrt(2)*cos(m*pi/2)\n",
    "    else:   \n",
    "        p1 = int((n+m)/2)\n",
    "        p2 = int((n-m)/2)\n",
    "\n",
    "        element1 = -k*(   cos(pi*p1) + cos(pi*p2)      )\n",
    "\n",
    "    return element1\n",
    "amat_delta = vectorize(amat_delta)\n"
   ]
  },
  {
   "cell_type": "code",
   "execution_count": null,
   "metadata": {
    "collapsed": true
   },
   "outputs": [],
   "source": []
  },
  {
   "cell_type": "code",
   "execution_count": null,
   "metadata": {
    "collapsed": true
   },
   "outputs": [],
   "source": []
  },
  {
   "cell_type": "code",
   "execution_count": null,
   "metadata": {
    "collapsed": true
   },
   "outputs": [],
   "source": []
  },
  {
   "cell_type": "code",
   "execution_count": null,
   "metadata": {
    "collapsed": true
   },
   "outputs": [],
   "source": [
    "\n",
    "\n",
    "\n",
    "\n",
    "\n",
    "\n",
    "\n",
    "\n",
    "\n",
    "\n",
    "\n",
    "\n",
    "\n",
    "\n"
   ]
  },
  {
   "cell_type": "markdown",
   "metadata": {
    "collapsed": true
   },
   "source": [
    "## 1D harmonic potential"
   ]
  },
  {
   "cell_type": "code",
   "execution_count": 4,
   "metadata": {
    "collapsed": false
   },
   "outputs": [],
   "source": [
    "from scipy.special import binom, hermite, factorial\n",
    "\n",
    "def harmonic_eigenfunctions(x,n,betak=1.0):  \n",
    "    values = sqrt(sqrt(betak)/(factorial(n)*2**n*sqrt(2*pi)))*exp(-(1/4)*betak*x**2)*hermite(n)(x)\n",
    "    return values\n",
    "\n",
    "def gmat(m,n,t=0.0, D=nan, alp=nan, betak=nan):\n",
    "    \"\"\"\n",
    "    Calculate the time-dependent part of the state transition matrix\n",
    "    for the square well perturbed system\n",
    "    \n",
    "    make sure that m and n are ints\n",
    "    \n",
    "    TODO: Vectorize this properly\n",
    "    \"\"\"\n",
    "    \n",
    "    assert ~any(isnan([D, alp, betak]))\n",
    "    \n",
    "    if m == n:\n",
    "        element2 = t\n",
    "\n",
    "    else:\n",
    "        (lamb_m, lamb_n) = ( ind*betak for ind in (m,n) )\n",
    "\n",
    "        denominator = D*(lamb_m - lamb_n)**(1/alp)\n",
    "\n",
    "        numerator = gamma( (alp + 1)/alp ) - \\\n",
    "        (1/alp)*dirty_gammainc(1/alp, (D*(lamb_m - lamb_n))*(t**alp))\n",
    "#         numerator = 1 - exp(-D*t*(lamb_m - lamb_n))\n",
    "\n",
    "        element2 = numerator/denominator\n",
    "    \n",
    "    assert ~isnan(element2)\n",
    "    return element2\n",
    "gmat = vectorize(gmat)\n",
    "\n",
    "def amat_1dharmonic(m, n, kappa=nan, gam=nan):\n",
    "    \"\"\"\n",
    "    Generate the matrix elements for a first-order reaction perturbation\n",
    "    to a harmonic potential\n",
    "    \n",
    "    This code has been checked agains Mathematica for correctness\n",
    "    \"\"\"\n",
    "    # Don't bother with the odd elements for now\n",
    "    if mod(n,2)!=0:\n",
    "        tot = 0\n",
    "    elif mod(m,2)!=0:\n",
    "        tot = 0\n",
    "    else:\n",
    "        # swap indices if binomial theorem is going to break down\n",
    "        if m<n:\n",
    "            (m,n) = (n,m)\n",
    "\n",
    "        tot = 0.0\n",
    "        for k in range(0,n+1):\n",
    "            weirdex = m - n + 2.*k\n",
    "            tot += binom(m, n-k) * (1/(2.**k * factorial(k))) * sqrt(pi/(gam+1))*\\\n",
    "            (factorial(weirdex)/factorial(weirdex/2)) * ((-gam/(1+gam))**(weirdex/2.))\n",
    "        tot = (2**n)*factorial(n)*tot\n",
    "        tot = (-kappa/sqrt(pi))*sqrt(1/(factorial(n)*factorial(m)))*sqrt(1/(2**(m+n)))*tot\n",
    "        \n",
    "    return tot\n",
    "amat_1dharmonic = vectorize(amat_1dharmonic)\n",
    "\n",
    "def sum_eigen_harmonic(x, coeff, betak=nan, ignore='none'):\n",
    "    \"\"\"\n",
    "    coeff : array\n",
    "        a vector of coefficients of for the various modes\n",
    "        of the harmonicwell\n",
    "    \n",
    "    x : array\n",
    "        The sequence of values over which to construct the function\n",
    "        \n",
    "    Returns\n",
    "    -------\n",
    "    \n",
    "    out : array\n",
    "        A weighted combination of the provided modes\n",
    "    \n",
    "    \"\"\"\n",
    "    \n",
    "    out = zeros(len(x))\n",
    "    \n",
    "    for (ind, c) in enumerate(coeff):\n",
    "        if ignore =='odd':\n",
    "            out += c*harmonic_eigenfunctions(x, 2*ind, betak=betak)\n",
    "        elif ignore =='even':\n",
    "            out += c*harmonic_eigenfunctionss(x, 2*ind+1, betak=betak)\n",
    "        elif ignore == 'none':\n",
    "            out += c*harmonic_eigenfunctions(x, ind, betak=betak)\n",
    "        else:\n",
    "            print ('Bad Keyword for ignore')\n",
    "            out += c*harmonic_eigenfunctions(x, ind,  betak=betak)\n",
    "    \n",
    "    return out"
   ]
  },
  {
   "cell_type": "code",
   "execution_count": 47,
   "metadata": {
    "collapsed": false,
    "scrolled": true
   },
   "outputs": [
    {
     "name": "stdout",
     "output_type": "stream",
     "text": [
      "time: 0.0\n",
      "time: 0.0002\n",
      "time: 0.0004\n"
     ]
    },
    {
     "data": {
      "text/plain": [
       "<matplotlib.text.Text at 0x10764ca20>"
      ]
     },
     "execution_count": 47,
     "metadata": {},
     "output_type": "execute_result"
    },
    {
     "data": {
      "image/png": "[encoded data removed]",
      "text/plain": [
       "<matplotlib.figure.Figure at 0x108dc54a8>"
      ]
     },
     "metadata": {},
     "output_type": "display_data"
    }
   ],
   "source": [
    "n_modes = 20\n",
    "gamval = 1e8\n",
    "kval = 1.e6\n",
    "Dval = 1.e1\n",
    "bk = 100\n",
    "Lval=1.0\n",
    "alpval = 1.0\n",
    "\n",
    "xvals = linspace(-2*Lval,2**Lval,5000)\n",
    "\n",
    "(x,y) = meshgrid(range(n_modes), range(n_modes))\n",
    "\n",
    "times = linspace(0,.0004,3)\n",
    "\n",
    "# pre-compute the little-a matrix\n",
    "amat_full = matcrunch(amat_1dharmonic(x,y, gam=gamval,kappa=kval))\n",
    "\n",
    "all_coeffs = list()\n",
    "\n",
    "figure()\n",
    "hold(True)\n",
    "for time in times:\n",
    "    gmat_full = matcrunch(gmat(x,y, t=time,betak=bk, D=Dval, alp=alpval))\n",
    "    tmat = expm_exact(amat_full*gmat_full)\n",
    "    coeffs = zeros(n_modes/2) # remove the factor of two if symmetry goes away\n",
    "    coeffs[0] = 1.0\n",
    "    coeffs = tmat.dot(coeffs)\n",
    "    sol = sum_eigen_harmonic(xvals,coeffs,ignore='odd', betak=bk)\n",
    "    plot(xvals, sol,'.')\n",
    "    all_coeffs.append(coeffs)\n",
    "#     plot(time,sum(coeffs),'.',markersize=20)\n",
    "    print(\"time: \" + str(time))\n",
    "\n",
    "xlim([-.5*Lval, .5*Lval])\n",
    "\n",
    "rcParams['font.family'] = 'Myriad Pro Bold'\n",
    "xlabel('Position within well')\n",
    "ylabel('Concentration')\n",
    "# savefig('xxdraining.pdf')"
   ]
  },
  {
   "cell_type": "code",
   "execution_count": 46,
   "metadata": {
    "collapsed": false
   },
   "outputs": [
    {
     "name": "stdout",
     "output_type": "stream",
     "text": [
      "\n"
     ]
    },
    {
     "data": {
      "image/png": "[encoded data removed]",
      "text/plain": [
       "<matplotlib.figure.Figure at 0x108db9c88>"
      ]
     },
     "metadata": {},
     "output_type": "display_data"
    }
   ],
   "source": [
    "plot(array(all_coeffs))\n",
    "print('')"
   ]
  },
  {
   "cell_type": "markdown",
   "metadata": {
    "collapsed": true
   },
   "source": [
    "The first row of the matrix that operates on the stationary state, the elements of this first frow are responsible for hte spreading"
   ]
  },
  {
   "cell_type": "code",
   "execution_count": 38,
   "metadata": {
    "collapsed": false
   },
   "outputs": [
    {
     "data": {
      "text/plain": [
       "<matplotlib.image.AxesImage at 0x108a86048>"
      ]
     },
     "execution_count": 38,
     "metadata": {},
     "output_type": "execute_result"
    },
    {
     "data": {
      "image/png": "[encoded data removed]",
      "text/plain": [
       "<matplotlib.figure.Figure at 0x107d97780>"
      ]
     },
     "metadata": {},
     "output_type": "display_data"
    }
   ],
   "source": [
    "imshow(tmat)"
   ]
  },
  {
   "cell_type": "code",
   "execution_count": 40,
   "metadata": {
    "collapsed": false
   },
   "outputs": [
    {
     "data": {
      "text/plain": [
       "[<matplotlib.lines.Line2D at 0x108b510f0>]"
      ]
     },
     "execution_count": 40,
     "metadata": {},
     "output_type": "execute_result"
    },
    {
     "data": {
      "image/png": "[encoded data removed]",
      "text/plain": [
       "<matplotlib.figure.Figure at 0x108af0630>"
      ]
     },
     "metadata": {},
     "output_type": "display_data"
    }
   ],
   "source": [
    "plot(tmat[0,:])\n",
    "hold(True)\n",
    "plot(tmat[:, 0])"
   ]
  },
  {
   "cell_type": "code",
   "execution_count": 43,
   "metadata": {
    "collapsed": false
   },
   "outputs": [
    {
     "data": {
      "text/plain": [
       "[<matplotlib.lines.Line2D at 0x108d73128>]"
      ]
     },
     "execution_count": 43,
     "metadata": {},
     "output_type": "execute_result"
    },
    {
     "data": {
      "image/png": "[encoded data removed]",
      "text/plain": [
       "<matplotlib.figure.Figure at 0x108d2ae10>"
      ]
     },
     "metadata": {},
     "output_type": "display_data"
    }
   ],
   "source": [
    "plot(amat_full[0,:])\n",
    "hold(True)\n",
    "plot(amat_full[:, 0])"
   ]
  },
  {
   "cell_type": "code",
   "execution_count": null,
   "metadata": {
    "collapsed": true
   },
   "outputs": [],
   "source": []
  }
 ],
 "metadata": {
  "kernelspec": {
   "display_name": "Python 3",
   "language": "python",
   "name": "python3"
  },
  "language_info": {
   "codemirror_mode": {
    "name": "ipython",
    "version": 3
   },
   "file_extension": ".py",
   "mimetype": "text/x-python",
   "name": "python",
   "nbconvert_exporter": "python",
   "pygments_lexer": "ipython3",
   "version": "3.4.3"
  }
 },
 "nbformat": 4,
 "nbformat_minor": 0
}
