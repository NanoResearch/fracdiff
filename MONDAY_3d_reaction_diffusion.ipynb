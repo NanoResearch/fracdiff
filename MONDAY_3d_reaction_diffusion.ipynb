{
 "cells": [
  {
   "cell_type": "markdown",
   "metadata": {},
   "source": [
    "##### Preamble/Imports"
   ]
  },
  {
   "cell_type": "code",
   "execution_count": 1,
   "metadata": {
    "collapsed": false
   },
   "outputs": [
    {
     "name": "stdout",
     "output_type": "stream",
     "text": [
      "Populating the interactive namespace from numpy and matplotlib\n"
     ]
    }
   ],
   "source": [
    "import matplotlib\n",
    "matplotlib.use( \"agg\" )\n",
    "%pylab inline\n",
    "\n",
    "import plt_fmt\n",
    "\n",
    "from numba import jit"
   ]
  },
  {
   "cell_type": "markdown",
   "metadata": {},
   "source": [
    "# Three-dimensional radial equation"
   ]
  },
  {
   "cell_type": "code",
   "execution_count": 2,
   "metadata": {
    "collapsed": false
   },
   "outputs": [],
   "source": [
    "# assume we're sticking within the first spherical harmonic, which is a constant\n",
    "\n",
    "def smoothstep(x,center=1.0,sharpness=1.0):\n",
    "    return 1-1/(1+exp(-x+center))**sharpness\n",
    "\n",
    "# @jit\n",
    "def lap2d(npts):\n",
    "    \"\"\"\n",
    "    Build a central-difference laplace operator. Use a higher-order forward difference\n",
    "    operator at the edges\n",
    "    http://en.wikipedia.org/wiki/Finite_difference_coefficient\n",
    "    \"\"\"\n",
    "    op = zeros([npts, npts])\n",
    "    a = -2*ones((1, npts))[0]\n",
    "    b = ones((1, npts-1))[0]\n",
    "    op = diag(a, 0) + np.diag(b, -1) + np.diag(b, 1)\n",
    "    op[0,1] = 2\n",
    "    \n",
    "    op[0,0] = 2\n",
    "    op[0,1] = 5\n",
    "    op[0,2] = 4\n",
    "    op[0,3] = 1\n",
    "    \n",
    "    \n",
    "    op[-1,-2] = 2\n",
    "    \n",
    "    \n",
    "    return op\n",
    "\n",
    "# @jit\n",
    "def grad1D(npts):\n",
    "    \"\"\"\n",
    "    Build a central-difference derivative operator. Use a higher-order forward difference\n",
    "    operator at the edges\n",
    "    http://en.wikipedia.org/wiki/Finite_difference_coefficient\n",
    "    \"\"\"\n",
    "    op = zeros([npts, npts])\n",
    "    a = zeros((1, npts))[0]\n",
    "    b = .5*ones((1, npts-1))[0]\n",
    "    op = diag(a, 0) + np.diag(b, -1) + np.diag(b, 1)\n",
    "    \n",
    "    op[0,0] = 0.\n",
    "    op[0,1] = 1.\n",
    "    \n",
    "    op[0,0] = -1.5\n",
    "    op[0,1] = 2.0\n",
    "    op[0,2] = -.5\n",
    "    \n",
    "    op[-1,-1] = 1.\n",
    "    op[-1,-2] = 0.\n",
    "    return op\n",
    "\n",
    "# @jit\n",
    "def jacob(timepoint, yvals, settings_and_params):\n",
    "    \"\"\"\n",
    "    Operator form of a system of coupled differential equations in one variable\n",
    "    \"\"\"\n",
    "    \n",
    "    settings, params = settings_and_params\n",
    "    \n",
    "    allspace = settings['space']\n",
    "    dx = allspace[2]-allspace[1]\n",
    "    \n",
    "    WELL_DIAM = params['WELL_DIAM']\n",
    "    POT_DIAM = params['POT_DIAM']\n",
    "    KAPPA = params['KAPPA']\n",
    "    DCOEFF = params['DCOEFF']\n",
    "    ALPHA = params['ALPHA']\n",
    "    \n",
    "    DCOEFF = ALPHA*(timepoint**(ALPHA-1))*DCOEFF\n",
    "    \n",
    "    # remove this and change allspace\n",
    "    a = POT_DIAM\n",
    "\n",
    "    L = len(space)\n",
    "    \n",
    "    # second derivative step\n",
    "    lap = lap2d(L)/dx**2\n",
    "    jac = lap\n",
    "    \n",
    "    \n",
    "    # first derivative steps\n",
    "    drv = grad1D(L)/dx\n",
    "    jac += (4*drv/allspace) - (3/(4*a**2))*allspace*drv\n",
    "    \n",
    "    \n",
    "    # other steps\n",
    "    iden = identity(L)\n",
    "    jac += (1/(8*a**4))*(allspace**2)*iden\n",
    "    jac += -(1/a**2)*iden\n",
    "    # assume \\ell = 0\n",
    "    jac += (2/(allspace**2))*iden\n",
    "    \n",
    "    \n",
    "    # now multiply by diffusion coefficient and all that\n",
    "    jac = -DCOEFF*jac\n",
    "    \n",
    "    # now implement reaction step\n",
    "    drain_window = double(allspace < WELL_DIAM)\n",
    "    \n",
    "    allinds = linspace(0,len(allspace),len(allspace))\n",
    "    drain_window = smoothstep(allinds,center = sum(drain_window),sharpness=3)\n",
    "\n",
    "    jac += -KAPPA*drain_window*iden\n",
    "    \n",
    "    \n",
    "#     # now implement boundary conditions\n",
    "#     jac[0,:] = jac[1,:]\n",
    "#     jac[-1,:] = jac[-2,:]\n",
    "    \n",
    "    return jac\n",
    "\n",
    "\n",
    "def nxt_step(yvals, timepoint, dt, settings, params):\n",
    "    \"\"\"\n",
    "    Return a space-discretized approximation of the differential equation\n",
    "    at the given timepoint. Our equation happens to be linear, and so the next\n",
    "    step is given by a simple dot product with the relevant operator\n",
    "    \"\"\"\n",
    "    jac = jacob(timepoint, yvals, [settings, params])\n",
    "    nxt_vals = jac.dot(yvals)\n",
    "    return nxt_vals\n",
    "\n",
    "def rk4_mesh(yinit, ynxt, settings, params):\n",
    "    \"\"\"\n",
    "    ynxt : function\n",
    "        The function that computes the next step in the forward march\n",
    "    \n",
    "    dt : double\n",
    "        The spatial step\n",
    "        \n",
    "    dx : double\n",
    "        The time step size\n",
    "        \n",
    "    use_crank : boolean\n",
    "        Whether to use Crank-Nicolson forward marching, in which the next timestep\n",
    "        is determined by equal weights of the previous two timesteps. If not, the\n",
    "        integrator uses standard Forward Euler\n",
    "        \n",
    "    settings : dict\n",
    "        A dictionary containing all the necessary steps and \n",
    "        objects for the integration\n",
    "        \n",
    "    params : dict\n",
    "        A dictionary containing all the necessary parameters for the \n",
    "        differential equation system.\n",
    "        \n",
    "    \"\"\"\n",
    "    use_crank = True\n",
    "    \n",
    "    space = settings['space']\n",
    "    times = settings['times']\n",
    "    dt = times[2] - times[1]\n",
    "    \n",
    "    solmesh = zeros([len(yinit), len(times)])\n",
    "    solmesh[:,0] = yinit\n",
    "    tL = len(solmesh[0,:])\n",
    "    for tind, time in enumerate(times):\n",
    "        if tind > 0 and tind < tL:\n",
    "            \n",
    "            if use_crank == False:\n",
    "                ind_list = [1]\n",
    "                wgt = 1.0\n",
    "            else:\n",
    "                ind_list = [1,2]\n",
    "                wgt = .5\n",
    "            \n",
    "            solmesh[:,tind] = solmesh[:,tind-1]\n",
    "            for ii in ind_list:\n",
    "                k1 = ynxt( solmesh[:,tind-ii], time, dt, settings, params)          \n",
    "                k2 = ynxt( solmesh[:,tind-ii]+ 0.5*k1, time + 0.5*dt, dt, settings, params)\n",
    "                k3 = ynxt( solmesh[:,tind-ii]+ 0.5*k2, time + 0.5*dt, dt, settings, params)\n",
    "                k4 = ynxt( solmesh[:,tind-ii]+ k3, time+dt, dt, settings, params)\n",
    "                solmesh[:,tind] += wgt*dt*(k1 + 2.0*(k2 + k3) + k4)/6.0\n",
    "    \n",
    "    # get gaussian part\n",
    "    gausspart = tile(exp(-space**2/(4*params['POT_DIAM']**2)),(tL,1)).T\n",
    "    solmesh = solmesh*gausspart\n",
    "    \n",
    "    # now convert to pdf\n",
    "    radpart = tile(4*pi*(space**2),(tL,1)).T\n",
    "    solmesh = radpart*solmesh\n",
    "    return solmesh\n",
    "    \n",
    "def euler_mesh(yinit, ynxt, settings, params):\n",
    "    \"\"\"\n",
    "    ynxt : function\n",
    "        The function that returns the discrete derivative at a given timepoint\n",
    "    \n",
    "    dt : double\n",
    "        The spatial step\n",
    "        \n",
    "    dx : double\n",
    "        The time step size\n",
    "    \"\"\"\n",
    "    \n",
    "    space = settings['space']\n",
    "    times = settings['times']\n",
    "    dt = times[2] - times[1]\n",
    "\n",
    "    solmesh = zeros([len(yinit), len(times)])\n",
    "    solmesh[:,0] = yinit\n",
    "    tL = len(solmesh[0,:])\n",
    "    for tind, time in enumerate(times):\n",
    "        if tind > 0 and tind < tL:\n",
    "            solmesh[:,tind] = solmesh[:,tind-1] + dt*ynxt( solmesh[:,tind-1], time, dt, settings, params)\n",
    "    \n",
    "    # get gaussian part\n",
    "    gausspart = tile(exp(-space**2/(4*params['POT_DIAM']**2)),(tL,1)).T\n",
    "    solmesh = solmesh*gausspart\n",
    "    \n",
    "    # now convert to pdf\n",
    "    radpart = tile(4*pi*(space**2),(tL,1)).T\n",
    "    solmesh = radpart*solmesh\n",
    "    return solmesh"
   ]
  },
  {
   "cell_type": "code",
   "execution_count": 3,
   "metadata": {
    "collapsed": false
   },
   "outputs": [
    {
     "ename": "KeyboardInterrupt",
     "evalue": "",
     "output_type": "error",
     "traceback": [
      "\u001b[0;31m---------------------------------------------------------------------------\u001b[0m",
      "\u001b[0;31mKeyboardInterrupt\u001b[0m                         Traceback (most recent call last)",
      "\u001b[0;32m<ipython-input-3-4d322a6c5a91>\u001b[0m in \u001b[0;36m<module>\u001b[0;34m()\u001b[0m\n\u001b[1;32m     35\u001b[0m \u001b[0msettings\u001b[0m\u001b[0;34m[\u001b[0m\u001b[0;34m'times'\u001b[0m\u001b[0;34m]\u001b[0m \u001b[0;34m=\u001b[0m \u001b[0mtimes\u001b[0m\u001b[0;34m\u001b[0m\u001b[0m\n\u001b[1;32m     36\u001b[0m \u001b[0;34m\u001b[0m\u001b[0m\n\u001b[0;32m---> 37\u001b[0;31m \u001b[0msol\u001b[0m \u001b[0;34m=\u001b[0m \u001b[0mrk4_mesh\u001b[0m\u001b[0;34m(\u001b[0m\u001b[0my0\u001b[0m\u001b[0;34m,\u001b[0m \u001b[0mnxt_step\u001b[0m\u001b[0;34m,\u001b[0m \u001b[0msettings\u001b[0m\u001b[0;34m,\u001b[0m \u001b[0mparams\u001b[0m\u001b[0;34m)\u001b[0m\u001b[0;34m\u001b[0m\u001b[0m\n\u001b[0m\u001b[1;32m     38\u001b[0m \u001b[0;34m\u001b[0m\u001b[0m\n\u001b[1;32m     39\u001b[0m \u001b[0mprint\u001b[0m \u001b[0;34m(\u001b[0m\u001b[0;34m\"Done\"\u001b[0m\u001b[0;34m)\u001b[0m\u001b[0;34m\u001b[0m\u001b[0m\n",
      "\u001b[0;32m<ipython-input-2-b420da0528da>\u001b[0m in \u001b[0;36mrk4_mesh\u001b[0;34m(yinit, ynxt, settings, params)\u001b[0m\n\u001b[1;32m    169\u001b[0m             \u001b[0;32mfor\u001b[0m \u001b[0mii\u001b[0m \u001b[0;32min\u001b[0m \u001b[0mind_list\u001b[0m\u001b[0;34m:\u001b[0m\u001b[0;34m\u001b[0m\u001b[0m\n\u001b[1;32m    170\u001b[0m                 \u001b[0mk1\u001b[0m \u001b[0;34m=\u001b[0m \u001b[0mynxt\u001b[0m\u001b[0;34m(\u001b[0m \u001b[0msolmesh\u001b[0m\u001b[0;34m[\u001b[0m\u001b[0;34m:\u001b[0m\u001b[0;34m,\u001b[0m\u001b[0mtind\u001b[0m\u001b[0;34m-\u001b[0m\u001b[0mii\u001b[0m\u001b[0;34m]\u001b[0m\u001b[0;34m,\u001b[0m \u001b[0mtime\u001b[0m\u001b[0;34m,\u001b[0m \u001b[0mdt\u001b[0m\u001b[0;34m,\u001b[0m \u001b[0msettings\u001b[0m\u001b[0;34m,\u001b[0m \u001b[0mparams\u001b[0m\u001b[0;34m)\u001b[0m\u001b[0;34m\u001b[0m\u001b[0m\n\u001b[0;32m--> 171\u001b[0;31m                 \u001b[0mk2\u001b[0m \u001b[0;34m=\u001b[0m \u001b[0mynxt\u001b[0m\u001b[0;34m(\u001b[0m \u001b[0msolmesh\u001b[0m\u001b[0;34m[\u001b[0m\u001b[0;34m:\u001b[0m\u001b[0;34m,\u001b[0m\u001b[0mtind\u001b[0m\u001b[0;34m-\u001b[0m\u001b[0mii\u001b[0m\u001b[0;34m]\u001b[0m\u001b[0;34m+\u001b[0m \u001b[0;36m0.5\u001b[0m\u001b[0;34m*\u001b[0m\u001b[0mk1\u001b[0m\u001b[0;34m,\u001b[0m \u001b[0mtime\u001b[0m \u001b[0;34m+\u001b[0m \u001b[0;36m0.5\u001b[0m\u001b[0;34m*\u001b[0m\u001b[0mdt\u001b[0m\u001b[0;34m,\u001b[0m \u001b[0mdt\u001b[0m\u001b[0;34m,\u001b[0m \u001b[0msettings\u001b[0m\u001b[0;34m,\u001b[0m \u001b[0mparams\u001b[0m\u001b[0;34m)\u001b[0m\u001b[0;34m\u001b[0m\u001b[0m\n\u001b[0m\u001b[1;32m    172\u001b[0m                 \u001b[0mk3\u001b[0m \u001b[0;34m=\u001b[0m \u001b[0mynxt\u001b[0m\u001b[0;34m(\u001b[0m \u001b[0msolmesh\u001b[0m\u001b[0;34m[\u001b[0m\u001b[0;34m:\u001b[0m\u001b[0;34m,\u001b[0m\u001b[0mtind\u001b[0m\u001b[0;34m-\u001b[0m\u001b[0mii\u001b[0m\u001b[0;34m]\u001b[0m\u001b[0;34m+\u001b[0m \u001b[0;36m0.5\u001b[0m\u001b[0;34m*\u001b[0m\u001b[0mk2\u001b[0m\u001b[0;34m,\u001b[0m \u001b[0mtime\u001b[0m \u001b[0;34m+\u001b[0m \u001b[0;36m0.5\u001b[0m\u001b[0;34m*\u001b[0m\u001b[0mdt\u001b[0m\u001b[0;34m,\u001b[0m \u001b[0mdt\u001b[0m\u001b[0;34m,\u001b[0m \u001b[0msettings\u001b[0m\u001b[0;34m,\u001b[0m \u001b[0mparams\u001b[0m\u001b[0;34m)\u001b[0m\u001b[0;34m\u001b[0m\u001b[0m\n\u001b[1;32m    173\u001b[0m                 \u001b[0mk4\u001b[0m \u001b[0;34m=\u001b[0m \u001b[0mynxt\u001b[0m\u001b[0;34m(\u001b[0m \u001b[0msolmesh\u001b[0m\u001b[0;34m[\u001b[0m\u001b[0;34m:\u001b[0m\u001b[0;34m,\u001b[0m\u001b[0mtind\u001b[0m\u001b[0;34m-\u001b[0m\u001b[0mii\u001b[0m\u001b[0;34m]\u001b[0m\u001b[0;34m+\u001b[0m \u001b[0mk3\u001b[0m\u001b[0;34m,\u001b[0m \u001b[0mtime\u001b[0m\u001b[0;34m+\u001b[0m\u001b[0mdt\u001b[0m\u001b[0;34m,\u001b[0m \u001b[0mdt\u001b[0m\u001b[0;34m,\u001b[0m \u001b[0msettings\u001b[0m\u001b[0;34m,\u001b[0m \u001b[0mparams\u001b[0m\u001b[0;34m)\u001b[0m\u001b[0;34m\u001b[0m\u001b[0m\n",
      "\u001b[0;32m<ipython-input-2-b420da0528da>\u001b[0m in \u001b[0;36mnxt_step\u001b[0;34m(yvals, timepoint, dt, settings, params)\u001b[0m\n\u001b[1;32m    118\u001b[0m     \u001b[0mstep\u001b[0m \u001b[0;32mis\u001b[0m \u001b[0mgiven\u001b[0m \u001b[0mby\u001b[0m \u001b[0ma\u001b[0m \u001b[0msimple\u001b[0m \u001b[0mdot\u001b[0m \u001b[0mproduct\u001b[0m \u001b[0;32mwith\u001b[0m \u001b[0mthe\u001b[0m \u001b[0mrelevant\u001b[0m \u001b[0moperator\u001b[0m\u001b[0;34m\u001b[0m\u001b[0m\n\u001b[1;32m    119\u001b[0m     \"\"\"\n\u001b[0;32m--> 120\u001b[0;31m     \u001b[0mjac\u001b[0m \u001b[0;34m=\u001b[0m \u001b[0mjacob\u001b[0m\u001b[0;34m(\u001b[0m\u001b[0mtimepoint\u001b[0m\u001b[0;34m,\u001b[0m \u001b[0myvals\u001b[0m\u001b[0;34m,\u001b[0m \u001b[0;34m[\u001b[0m\u001b[0msettings\u001b[0m\u001b[0;34m,\u001b[0m \u001b[0mparams\u001b[0m\u001b[0;34m]\u001b[0m\u001b[0;34m)\u001b[0m\u001b[0;34m\u001b[0m\u001b[0m\n\u001b[0m\u001b[1;32m    121\u001b[0m     \u001b[0mnxt_vals\u001b[0m \u001b[0;34m=\u001b[0m \u001b[0mjac\u001b[0m\u001b[0;34m.\u001b[0m\u001b[0mdot\u001b[0m\u001b[0;34m(\u001b[0m\u001b[0myvals\u001b[0m\u001b[0;34m)\u001b[0m\u001b[0;34m\u001b[0m\u001b[0m\n\u001b[1;32m    122\u001b[0m     \u001b[0;32mreturn\u001b[0m \u001b[0mnxt_vals\u001b[0m\u001b[0;34m\u001b[0m\u001b[0m\n",
      "\u001b[0;32m<ipython-input-2-b420da0528da>\u001b[0m in \u001b[0;36mjacob\u001b[0;34m(timepoint, yvals, settings_and_params)\u001b[0m\n\u001b[1;32m     76\u001b[0m \u001b[0;34m\u001b[0m\u001b[0m\n\u001b[1;32m     77\u001b[0m     \u001b[0;31m# second derivative step\u001b[0m\u001b[0;34m\u001b[0m\u001b[0;34m\u001b[0m\u001b[0m\n\u001b[0;32m---> 78\u001b[0;31m     \u001b[0mlap\u001b[0m \u001b[0;34m=\u001b[0m \u001b[0mlap2d\u001b[0m\u001b[0;34m(\u001b[0m\u001b[0mL\u001b[0m\u001b[0;34m)\u001b[0m\u001b[0;34m/\u001b[0m\u001b[0mdx\u001b[0m\u001b[0;34m**\u001b[0m\u001b[0;36m2\u001b[0m\u001b[0;34m\u001b[0m\u001b[0m\n\u001b[0m\u001b[1;32m     79\u001b[0m     \u001b[0mjac\u001b[0m \u001b[0;34m=\u001b[0m \u001b[0mlap\u001b[0m\u001b[0;34m\u001b[0m\u001b[0m\n\u001b[1;32m     80\u001b[0m \u001b[0;34m\u001b[0m\u001b[0m\n",
      "\u001b[0;32m<ipython-input-2-b420da0528da>\u001b[0m in \u001b[0;36mlap2d\u001b[0;34m(npts)\u001b[0m\n\u001b[1;32m     14\u001b[0m     \u001b[0ma\u001b[0m \u001b[0;34m=\u001b[0m \u001b[0;34m-\u001b[0m\u001b[0;36m2\u001b[0m\u001b[0;34m*\u001b[0m\u001b[0mones\u001b[0m\u001b[0;34m(\u001b[0m\u001b[0;34m(\u001b[0m\u001b[0;36m1\u001b[0m\u001b[0;34m,\u001b[0m \u001b[0mnpts\u001b[0m\u001b[0;34m)\u001b[0m\u001b[0;34m)\u001b[0m\u001b[0;34m[\u001b[0m\u001b[0;36m0\u001b[0m\u001b[0;34m]\u001b[0m\u001b[0;34m\u001b[0m\u001b[0m\n\u001b[1;32m     15\u001b[0m     \u001b[0mb\u001b[0m \u001b[0;34m=\u001b[0m \u001b[0mones\u001b[0m\u001b[0;34m(\u001b[0m\u001b[0;34m(\u001b[0m\u001b[0;36m1\u001b[0m\u001b[0;34m,\u001b[0m \u001b[0mnpts\u001b[0m\u001b[0;34m-\u001b[0m\u001b[0;36m1\u001b[0m\u001b[0;34m)\u001b[0m\u001b[0;34m)\u001b[0m\u001b[0;34m[\u001b[0m\u001b[0;36m0\u001b[0m\u001b[0;34m]\u001b[0m\u001b[0;34m\u001b[0m\u001b[0m\n\u001b[0;32m---> 16\u001b[0;31m     \u001b[0mop\u001b[0m \u001b[0;34m=\u001b[0m \u001b[0mdiag\u001b[0m\u001b[0;34m(\u001b[0m\u001b[0ma\u001b[0m\u001b[0;34m,\u001b[0m \u001b[0;36m0\u001b[0m\u001b[0;34m)\u001b[0m \u001b[0;34m+\u001b[0m \u001b[0mnp\u001b[0m\u001b[0;34m.\u001b[0m\u001b[0mdiag\u001b[0m\u001b[0;34m(\u001b[0m\u001b[0mb\u001b[0m\u001b[0;34m,\u001b[0m \u001b[0;34m-\u001b[0m\u001b[0;36m1\u001b[0m\u001b[0;34m)\u001b[0m \u001b[0;34m+\u001b[0m \u001b[0mnp\u001b[0m\u001b[0;34m.\u001b[0m\u001b[0mdiag\u001b[0m\u001b[0;34m(\u001b[0m\u001b[0mb\u001b[0m\u001b[0;34m,\u001b[0m \u001b[0;36m1\u001b[0m\u001b[0;34m)\u001b[0m\u001b[0;34m\u001b[0m\u001b[0m\n\u001b[0m\u001b[1;32m     17\u001b[0m     \u001b[0mop\u001b[0m\u001b[0;34m[\u001b[0m\u001b[0;36m0\u001b[0m\u001b[0;34m,\u001b[0m\u001b[0;36m1\u001b[0m\u001b[0;34m]\u001b[0m \u001b[0;34m=\u001b[0m \u001b[0;36m2\u001b[0m\u001b[0;34m\u001b[0m\u001b[0m\n\u001b[1;32m     18\u001b[0m \u001b[0;34m\u001b[0m\u001b[0m\n",
      "\u001b[0;32m/Users/william/miniconda/envs/spakenv/lib/python3.4/site-packages/numpy/lib/twodim_base.py\u001b[0m in \u001b[0;36mdiag\u001b[0;34m(v, k)\u001b[0m\n\u001b[1;32m    294\u001b[0m \u001b[0;34m\u001b[0m\u001b[0m\n\u001b[1;32m    295\u001b[0m     \"\"\"\n\u001b[0;32m--> 296\u001b[0;31m     \u001b[0mv\u001b[0m \u001b[0;34m=\u001b[0m \u001b[0masarray\u001b[0m\u001b[0;34m(\u001b[0m\u001b[0mv\u001b[0m\u001b[0;34m)\u001b[0m\u001b[0;34m\u001b[0m\u001b[0m\n\u001b[0m\u001b[1;32m    297\u001b[0m     \u001b[0ms\u001b[0m \u001b[0;34m=\u001b[0m \u001b[0mv\u001b[0m\u001b[0;34m.\u001b[0m\u001b[0mshape\u001b[0m\u001b[0;34m\u001b[0m\u001b[0m\n\u001b[1;32m    298\u001b[0m     \u001b[0;32mif\u001b[0m \u001b[0mlen\u001b[0m\u001b[0;34m(\u001b[0m\u001b[0ms\u001b[0m\u001b[0;34m)\u001b[0m \u001b[0;34m==\u001b[0m \u001b[0;36m1\u001b[0m\u001b[0;34m:\u001b[0m\u001b[0;34m\u001b[0m\u001b[0m\n",
      "\u001b[0;32m/Users/william/miniconda/envs/spakenv/lib/python3.4/site-packages/numpy/core/numeric.py\u001b[0m in \u001b[0;36masarray\u001b[0;34m(a, dtype, order)\u001b[0m\n\u001b[1;32m    460\u001b[0m \u001b[0;34m\u001b[0m\u001b[0m\n\u001b[1;32m    461\u001b[0m     \"\"\"\n\u001b[0;32m--> 462\u001b[0;31m     \u001b[0;32mreturn\u001b[0m \u001b[0marray\u001b[0m\u001b[0;34m(\u001b[0m\u001b[0ma\u001b[0m\u001b[0;34m,\u001b[0m \u001b[0mdtype\u001b[0m\u001b[0;34m,\u001b[0m \u001b[0mcopy\u001b[0m\u001b[0;34m=\u001b[0m\u001b[0;32mFalse\u001b[0m\u001b[0;34m,\u001b[0m \u001b[0morder\u001b[0m\u001b[0;34m=\u001b[0m\u001b[0morder\u001b[0m\u001b[0;34m)\u001b[0m\u001b[0;34m\u001b[0m\u001b[0m\n\u001b[0m\u001b[1;32m    463\u001b[0m \u001b[0;34m\u001b[0m\u001b[0m\n\u001b[1;32m    464\u001b[0m \u001b[0;32mdef\u001b[0m \u001b[0masanyarray\u001b[0m\u001b[0;34m(\u001b[0m\u001b[0ma\u001b[0m\u001b[0;34m,\u001b[0m \u001b[0mdtype\u001b[0m\u001b[0;34m=\u001b[0m\u001b[0;32mNone\u001b[0m\u001b[0;34m,\u001b[0m \u001b[0morder\u001b[0m\u001b[0;34m=\u001b[0m\u001b[0;32mNone\u001b[0m\u001b[0;34m)\u001b[0m\u001b[0;34m:\u001b[0m\u001b[0;34m\u001b[0m\u001b[0m\n",
      "\u001b[0;31mKeyboardInterrupt\u001b[0m: "
     ]
    }
   ],
   "source": [
    "# RUN INTEGRATION\n",
    "\n",
    "## pick parameter values\n",
    "params = dict()\n",
    "# width of reactive well\n",
    "params['WELL_DIAM'] = .2\n",
    "# width of overall potential well. smaller this is, the stronger the forcing\n",
    "params['POT_DIAM'] = .05\n",
    "params['KAPPA'] = 4e-1\n",
    "params['DCOEFF'] = 1e-4\n",
    "# alpha less than one\n",
    "params['ALPHA']= 1.0\n",
    "\n",
    "## set integrator settings\n",
    "settings = dict()\n",
    "\n",
    "space_pts = 25\n",
    "ACTUAL_LENGTH = .5\n",
    "dx = ACTUAL_LENGTH/space_pts\n",
    "space = linspace(0.0, ACTUAL_LENGTH, space_pts)\n",
    "space = space+dx\n",
    "\n",
    "time_pts = 1e5\n",
    "start_time = 0.0\n",
    "stop_time = 17.0\n",
    "dt = (stop_time-start_time)/time_pts\n",
    "times = linspace(start_time, stop_time, time_pts)\n",
    "times = times + dt\n",
    "\n",
    "# initial conditions\n",
    "y0 = ones(space_pts)\n",
    "\n",
    "# settings['dx'] = dx\n",
    "settings['space'] = space\n",
    "settings['times'] = times\n",
    "\n",
    "sol = rk4_mesh(y0, nxt_step, settings, params)\n",
    "\n",
    "print (\"Done\")"
   ]
  },
  {
   "cell_type": "code",
   "execution_count": 135,
   "metadata": {
    "collapsed": false
   },
   "outputs": [
    {
     "data": {
      "text/plain": [
       "<matplotlib.text.Text at 0x14329b048>"
      ]
     },
     "execution_count": 135,
     "metadata": {},
     "output_type": "execute_result"
    },
    {
     "data": {
      "image/png": "[encoded data removed]",
      "text/plain": [
       "<matplotlib.figure.Figure at 0x1411bddd8>"
      ]
     },
     "metadata": {},
     "output_type": "display_data"
    }
   ],
   "source": [
    "# plot space-time concentration\n",
    "# figure()\n",
    "# imshow(sol, aspect='auto')\n",
    "\n",
    "# plot time slices\n",
    "figure()\n",
    "solrange = len(sol[0,:])\n",
    "num_slices = 50\n",
    "hold(True)\n",
    "slice_range = floor(solrange/num_slices)\n",
    "for ii in range(num_slices):\n",
    "    plot(space, sol[:,ii*slice_range])\n",
    "plot(space, sol[:,-1])\n",
    "# ylim([0,.05])\n",
    "rcParams['font.family']='Open Sans'\n",
    "xlabel(\"Position along well\")\n",
    "ylabel(\"Probability\")\n",
    "# 'alpha_' + str(params['ALPHA']) + '__diff_' + str(params['DCOEFF'])\n",
    "# savefig('harmonic_alpha_1__a_p2__V_p4.pdf')\n",
    "\n",
    "\n",
    "# figure()\n",
    "# total_conc = sum(sol, axis = 0)\n",
    "# plot(times,total_conc[:-1])\n",
    "# ylabel(\"Total count\")\n",
    "# xlabel(\"time\")"
   ]
  },
  {
   "cell_type": "markdown",
   "metadata": {},
   "source": [
    "## Find effective drag coefficient"
   ]
  },
  {
   "cell_type": "code",
   "execution_count": 73,
   "metadata": {
    "collapsed": false
   },
   "outputs": [
    {
     "ename": "NameError",
     "evalue": "name 'actual_time' is not defined",
     "output_type": "error",
     "traceback": [
      "\u001b[0;31m---------------------------------------------------------------------------\u001b[0m",
      "\u001b[0;31mNameError\u001b[0m                                 Traceback (most recent call last)",
      "\u001b[0;32m<ipython-input-73-92410252b2c7>\u001b[0m in \u001b[0;36m<module>\u001b[0;34m()\u001b[0m\n\u001b[1;32m     17\u001b[0m     \u001b[0mWELL_DIAM\u001b[0m \u001b[0;34m=\u001b[0m \u001b[0mdiam\u001b[0m\u001b[0;34m\u001b[0m\u001b[0m\n\u001b[1;32m     18\u001b[0m     \u001b[0mparams\u001b[0m \u001b[0;34m=\u001b[0m \u001b[0;34m(\u001b[0m\u001b[0mALPHA\u001b[0m\u001b[0;34m,\u001b[0m \u001b[0mDCOEFF\u001b[0m\u001b[0;34m,\u001b[0m \u001b[0mKAPPA\u001b[0m\u001b[0;34m,\u001b[0m \u001b[0mPOT_DIAM\u001b[0m\u001b[0;34m,\u001b[0m \u001b[0mWELL_DIAM\u001b[0m\u001b[0;34m)\u001b[0m\u001b[0;34m\u001b[0m\u001b[0m\n\u001b[0;32m---> 19\u001b[0;31m     \u001b[0mallsol\u001b[0m\u001b[0;34m.\u001b[0m\u001b[0mappend\u001b[0m\u001b[0;34m(\u001b[0m \u001b[0mrk4_mesh\u001b[0m\u001b[0;34m(\u001b[0m\u001b[0my0\u001b[0m\u001b[0;34m,\u001b[0m \u001b[0mnxt_step\u001b[0m\u001b[0;34m,\u001b[0m \u001b[0;36m0.0\u001b[0m\u001b[0;34m,\u001b[0m \u001b[0mactual_time\u001b[0m\u001b[0;34m,\u001b[0m \u001b[0mdt\u001b[0m\u001b[0;34m,\u001b[0m \u001b[0;34m[\u001b[0m\u001b[0mspace\u001b[0m\u001b[0;34m,\u001b[0m \u001b[0mdx\u001b[0m\u001b[0;34m,\u001b[0m \u001b[0mparams\u001b[0m\u001b[0;34m]\u001b[0m\u001b[0;34m)\u001b[0m \u001b[0;34m)\u001b[0m\u001b[0;34m\u001b[0m\u001b[0m\n\u001b[0m\u001b[1;32m     20\u001b[0m     \u001b[0mprint\u001b[0m \u001b[0;34m(\u001b[0m\u001b[0mdiam\u001b[0m\u001b[0;34m)\u001b[0m\u001b[0;34m\u001b[0m\u001b[0m\n",
      "\u001b[0;31mNameError\u001b[0m: name 'actual_time' is not defined"
     ]
    }
   ],
   "source": [
    "## pick parameter values\n",
    "# alpha less than one\n",
    "ALPHA = 1.0\n",
    "DCOEFF = .2\n",
    "KAPPA = 8e3\n",
    "# width of overall potential well. smaller this is, the stronger the forcing\n",
    "POT_DIAM = 1.0\n",
    "# width of reactive well\n",
    "WELL_DIAM = .15\n",
    "params = (ALPHA, DCOEFF, KAPPA, POT_DIAM, WELL_DIAM)\n",
    "\n",
    "well_diams = linspace(.001,.5,10)\n",
    "\n",
    "allsol=list()\n",
    "\n",
    "for diam in well_diams:\n",
    "    WELL_DIAM = diam\n",
    "    params = (ALPHA, DCOEFF, KAPPA, POT_DIAM, WELL_DIAM)\n",
    "    allsol.append( rk4_mesh(y0, nxt_step, 0.0, actual_time, dt, [space, dx, params]) )\n",
    "    print (diam)"
   ]
  },
  {
   "cell_type": "code",
   "execution_count": 41,
   "metadata": {
    "collapsed": false
   },
   "outputs": [
    {
     "ename": "NameError",
     "evalue": "name 'allsol' is not defined",
     "output_type": "error",
     "traceback": [
      "\u001b[0;31m---------------------------------------------------------------------------\u001b[0m",
      "\u001b[0;31mNameError\u001b[0m                                 Traceback (most recent call last)",
      "\u001b[0;32m<ipython-input-41-63220f5e93bb>\u001b[0m in \u001b[0;36m<module>\u001b[0;34m()\u001b[0m\n\u001b[1;32m      2\u001b[0m \u001b[0mhold\u001b[0m\u001b[0;34m(\u001b[0m\u001b[0;32mTrue\u001b[0m\u001b[0;34m)\u001b[0m\u001b[0;34m\u001b[0m\u001b[0m\n\u001b[1;32m      3\u001b[0m \u001b[0mgg\u001b[0m\u001b[0;34m=\u001b[0m\u001b[0mlist\u001b[0m\u001b[0;34m(\u001b[0m\u001b[0;34m)\u001b[0m\u001b[0;34m\u001b[0m\u001b[0m\n\u001b[0;32m----> 4\u001b[0;31m \u001b[0;32mfor\u001b[0m \u001b[0msol\u001b[0m \u001b[0;32min\u001b[0m \u001b[0mallsol\u001b[0m\u001b[0;34m:\u001b[0m\u001b[0;34m\u001b[0m\u001b[0m\n\u001b[0m\u001b[1;32m      5\u001b[0m     \u001b[0mtotal_conc\u001b[0m \u001b[0;34m=\u001b[0m \u001b[0msum\u001b[0m\u001b[0;34m(\u001b[0m\u001b[0msol\u001b[0m\u001b[0;34m,\u001b[0m \u001b[0maxis\u001b[0m \u001b[0;34m=\u001b[0m \u001b[0;36m0\u001b[0m\u001b[0;34m)\u001b[0m\u001b[0;34m\u001b[0m\u001b[0m\n\u001b[1;32m      6\u001b[0m     \u001b[0mgg\u001b[0m\u001b[0;34m.\u001b[0m\u001b[0mappend\u001b[0m\u001b[0;34m(\u001b[0m\u001b[0;36m1\u001b[0m\u001b[0;34m/\u001b[0m\u001b[0msum\u001b[0m\u001b[0;34m(\u001b[0m\u001b[0mtotal_conc\u001b[0m\u001b[0;34m[\u001b[0m\u001b[0;34m:\u001b[0m\u001b[0;34m-\u001b[0m\u001b[0;36m1\u001b[0m\u001b[0;34m]\u001b[0m\u001b[0;34m)\u001b[0m\u001b[0;34m)\u001b[0m\u001b[0;34m\u001b[0m\u001b[0m\n",
      "\u001b[0;31mNameError\u001b[0m: name 'allsol' is not defined"
     ]
    },
    {
     "data": {
      "image/png": "[encoded data removed]",
      "text/plain": [
       "<matplotlib.figure.Figure at 0x10b55ff98>"
      ]
     },
     "metadata": {},
     "output_type": "display_data"
    }
   ],
   "source": [
    "figure()\n",
    "hold(True)\n",
    "gg=list()\n",
    "for sol in allsol:\n",
    "    total_conc = sum(sol, axis = 0)\n",
    "    gg.append(1/sum(total_conc[:-1]))\n",
    "loglog(1/well_diams**2, array(gg),'.',markersize=10)\n",
    "# loglog(well_diams, array(gg),'.',markersize=10)\n"
   ]
  },
  {
   "cell_type": "markdown",
   "metadata": {},
   "source": [
    "### Use LSODA integrator"
   ]
  },
  {
   "cell_type": "code",
   "execution_count": 5,
   "metadata": {
    "collapsed": false
   },
   "outputs": [],
   "source": [
    "from scipy.integrate import ode\n",
    "\n",
    "def nxt_step(timepoint, yvals, settings_and_params):\n",
    "    settings, params = settings_and_params\n",
    "    jac = jacob(timepoint, yvals, [settings, params])\n",
    "    nxt_vals = jac.dot(yvals)\n",
    "    return nxt_vals\n",
    "\n",
    "## pick parameter values\n",
    "params = dict()\n",
    "# width of reactive well\n",
    "params['WELL_DIAM'] = .05\n",
    "# width of overall potential well. smaller this is, the stronger the forcing\n",
    "params['POT_DIAM'] = .05\n",
    "params['KAPPA'] = 4e-1\n",
    "params['DCOEFF'] = 1e-6\n",
    "# alpha less than one\n",
    "params['ALPHA']= .5\n",
    "\n",
    "## set integrator settings\n",
    "settings = dict()\n",
    "\n",
    "space_pts = 100\n",
    "ACTUAL_LENGTH = .5\n",
    "dx = ACTUAL_LENGTH/space_pts\n",
    "space = linspace(0.0, ACTUAL_LENGTH, space_pts)\n",
    "space = space+dx\n",
    "\n",
    "time_pts = 1e6\n",
    "start_time = 0.0\n",
    "stop_time = 17.0\n",
    "dt = (stop_time-start_time)/time_pts\n",
    "times = linspace(start_time, stop_time, time_pts)\n",
    "times = times + dt\n",
    "\n",
    "# initial conditions\n",
    "y0 = ones(space_pts)\n",
    "\n",
    "# settings['dx'] = dx\n",
    "settings['space'] = space\n",
    "settings['times'] = times\n",
    "\n",
    "\n",
    "\n",
    "r = ode(nxt_step, jacob).set_integrator('vode', method='bdf', with_jacobian=True)\n",
    "r = ode(nxt_step, jacob).set_integrator('lsoda', with_jacobian=True)\n",
    "# r = ode(nxt_step, jacob).set_integrator('dop853')\n",
    "r.set_initial_value(y0, times[0])\n",
    "\n",
    "r.set_f_params([settings, params])\n",
    "r.set_jac_params([settings, params])\n",
    "\n",
    "t1 = stop_time\n",
    "sol = list()\n",
    "while r.successful() and r.t < t1:\n",
    "    r.integrate(r.t+dt)\n",
    "    sol.append(r.y)\n",
    "\n",
    "sol = array(real(sol)).T\n",
    "\n",
    "gauss = exp(-space**2/(4*params['POT_DIAM']**2))\n",
    "gauss = gauss[:, None]\n",
    "sol = sol*gauss\n",
    "\n",
    "\n",
    "radpart = 4*pi*(space**2)\n",
    "radpart = radpart[:, None]\n",
    "sol = sol*radpart"
   ]
  },
  {
   "cell_type": "code",
   "execution_count": 6,
   "metadata": {
    "collapsed": false
   },
   "outputs": [
    {
     "data": {
      "image/png": "[encoded data removed]",
      "text/plain": [
       "<matplotlib.figure.Figure at 0x1095f32e8>"
      ]
     },
     "metadata": {},
     "output_type": "display_data"
    }
   ],
   "source": [
    "# plot time slices\n",
    "figure()\n",
    "solrange = len(sol[0,:])\n",
    "num_slices = 20\n",
    "hold(True)\n",
    "slice_range = floor(solrange/num_slices)\n",
    "for ii in range(num_slices):\n",
    "    plot(space, sol[:,ii*slice_range])\n",
    "plot(space, sol[:,-1])\n",
    "# ylim([0,.05])\n",
    "rcParams['font.family']='Open Sans'\n",
    "xlabel(\"Position along well\")\n",
    "ylabel(\"Probability\")\n",
    "namestr = 'alpha_' + str(params['ALPHA']) + '__diffu_' + str(params['DCOEFF'])+'__kappa_' +\\\n",
    "str(params['KAPPA'])+'__reacdiam_' +str(params['WELL_DIAM'])+'__potdiam_' + str(params['POT_DIAM'])\n",
    "# savefig(namestr+'.pdf')\n",
    "\n",
    "\n",
    "# figure()\n",
    "# figure() \n",
    "# total_conc = sum(sol, axis = 0)\n",
    "# plot(times,total_conc[:-1])\n",
    "# ylabel(\"Total count\")\n",
    "# xlabel(\"time\")"
   ]
  },
  {
   "cell_type": "code",
   "execution_count": 153,
   "metadata": {
    "collapsed": false
   },
   "outputs": [
    {
     "data": {
      "text/plain": [
       "[<matplotlib.lines.Line2D at 0x140983be0>]"
      ]
     },
     "execution_count": 153,
     "metadata": {},
     "output_type": "execute_result"
    },
    {
     "data": {
      "image/png": "[encoded data removed]",
      "text/plain": [
       "<matplotlib.figure.Figure at 0x1450177f0>"
      ]
     },
     "metadata": {},
     "output_type": "display_data"
    }
   ],
   "source": [
    "plot(space, sol[:,400000])"
   ]
  },
  {
   "cell_type": "code",
   "execution_count": 7,
   "metadata": {
    "collapsed": false
   },
   "outputs": [
    {
     "name": "stdout",
     "output_type": "stream",
     "text": [
      "0.001\n",
      "0.0167368421053\n",
      "0.0324736842105\n",
      "0.0482105263158\n",
      "0.0639473684211\n",
      "0.0796842105263\n",
      "0.0954210526316\n",
      "0.111157894737\n",
      "0.126894736842\n",
      "0.142631578947\n",
      "0.158368421053\n",
      "0.174105263158\n",
      "0.189842105263\n",
      "0.205578947368\n",
      "0.221315789474\n",
      "0.237052631579\n",
      "0.252789473684\n",
      "0.268526315789\n",
      "0.284263157895\n",
      "0.3\n"
     ]
    }
   ],
   "source": [
    "## pick parameter values\n",
    "\n",
    "well_diams = linspace(.001,.3,20)\n",
    "\n",
    "allsol=list()\n",
    "for diam in well_diams:\n",
    "    params['POT_DIAM'] = diam\n",
    "    \n",
    "    # have to re-intialize because r is a generator expression\n",
    "    r = ode(nxt_step, jacob).set_integrator('lsoda', with_jacobian=True)\n",
    "    r.set_initial_value(y0, times[0])\n",
    "    r.set_f_params([settings, params])\n",
    "    r.set_jac_params([settings, params])\n",
    "    t1 = stop_time\n",
    "    \n",
    "    sol = list()\n",
    "    while r.successful() and r.t < t1:\n",
    "        r.integrate(r.t+dt)\n",
    "        sol.append(r.y)\n",
    "    sol = array(real(sol)).T\n",
    "\n",
    "    gauss = exp(-space**2/(4*params['POT_DIAM']**2))\n",
    "    gauss = gauss[:, None]\n",
    "    sol = sol*gauss\n",
    "\n",
    "    radpart = 4*pi*(space**2)\n",
    "    radpart = radpart[:, None]\n",
    "    sol = sol*radpart\n",
    "    \n",
    "    \n",
    "    allsol.append( sol )\n",
    "    \n",
    "    \n",
    "    print (diam)"
   ]
  },
  {
   "cell_type": "code",
   "execution_count": 56,
   "metadata": {
    "collapsed": false
   },
   "outputs": [
    {
     "data": {
      "text/plain": [
       "[<matplotlib.lines.Line2D at 0x109f54cc0>]"
      ]
     },
     "execution_count": 56,
     "metadata": {},
     "output_type": "execute_result"
    },
    {
     "data": {
      "image/png": "[encoded data removed]",
      "text/plain": [
       "<matplotlib.figure.Figure at 0x10affd4e0>"
      ]
     },
     "metadata": {},
     "output_type": "display_data"
    }
   ],
   "source": [
    "# Check to make sure that size of gaussian is reasonable \n",
    "# given the size of the simulation box\n",
    "plot(gauss)"
   ]
  },
  {
   "cell_type": "code",
   "execution_count": null,
   "metadata": {
    "collapsed": false
   },
   "outputs": [],
   "source": [
    "import pickle\n",
    "namestr = 'MANYSOL__alpha_' + str(params['ALPHA']) + '__diffu_' + str(params['DCOEFF'])+'__kappa_' +\\\n",
    "str(params['KAPPA'])+'__reacdiam_'+ str(params['POT_DIAM'])\n",
    "\n",
    "thefile = open(namestr+'.pkl', 'w')\n",
    "pickle.dump(allsol, thefile)"
   ]
  },
  {
   "cell_type": "code",
   "execution_count": null,
   "metadata": {
    "collapsed": true
   },
   "outputs": [],
   "source": [
    "import cPickle as pickle\n",
    "allsol = pickle.load(namestr+'.pkl')"
   ]
  },
  {
   "cell_type": "code",
   "execution_count": 22,
   "metadata": {
    "collapsed": false
   },
   "outputs": [
    {
     "data": {
      "text/plain": [
       "[<matplotlib.lines.Line2D at 0x10310cf60>]"
      ]
     },
     "execution_count": 22,
     "metadata": {},
     "output_type": "execute_result"
    },
    {
     "data": {
      "image/png": "[encoded data removed]",
      "text/plain": [
       "<matplotlib.figure.Figure at 0x10a453f98>"
      ]
     },
     "metadata": {},
     "output_type": "display_data"
    }
   ],
   "source": [
    "figure()\n",
    "hold(True)\n",
    "gg=list()\n",
    "for sol in allsol:\n",
    "    total_conc = sum(sol, axis = 0)\n",
    "    gg.append(sum(total_conc[:-1]))\n",
    "loglog(well_diams**2, array(gg),'.',markersize=10)\n",
    "# loglog(well_diams, array(gg),'.',markersize=10)"
   ]
  },
  {
   "cell_type": "markdown",
   "metadata": {},
   "source": [
    "# Calculate absorption probability"
   ]
  },
  {
   "cell_type": "code",
   "execution_count": 59,
   "metadata": {
    "collapsed": false
   },
   "outputs": [
    {
     "data": {
      "text/plain": [
       "[<matplotlib.lines.Line2D at 0x14573dd30>]"
      ]
     },
     "execution_count": 59,
     "metadata": {},
     "output_type": "execute_result"
    },
    {
     "data": {
      "image/png": "[encoded data removed]",
      "text/plain": [
       "<matplotlib.figure.Figure at 0x14573d2b0>"
      ]
     },
     "metadata": {},
     "output_type": "display_data"
    }
   ],
   "source": [
    "figure()\n",
    "hold(True)\n",
    "\n",
    "gg=list()\n",
    "for sol in allsol:\n",
    "    total_conc = sum(sol, axis = 0)\n",
    "    gg.append(sum(total_conc[:-1]))\n",
    "loglog(well_diams**2, array(gg),'.',markersize=20)"
   ]
  },
  {
   "cell_type": "markdown",
   "metadata": {
    "collapsed": true
   },
   "source": [
    "# Calculate first passage time distribution"
   ]
  },
  {
   "cell_type": "code",
   "execution_count": 23,
   "metadata": {
    "collapsed": false,
    "scrolled": true
   },
   "outputs": [
    {
     "ename": "RuntimeError",
     "evalue": "TrueType font is missing table",
     "output_type": "error",
     "traceback": [
      "\u001b[0;31m---------------------------------------------------------------------------\u001b[0m",
      "\u001b[0;31mRuntimeError\u001b[0m                              Traceback (most recent call last)",
      "\u001b[0;32m<ipython-input-23-aaaf22ac2a2d>\u001b[0m in \u001b[0;36m<module>\u001b[0;34m()\u001b[0m\n\u001b[1;32m     18\u001b[0m     \u001b[0mall_tau\u001b[0m\u001b[0;34m.\u001b[0m\u001b[0mappend\u001b[0m\u001b[0;34m(\u001b[0m\u001b[0mtau\u001b[0m\u001b[0;34m)\u001b[0m\u001b[0;34m\u001b[0m\u001b[0m\n\u001b[1;32m     19\u001b[0m \u001b[0;34m\u001b[0m\u001b[0m\n\u001b[0;32m---> 20\u001b[0;31m \u001b[0msavefig\u001b[0m\u001b[0;34m(\u001b[0m\u001b[0;34m'first_hitting_times.pdf'\u001b[0m\u001b[0;34m)\u001b[0m\u001b[0;34m\u001b[0m\u001b[0m\n\u001b[0m",
      "\u001b[0;32m/Users/william/miniconda/envs/spakenv/lib/python3.4/site-packages/matplotlib/pyplot.py\u001b[0m in \u001b[0;36msavefig\u001b[0;34m(*args, **kwargs)\u001b[0m\n\u001b[1;32m    575\u001b[0m \u001b[0;32mdef\u001b[0m \u001b[0msavefig\u001b[0m\u001b[0;34m(\u001b[0m\u001b[0;34m*\u001b[0m\u001b[0margs\u001b[0m\u001b[0;34m,\u001b[0m \u001b[0;34m**\u001b[0m\u001b[0mkwargs\u001b[0m\u001b[0;34m)\u001b[0m\u001b[0;34m:\u001b[0m\u001b[0;34m\u001b[0m\u001b[0m\n\u001b[1;32m    576\u001b[0m     \u001b[0mfig\u001b[0m \u001b[0;34m=\u001b[0m \u001b[0mgcf\u001b[0m\u001b[0;34m(\u001b[0m\u001b[0;34m)\u001b[0m\u001b[0;34m\u001b[0m\u001b[0m\n\u001b[0;32m--> 577\u001b[0;31m     \u001b[0mres\u001b[0m \u001b[0;34m=\u001b[0m \u001b[0mfig\u001b[0m\u001b[0;34m.\u001b[0m\u001b[0msavefig\u001b[0m\u001b[0;34m(\u001b[0m\u001b[0;34m*\u001b[0m\u001b[0margs\u001b[0m\u001b[0;34m,\u001b[0m \u001b[0;34m**\u001b[0m\u001b[0mkwargs\u001b[0m\u001b[0;34m)\u001b[0m\u001b[0;34m\u001b[0m\u001b[0m\n\u001b[0m\u001b[1;32m    578\u001b[0m     \u001b[0mdraw\u001b[0m\u001b[0;34m(\u001b[0m\u001b[0;34m)\u001b[0m   \u001b[0;31m# need this if 'transparent=True' to reset colors\u001b[0m\u001b[0;34m\u001b[0m\u001b[0m\n\u001b[1;32m    579\u001b[0m     \u001b[0;32mreturn\u001b[0m \u001b[0mres\u001b[0m\u001b[0;34m\u001b[0m\u001b[0m\n",
      "\u001b[0;32m/Users/william/miniconda/envs/spakenv/lib/python3.4/site-packages/matplotlib/figure.py\u001b[0m in \u001b[0;36msavefig\u001b[0;34m(self, *args, **kwargs)\u001b[0m\n\u001b[1;32m   1474\u001b[0m             \u001b[0mself\u001b[0m\u001b[0;34m.\u001b[0m\u001b[0mset_frameon\u001b[0m\u001b[0;34m(\u001b[0m\u001b[0mframeon\u001b[0m\u001b[0;34m)\u001b[0m\u001b[0;34m\u001b[0m\u001b[0m\n\u001b[1;32m   1475\u001b[0m \u001b[0;34m\u001b[0m\u001b[0m\n\u001b[0;32m-> 1476\u001b[0;31m         \u001b[0mself\u001b[0m\u001b[0;34m.\u001b[0m\u001b[0mcanvas\u001b[0m\u001b[0;34m.\u001b[0m\u001b[0mprint_figure\u001b[0m\u001b[0;34m(\u001b[0m\u001b[0;34m*\u001b[0m\u001b[0margs\u001b[0m\u001b[0;34m,\u001b[0m \u001b[0;34m**\u001b[0m\u001b[0mkwargs\u001b[0m\u001b[0;34m)\u001b[0m\u001b[0;34m\u001b[0m\u001b[0m\n\u001b[0m\u001b[1;32m   1477\u001b[0m \u001b[0;34m\u001b[0m\u001b[0m\n\u001b[1;32m   1478\u001b[0m         \u001b[0;32mif\u001b[0m \u001b[0mframeon\u001b[0m\u001b[0;34m:\u001b[0m\u001b[0;34m\u001b[0m\u001b[0m\n",
      "\u001b[0;32m/Users/william/miniconda/envs/spakenv/lib/python3.4/site-packages/matplotlib/backend_bases.py\u001b[0m in \u001b[0;36mprint_figure\u001b[0;34m(self, filename, dpi, facecolor, edgecolor, orientation, format, **kwargs)\u001b[0m\n\u001b[1;32m   2209\u001b[0m                 \u001b[0morientation\u001b[0m\u001b[0;34m=\u001b[0m\u001b[0morientation\u001b[0m\u001b[0;34m,\u001b[0m\u001b[0;34m\u001b[0m\u001b[0m\n\u001b[1;32m   2210\u001b[0m                 \u001b[0mbbox_inches_restore\u001b[0m\u001b[0;34m=\u001b[0m\u001b[0m_bbox_inches_restore\u001b[0m\u001b[0;34m,\u001b[0m\u001b[0;34m\u001b[0m\u001b[0m\n\u001b[0;32m-> 2211\u001b[0;31m                 **kwargs)\n\u001b[0m\u001b[1;32m   2212\u001b[0m         \u001b[0;32mfinally\u001b[0m\u001b[0;34m:\u001b[0m\u001b[0;34m\u001b[0m\u001b[0m\n\u001b[1;32m   2213\u001b[0m             \u001b[0;32mif\u001b[0m \u001b[0mbbox_inches\u001b[0m \u001b[0;32mand\u001b[0m \u001b[0mrestore_bbox\u001b[0m\u001b[0;34m:\u001b[0m\u001b[0;34m\u001b[0m\u001b[0m\n",
      "\u001b[0;32m/Users/william/miniconda/envs/spakenv/lib/python3.4/site-packages/matplotlib/backends/backend_pdf.py\u001b[0m in \u001b[0;36mprint_pdf\u001b[0;34m(self, filename, **kwargs)\u001b[0m\n\u001b[1;32m   2489\u001b[0m                 \u001b[0mfile\u001b[0m\u001b[0;34m.\u001b[0m\u001b[0mendStream\u001b[0m\u001b[0;34m(\u001b[0m\u001b[0;34m)\u001b[0m\u001b[0;34m\u001b[0m\u001b[0m\n\u001b[1;32m   2490\u001b[0m             \u001b[0;32melse\u001b[0m\u001b[0;34m:\u001b[0m            \u001b[0;31m# we opened the file above; now finish it off\u001b[0m\u001b[0;34m\u001b[0m\u001b[0m\n\u001b[0;32m-> 2491\u001b[0;31m                 \u001b[0mfile\u001b[0m\u001b[0;34m.\u001b[0m\u001b[0mclose\u001b[0m\u001b[0;34m(\u001b[0m\u001b[0;34m)\u001b[0m\u001b[0;34m\u001b[0m\u001b[0m\n\u001b[0m\u001b[1;32m   2492\u001b[0m \u001b[0;34m\u001b[0m\u001b[0m\n\u001b[1;32m   2493\u001b[0m \u001b[0;34m\u001b[0m\u001b[0m\n",
      "\u001b[0;32m/Users/william/miniconda/envs/spakenv/lib/python3.4/site-packages/matplotlib/backends/backend_pdf.py\u001b[0m in \u001b[0;36mclose\u001b[0;34m(self)\u001b[0m\n\u001b[1;32m    523\u001b[0m         \u001b[0mself\u001b[0m\u001b[0;34m.\u001b[0m\u001b[0mendStream\u001b[0m\u001b[0;34m(\u001b[0m\u001b[0;34m)\u001b[0m\u001b[0;34m\u001b[0m\u001b[0m\n\u001b[1;32m    524\u001b[0m         \u001b[0;31m# Write out the various deferred objects\u001b[0m\u001b[0;34m\u001b[0m\u001b[0;34m\u001b[0m\u001b[0m\n\u001b[0;32m--> 525\u001b[0;31m         \u001b[0mself\u001b[0m\u001b[0;34m.\u001b[0m\u001b[0mwriteFonts\u001b[0m\u001b[0;34m(\u001b[0m\u001b[0;34m)\u001b[0m\u001b[0;34m\u001b[0m\u001b[0m\n\u001b[0m\u001b[1;32m    526\u001b[0m         self.writeObject(self.alphaStateObject,\n\u001b[1;32m    527\u001b[0m                          dict([(val[0], val[1])\n",
      "\u001b[0;32m/Users/william/miniconda/envs/spakenv/lib/python3.4/site-packages/matplotlib/backends/backend_pdf.py\u001b[0m in \u001b[0;36mwriteFonts\u001b[0;34m(self)\u001b[0m\n\u001b[1;32m    626\u001b[0m                 \u001b[0mchars\u001b[0m \u001b[0;34m=\u001b[0m \u001b[0mself\u001b[0m\u001b[0;34m.\u001b[0m\u001b[0mused_characters\u001b[0m\u001b[0;34m.\u001b[0m\u001b[0mget\u001b[0m\u001b[0;34m(\u001b[0m\u001b[0mstat_key\u001b[0m\u001b[0;34m)\u001b[0m\u001b[0;34m\u001b[0m\u001b[0m\n\u001b[1;32m    627\u001b[0m                 \u001b[0;32mif\u001b[0m \u001b[0mchars\u001b[0m \u001b[0;32mis\u001b[0m \u001b[0;32mnot\u001b[0m \u001b[0;32mNone\u001b[0m \u001b[0;32mand\u001b[0m \u001b[0mlen\u001b[0m\u001b[0;34m(\u001b[0m\u001b[0mchars\u001b[0m\u001b[0;34m[\u001b[0m\u001b[0;36m1\u001b[0m\u001b[0;34m]\u001b[0m\u001b[0;34m)\u001b[0m\u001b[0;34m:\u001b[0m\u001b[0;34m\u001b[0m\u001b[0m\n\u001b[0;32m--> 628\u001b[0;31m                     \u001b[0mfonts\u001b[0m\u001b[0;34m[\u001b[0m\u001b[0mFx\u001b[0m\u001b[0;34m]\u001b[0m \u001b[0;34m=\u001b[0m \u001b[0mself\u001b[0m\u001b[0;34m.\u001b[0m\u001b[0membedTTF\u001b[0m\u001b[0;34m(\u001b[0m\u001b[0mrealpath\u001b[0m\u001b[0;34m,\u001b[0m \u001b[0mchars\u001b[0m\u001b[0;34m[\u001b[0m\u001b[0;36m1\u001b[0m\u001b[0;34m]\u001b[0m\u001b[0;34m)\u001b[0m\u001b[0;34m\u001b[0m\u001b[0m\n\u001b[0m\u001b[1;32m    629\u001b[0m         \u001b[0mself\u001b[0m\u001b[0;34m.\u001b[0m\u001b[0mwriteObject\u001b[0m\u001b[0;34m(\u001b[0m\u001b[0mself\u001b[0m\u001b[0;34m.\u001b[0m\u001b[0mfontObject\u001b[0m\u001b[0;34m,\u001b[0m \u001b[0mfonts\u001b[0m\u001b[0;34m)\u001b[0m\u001b[0;34m\u001b[0m\u001b[0m\n\u001b[1;32m    630\u001b[0m \u001b[0;34m\u001b[0m\u001b[0m\n",
      "\u001b[0;32m/Users/william/miniconda/envs/spakenv/lib/python3.4/site-packages/matplotlib/backends/backend_pdf.py\u001b[0m in \u001b[0;36membedTTF\u001b[0;34m(self, filename, characters)\u001b[0m\n\u001b[1;32m   1101\u001b[0m \u001b[0;34m\u001b[0m\u001b[0m\n\u001b[1;32m   1102\u001b[0m         \u001b[0;32mif\u001b[0m \u001b[0mfonttype\u001b[0m \u001b[0;34m==\u001b[0m \u001b[0;36m3\u001b[0m\u001b[0;34m:\u001b[0m\u001b[0;34m\u001b[0m\u001b[0m\n\u001b[0;32m-> 1103\u001b[0;31m             \u001b[0;32mreturn\u001b[0m \u001b[0membedTTFType3\u001b[0m\u001b[0;34m(\u001b[0m\u001b[0mfont\u001b[0m\u001b[0;34m,\u001b[0m \u001b[0mcharacters\u001b[0m\u001b[0;34m,\u001b[0m \u001b[0mdescriptor\u001b[0m\u001b[0;34m)\u001b[0m\u001b[0;34m\u001b[0m\u001b[0m\n\u001b[0m\u001b[1;32m   1104\u001b[0m         \u001b[0;32melif\u001b[0m \u001b[0mfonttype\u001b[0m \u001b[0;34m==\u001b[0m \u001b[0;36m42\u001b[0m\u001b[0;34m:\u001b[0m\u001b[0;34m\u001b[0m\u001b[0m\n\u001b[1;32m   1105\u001b[0m             \u001b[0;32mreturn\u001b[0m \u001b[0membedTTFType42\u001b[0m\u001b[0;34m(\u001b[0m\u001b[0mfont\u001b[0m\u001b[0;34m,\u001b[0m \u001b[0mcharacters\u001b[0m\u001b[0;34m,\u001b[0m \u001b[0mdescriptor\u001b[0m\u001b[0;34m)\u001b[0m\u001b[0;34m\u001b[0m\u001b[0m\n",
      "\u001b[0;32m/Users/william/miniconda/envs/spakenv/lib/python3.4/site-packages/matplotlib/backends/backend_pdf.py\u001b[0m in \u001b[0;36membedTTFType3\u001b[0;34m(font, characters, descriptor)\u001b[0m\n\u001b[1;32m    887\u001b[0m             \u001b[0;31m# actual outlines)\u001b[0m\u001b[0;34m\u001b[0m\u001b[0;34m\u001b[0m\u001b[0m\n\u001b[1;32m    888\u001b[0m             rawcharprocs = ttconv.get_pdf_charprocs(\n\u001b[0;32m--> 889\u001b[0;31m                 filename.encode(sys.getfilesystemencoding()), glyph_ids)\n\u001b[0m\u001b[1;32m    890\u001b[0m             \u001b[0mcharprocs\u001b[0m \u001b[0;34m=\u001b[0m \u001b[0;34m{\u001b[0m\u001b[0;34m}\u001b[0m\u001b[0;34m\u001b[0m\u001b[0m\n\u001b[1;32m    891\u001b[0m             \u001b[0;32mfor\u001b[0m \u001b[0mcharname\u001b[0m\u001b[0;34m,\u001b[0m \u001b[0mstream\u001b[0m \u001b[0;32min\u001b[0m \u001b[0msix\u001b[0m\u001b[0;34m.\u001b[0m\u001b[0miteritems\u001b[0m\u001b[0;34m(\u001b[0m\u001b[0mrawcharprocs\u001b[0m\u001b[0;34m)\u001b[0m\u001b[0;34m:\u001b[0m\u001b[0;34m\u001b[0m\u001b[0m\n",
      "\u001b[0;31mRuntimeError\u001b[0m: TrueType font is missing table"
     ]
    },
    {
     "data": {
      "image/png": "[encoded data removed]",
      "text/plain": [
       "<matplotlib.figure.Figure at 0x10ac48400>"
      ]
     },
     "metadata": {},
     "output_type": "display_data"
    }
   ],
   "source": [
    "def make_fht(times, sol):\n",
    "    '''\n",
    "    Do I need to weight the summation by the reaction kernel?\n",
    "    '''\n",
    "    fht = (-diff(sum(sol, axis = 0)))\n",
    "    return fht\n",
    "\n",
    "figure()\n",
    "hold(True)\n",
    "all_tau=list()\n",
    "for spec_sol in allsol:\n",
    "    fht = make_fht(times, spec_sol)\n",
    "    semilogy(times[:-1],fht)\n",
    "\n",
    "    krate = mean( diff(log(fht)) )\n",
    "    krate = krate/mean( diff(times) )\n",
    "    tau = -1/krate\n",
    "    all_tau.append(tau)\n",
    "\n",
    "\n",
    "savefig('first_hitting_times.pdf')"
   ]
  },
  {
   "cell_type": "code",
   "execution_count": 29,
   "metadata": {
    "collapsed": false
   },
   "outputs": [
    {
     "name": "stderr",
     "output_type": "stream",
     "text": [
      "/Users/william/miniconda/envs/spakenv/lib/python3.4/site-packages/matplotlib/font_manager.py:1282: UserWarning: findfont: Font family ['dsfdfg'] not found. Falling back to Bitstream Vera Sans\n",
      "  (prop.get_family(), self.defaultFamily[fontext]))\n"
     ]
    },
    {
     "data": {
      "image/png": "[encoded data removed]",
      "text/plain": [
       "<matplotlib.figure.Figure at 0x108fec400>"
      ]
     },
     "metadata": {},
     "output_type": "display_data"
    }
   ],
   "source": [
    "loglog(well_diams**2, array(all_tau),'.',markersize=20)\n",
    "# savefig('timescale_v_welldiam.pdf')"
   ]
  },
  {
   "cell_type": "markdown",
   "metadata": {},
   "source": [
    "# Appendix code"
   ]
  },
  {
   "cell_type": "code",
   "execution_count": null,
   "metadata": {
    "collapsed": true
   },
   "outputs": [],
   "source": [
    "import unittest\n",
    "\n",
    "class IntegratorTest(unittest.TestCase):\n",
    "    def test(self):\n",
    "        self.assertEqual(fun(3), 4)"
   ]
  },
  {
   "cell_type": "code",
   "execution_count": null,
   "metadata": {
    "collapsed": true
   },
   "outputs": [],
   "source": [
    "def nxt_step(yvals, timepoint, dt, settings, params):\n",
    "    \n",
    "    assert dt > 0\n",
    "    \n",
    "    allspace = settings['space']\n",
    "    dx = allspace[2]-allspace[1]\n",
    "    \n",
    "    WELL_DIAM = params['WELL_DIAM']\n",
    "    POT_DIAM = params['POT_DIAM']\n",
    "    KAPPA = params['KAPPA']\n",
    "    DCOEFF = params['DCOEFF']\n",
    "    ALPHA = params['ALPHA']\n",
    "    \n",
    "    DCOEFF = ALPHA *(timepoint**(ALPHA-1))*DCOEFF\n",
    "    \n",
    "    # remove this and change allspace\n",
    "    a = POT_DIAM\n",
    "\n",
    "    L = len(yvals)\n",
    "        \n",
    "    nxt_vals = zeros(len(yvals))\n",
    "    \n",
    "    # second derivative step\n",
    "    lap = lap2d(L) \n",
    "    nxt_vals += (1/dx**2)*lap.dot(yvals)\n",
    "    \n",
    "    \n",
    "    # first derivative steps\n",
    "    drv = grad1D(L)\n",
    "    drvvals = (1/dx)*drv.dot(yvals)\n",
    "    nxt_vals += (4*drvvals)/allspace\n",
    "    nxt_vals += -(3/4)*allspace*drvvals/(a**2)\n",
    "    \n",
    "    \n",
    "    # other steps\n",
    "    nxt_vals += (1/(8*a**4))*(allspace**2)*yvals\n",
    "    nxt_vals += -(1/a**2)*yvals\n",
    "    # assume \\ell = 0\n",
    "    nxt_vals += (2/(allspace**2))*yvals\n",
    "    \n",
    "    \n",
    "    # now multiply by diffusion coefficient and all that\n",
    "    nxt_vals = -DCOEFF*nxt_vals\n",
    "    \n",
    "    # now implement reaction step\n",
    "    drain_window = double(allspace < WELL_DIAM)\n",
    "    \n",
    "    # smooth step\n",
    "#     drain_window = 1-smoothstep(linspace(0,L,L),center=floor(WELL_DIAM/allspace[-1]),sharpness=.9)\n",
    "    \n",
    "    nxt_vals += -KAPPA*drain_window*yvals\n",
    "    \n",
    "    # now implement boundary conditions\n",
    "    nxt_vals[0] = nxt_vals[1]\n",
    "    nxt_vals[-1] = nxt_vals[-2]\n",
    "    \n",
    "    return nxt_vals"
   ]
  },
  {
   "cell_type": "code",
   "execution_count": null,
   "metadata": {
    "collapsed": true
   },
   "outputs": [],
   "source": []
  },
  {
   "cell_type": "code",
   "execution_count": null,
   "metadata": {
    "collapsed": true
   },
   "outputs": [],
   "source": []
  },
  {
   "cell_type": "code",
   "execution_count": null,
   "metadata": {
    "collapsed": true
   },
   "outputs": [],
   "source": [
    "\n"
   ]
  }
 ],
 "metadata": {
  "kernelspec": {
   "display_name": "Python 3",
   "language": "python",
   "name": "python3"
  },
  "language_info": {
   "codemirror_mode": {
    "name": "ipython",
    "version": 3
   },
   "file_extension": ".py",
   "mimetype": "text/x-python",
   "name": "python",
   "nbconvert_exporter": "python",
   "pygments_lexer": "ipython3",
   "version": "3.4.3"
  }
 },
 "nbformat": 4,
 "nbformat_minor": 0
}
