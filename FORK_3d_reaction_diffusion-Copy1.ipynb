{
 "cells": [
  {
   "cell_type": "markdown",
   "metadata": {},
   "source": [
    "##### Preamble/Imports"
   ]
  },
  {
   "cell_type": "code",
   "execution_count": 1,
   "metadata": {
    "collapsed": false
   },
   "outputs": [
    {
     "name": "stdout",
     "output_type": "stream",
     "text": [
      "Populating the interactive namespace from numpy and matplotlib\n"
     ]
    }
   ],
   "source": [
    "import matplotlib\n",
    "matplotlib.use( \"agg\" )\n",
    "%pylab inline\n",
    "\n",
    "import plt_fmt\n",
    "\n",
    "from numba import jit\n",
    "\n",
    "# from fig_annotate import *\n",
    "\n",
    "\n",
    "from diffusion_integrator_funcs import *\n",
    "# from frac_brown import *"
   ]
  },
  {
   "cell_type": "markdown",
   "metadata": {},
   "source": [
    "# Three-dimensional radial equation"
   ]
  },
  {
   "cell_type": "code",
   "execution_count": 5,
   "metadata": {
    "collapsed": false
   },
   "outputs": [],
   "source": [
    "# @jit\n",
    "def jacob(timepoint, yvals, settings_and_params):\n",
    "    \"\"\"\n",
    "    Operator form of a system of coupled differential equations in one variable\n",
    "    \"\"\"\n",
    "    \n",
    "    settings, params = settings_and_params\n",
    "    \n",
    "    allspace = settings['space']\n",
    "    dx = allspace[2]-allspace[1]\n",
    "    \n",
    "    WELL_DIAM = params['WELL_DIAM']\n",
    "    POT_DIAM = params['POT_DIAM']\n",
    "    KAPPA = params['KAPPA']\n",
    "    DCOEFF = params['DCOEFF']\n",
    "    ALPHA = params['ALPHA']\n",
    "    \n",
    "    DCOEFF = ALPHA*(timepoint**(ALPHA-1))*DCOEFF\n",
    "    \n",
    "    # remove this and change allspace\n",
    "    a = POT_DIAM\n",
    "\n",
    "    L = len(space)\n",
    "    \n",
    "    # second derivative step\n",
    "    lap = lap2d(L)/dx**2\n",
    "    jac = lap\n",
    "    \n",
    "    \n",
    "    # first derivative steps\n",
    "    drv = grad1D(L)/dx\n",
    "    jac += (4*drv/allspace) - (3/(4*a**2))*allspace*drv\n",
    "    \n",
    "    \n",
    "    # other steps\n",
    "    iden = identity(L)\n",
    "    jac += (1/(8*a**4))*(allspace**2)*iden\n",
    "    jac += -(1/a**2)*iden\n",
    "    # assume \\ell = 0\n",
    "    jac += (2/(allspace**2))*iden\n",
    "    \n",
    "    \n",
    "    # now multiply by diffusion coefficient and all that\n",
    "    jac = -DCOEFF*jac\n",
    "    \n",
    "    # now implement reaction step\n",
    "    drain_window = double(allspace < WELL_DIAM)\n",
    "    \n",
    "    allinds = linspace(0,len(allspace),len(allspace))\n",
    "    drain_window = smoothstep(allinds,center = sum(drain_window),sharpness=3)\n",
    "\n",
    "    jac += -KAPPA*drain_window*iden\n",
    "    \n",
    "    \n",
    "#     # now implement boundary conditions\n",
    "#     jac[0,:] = jac[1,:]\n",
    "#     jac[-1,:] = jac[-2,:]\n",
    "    \n",
    "    return jac\n",
    "\n",
    "\n",
    "def nxt_step(yvals, timepoint, dt, settings, params):\n",
    "    \"\"\"\n",
    "    Return a space-discretized approximation of the differential equation\n",
    "    at the given timepoint. Our equation happens to be linear, and so the next\n",
    "    step is given by a simple dot product with the relevant operator\n",
    "    \"\"\"\n",
    "    jac = jacob(timepoint, yvals, [settings, params])\n",
    "    nxt_vals = jac.dot(yvals)\n",
    "    return nxt_vals\n",
    "\n",
    "# def rk4_mesh(yinit, ynxt, settings, params):\n",
    "#     \"\"\"\n",
    "#     ynxt : function\n",
    "#         The function that computes the next step in the forward march\n",
    "    \n",
    "#     dt : double\n",
    "#         The spatial step\n",
    "        \n",
    "#     dx : double\n",
    "#         The time step size\n",
    "        \n",
    "#     use_crank : boolean\n",
    "#         Whether to use Crank-Nicolson forward marching, in which the next timestep\n",
    "#         is determined by equal weights of the previous two timesteps. If not, the\n",
    "#         integrator uses standard Forward Euler\n",
    "        \n",
    "#     settings : dict\n",
    "#         A dictionary containing all the necessary steps and \n",
    "#         objects for the integration\n",
    "        \n",
    "#     params : dict\n",
    "#         A dictionary containing all the necessary parameters for the \n",
    "#         differential equation system.\n",
    "        \n",
    "#     \"\"\"\n",
    "#     use_crank = True\n",
    "    \n",
    "#     space = settings['space']\n",
    "#     times = settings['times']\n",
    "#     dt = times[2] - times[1]\n",
    "    \n",
    "#     solmesh = zeros([len(yinit), len(times)])\n",
    "#     solmesh[:,0] = yinit\n",
    "#     tL = len(solmesh[0,:])\n",
    "#     for tind, time in enumerate(times):\n",
    "#         if tind > 0 and tind < tL:\n",
    "            \n",
    "#             if use_crank == False:\n",
    "#                 ind_list = [1]\n",
    "#                 wgt = 1.0\n",
    "#             else:\n",
    "#                 ind_list = [1,2]\n",
    "#                 wgt = .5\n",
    "            \n",
    "#             solmesh[:,tind] = solmesh[:,tind-1]\n",
    "#             for ii in ind_list:\n",
    "#                 k1 = ynxt( solmesh[:,tind-ii], time, dt, settings, params)          \n",
    "#                 k2 = ynxt( solmesh[:,tind-ii]+ 0.5*k1, time + 0.5*dt, dt, settings, params)\n",
    "#                 k3 = ynxt( solmesh[:,tind-ii]+ 0.5*k2, time + 0.5*dt, dt, settings, params)\n",
    "#                 k4 = ynxt( solmesh[:,tind-ii]+ k3, time+dt, dt, settings, params)\n",
    "#                 solmesh[:,tind] += wgt*dt*(k1 + 2.0*(k2 + k3) + k4)/6.0\n",
    "    \n",
    "#     # get gaussian part\n",
    "#     gausspart = tile(exp(-space**2/(4*params['POT_DIAM']**2)),(tL,1)).T\n",
    "#     solmesh = solmesh*gausspart\n",
    "    \n",
    "#     # now convert to pdf\n",
    "#     radpart = tile(4*pi*(space**2),(tL,1)).T\n",
    "#     solmesh = radpart*solmesh\n",
    "#     return solmesh\n",
    "    \n",
    "# def euler_mesh(yinit, ynxt, settings, params):\n",
    "#     \"\"\"\n",
    "#     ynxt : function\n",
    "#         The function that returns the discrete derivative at a given timepoint\n",
    "    \n",
    "#     dt : double\n",
    "#         The spatial step\n",
    "        \n",
    "#     dx : double\n",
    "#         The time step size\n",
    "#     \"\"\"\n",
    "    \n",
    "#     space = settings['space']\n",
    "#     times = settings['times']\n",
    "#     dt = times[2] - times[1]\n",
    "\n",
    "#     solmesh = zeros([len(yinit), len(times)])\n",
    "#     solmesh[:,0] = yinit\n",
    "#     tL = len(solmesh[0,:])\n",
    "#     for tind, time in enumerate(times):\n",
    "#         if tind > 0 and tind < tL:\n",
    "#             solmesh[:,tind] = solmesh[:,tind-1] + dt*ynxt( solmesh[:,tind-1], time, dt, settings, params)\n",
    "    \n",
    "#     # get gaussian part\n",
    "#     gausspart = tile(exp(-space**2/(4*params['POT_DIAM']**2)),(tL,1)).T\n",
    "#     solmesh = solmesh*gausspart\n",
    "    \n",
    "#     # now convert to pdf\n",
    "#     radpart = tile(4*pi*(space**2),(tL,1)).T\n",
    "#     solmesh = radpart*solmesh\n",
    "#     return solmesh"
   ]
  },
  {
   "cell_type": "code",
   "execution_count": 6,
   "metadata": {
    "collapsed": false
   },
   "outputs": [
    {
     "ename": "NameError",
     "evalue": "name 'rk4_mesh' is not defined",
     "output_type": "error",
     "traceback": [
      "\u001b[0;31m---------------------------------------------------------------------------\u001b[0m",
      "\u001b[0;31mNameError\u001b[0m                                 Traceback (most recent call last)",
      "\u001b[0;32m<ipython-input-6-4d322a6c5a91>\u001b[0m in \u001b[0;36m<module>\u001b[0;34m()\u001b[0m\n\u001b[1;32m     35\u001b[0m \u001b[0msettings\u001b[0m\u001b[0;34m[\u001b[0m\u001b[0;34m'times'\u001b[0m\u001b[0;34m]\u001b[0m \u001b[0;34m=\u001b[0m \u001b[0mtimes\u001b[0m\u001b[0;34m\u001b[0m\u001b[0m\n\u001b[1;32m     36\u001b[0m \u001b[0;34m\u001b[0m\u001b[0m\n\u001b[0;32m---> 37\u001b[0;31m \u001b[0msol\u001b[0m \u001b[0;34m=\u001b[0m \u001b[0mrk4_mesh\u001b[0m\u001b[0;34m(\u001b[0m\u001b[0my0\u001b[0m\u001b[0;34m,\u001b[0m \u001b[0mnxt_step\u001b[0m\u001b[0;34m,\u001b[0m \u001b[0msettings\u001b[0m\u001b[0;34m,\u001b[0m \u001b[0mparams\u001b[0m\u001b[0;34m)\u001b[0m\u001b[0;34m\u001b[0m\u001b[0m\n\u001b[0m\u001b[1;32m     38\u001b[0m \u001b[0;34m\u001b[0m\u001b[0m\n\u001b[1;32m     39\u001b[0m \u001b[0mprint\u001b[0m \u001b[0;34m(\u001b[0m\u001b[0;34m\"Done\"\u001b[0m\u001b[0;34m)\u001b[0m\u001b[0;34m\u001b[0m\u001b[0m\n",
      "\u001b[0;31mNameError\u001b[0m: name 'rk4_mesh' is not defined"
     ]
    }
   ],
   "source": [
    "# RUN INTEGRATION\n",
    "\n",
    "## pick parameter values\n",
    "params = dict()\n",
    "# width of reactive well\n",
    "params['WELL_DIAM'] = .2\n",
    "# width of overall potential well. smaller this is, the stronger the forcing\n",
    "params['POT_DIAM'] = .05\n",
    "params['KAPPA'] = 4e-1\n",
    "params['DCOEFF'] = 1e-4\n",
    "# alpha less than one\n",
    "params['ALPHA']= 1.0\n",
    "\n",
    "## set integrator settings\n",
    "settings = dict()\n",
    "\n",
    "space_pts = 25\n",
    "ACTUAL_LENGTH = .5\n",
    "dx = ACTUAL_LENGTH/space_pts\n",
    "space = linspace(0.0, ACTUAL_LENGTH, space_pts)\n",
    "space = space+dx\n",
    "\n",
    "time_pts = 1e5\n",
    "start_time = 0.0\n",
    "stop_time = 17.0\n",
    "dt = (stop_time-start_time)/time_pts\n",
    "times = linspace(start_time, stop_time, time_pts)\n",
    "times = times + dt\n",
    "\n",
    "# initial conditions\n",
    "y0 = ones(space_pts)\n",
    "\n",
    "# settings['dx'] = dx\n",
    "settings['space'] = space\n",
    "settings['times'] = times\n",
    "\n",
    "sol = rk4_mesh(y0, nxt_step, settings, params)\n",
    "\n",
    "print (\"Done\")"
   ]
  },
  {
   "cell_type": "code",
   "execution_count": 135,
   "metadata": {
    "collapsed": false
   },
   "outputs": [
    {
     "data": {
      "text/plain": [
       "<matplotlib.text.Text at 0x14329b048>"
      ]
     },
     "execution_count": 135,
     "metadata": {},
     "output_type": "execute_result"
    },
    {
     "data": {
      "image/png": "[encoded data removed]",
      "text/plain": [
       "<matplotlib.figure.Figure at 0x1411bddd8>"
      ]
     },
     "metadata": {},
     "output_type": "display_data"
    }
   ],
   "source": [
    "# plot space-time concentration\n",
    "# figure()\n",
    "# imshow(sol, aspect='auto')\n",
    "\n",
    "# plot time slices\n",
    "figure()\n",
    "solrange = len(sol[0,:])\n",
    "num_slices = 50\n",
    "hold(True)\n",
    "slice_range = floor(solrange/num_slices)\n",
    "for ii in range(num_slices):\n",
    "    plot(space, sol[:,ii*slice_range])\n",
    "plot(space, sol[:,-1])\n",
    "# ylim([0,.05])\n",
    "rcParams['font.family']='Open Sans'\n",
    "xlabel(\"Position along well\")\n",
    "ylabel(\"Probability\")\n",
    "# 'alpha_' + str(params['ALPHA']) + '__diff_' + str(params['DCOEFF'])\n",
    "# savefig('harmonic_alpha_1__a_p2__V_p4.pdf')\n",
    "\n",
    "\n",
    "# figure()\n",
    "# total_conc = sum(sol, axis = 0)\n",
    "# plot(times,total_conc[:-1])\n",
    "# ylabel(\"Total count\")\n",
    "# xlabel(\"time\")"
   ]
  },
  {
   "cell_type": "markdown",
   "metadata": {},
   "source": [
    "## Find effective drag coefficient"
   ]
  },
  {
   "cell_type": "code",
   "execution_count": 73,
   "metadata": {
    "collapsed": false
   },
   "outputs": [
    {
     "ename": "NameError",
     "evalue": "name 'actual_time' is not defined",
     "output_type": "error",
     "traceback": [
      "\u001b[0;31m---------------------------------------------------------------------------\u001b[0m",
      "\u001b[0;31mNameError\u001b[0m                                 Traceback (most recent call last)",
      "\u001b[0;32m<ipython-input-73-92410252b2c7>\u001b[0m in \u001b[0;36m<module>\u001b[0;34m()\u001b[0m\n\u001b[1;32m     17\u001b[0m     \u001b[0mWELL_DIAM\u001b[0m \u001b[0;34m=\u001b[0m \u001b[0mdiam\u001b[0m\u001b[0;34m\u001b[0m\u001b[0m\n\u001b[1;32m     18\u001b[0m     \u001b[0mparams\u001b[0m \u001b[0;34m=\u001b[0m \u001b[0;34m(\u001b[0m\u001b[0mALPHA\u001b[0m\u001b[0;34m,\u001b[0m \u001b[0mDCOEFF\u001b[0m\u001b[0;34m,\u001b[0m \u001b[0mKAPPA\u001b[0m\u001b[0;34m,\u001b[0m \u001b[0mPOT_DIAM\u001b[0m\u001b[0;34m,\u001b[0m \u001b[0mWELL_DIAM\u001b[0m\u001b[0;34m)\u001b[0m\u001b[0;34m\u001b[0m\u001b[0m\n\u001b[0;32m---> 19\u001b[0;31m     \u001b[0mallsol\u001b[0m\u001b[0;34m.\u001b[0m\u001b[0mappend\u001b[0m\u001b[0;34m(\u001b[0m \u001b[0mrk4_mesh\u001b[0m\u001b[0;34m(\u001b[0m\u001b[0my0\u001b[0m\u001b[0;34m,\u001b[0m \u001b[0mnxt_step\u001b[0m\u001b[0;34m,\u001b[0m \u001b[0;36m0.0\u001b[0m\u001b[0;34m,\u001b[0m \u001b[0mactual_time\u001b[0m\u001b[0;34m,\u001b[0m \u001b[0mdt\u001b[0m\u001b[0;34m,\u001b[0m \u001b[0;34m[\u001b[0m\u001b[0mspace\u001b[0m\u001b[0;34m,\u001b[0m \u001b[0mdx\u001b[0m\u001b[0;34m,\u001b[0m \u001b[0mparams\u001b[0m\u001b[0;34m]\u001b[0m\u001b[0;34m)\u001b[0m \u001b[0;34m)\u001b[0m\u001b[0;34m\u001b[0m\u001b[0m\n\u001b[0m\u001b[1;32m     20\u001b[0m     \u001b[0mprint\u001b[0m \u001b[0;34m(\u001b[0m\u001b[0mdiam\u001b[0m\u001b[0;34m)\u001b[0m\u001b[0;34m\u001b[0m\u001b[0m\n",
      "\u001b[0;31mNameError\u001b[0m: name 'actual_time' is not defined"
     ]
    }
   ],
   "source": [
    "## pick parameter values\n",
    "# alpha less than one\n",
    "ALPHA = 1.0\n",
    "DCOEFF = .2\n",
    "KAPPA = 8e3\n",
    "# width of overall potential well. smaller this is, the stronger the forcing\n",
    "POT_DIAM = 1.0\n",
    "# width of reactive well\n",
    "WELL_DIAM = .15\n",
    "params = (ALPHA, DCOEFF, KAPPA, POT_DIAM, WELL_DIAM)\n",
    "\n",
    "well_diams = linspace(.001,.5,10)\n",
    "\n",
    "allsol=list()\n",
    "\n",
    "for diam in well_diams:\n",
    "    WELL_DIAM = diam\n",
    "    params = (ALPHA, DCOEFF, KAPPA, POT_DIAM, WELL_DIAM)\n",
    "    allsol.append( rk4_mesh(y0, nxt_step, 0.0, actual_time, dt, [space, dx, params]) )\n",
    "    print (diam)"
   ]
  },
  {
   "cell_type": "code",
   "execution_count": 41,
   "metadata": {
    "collapsed": false
   },
   "outputs": [
    {
     "ename": "NameError",
     "evalue": "name 'allsol' is not defined",
     "output_type": "error",
     "traceback": [
      "\u001b[0;31m---------------------------------------------------------------------------\u001b[0m",
      "\u001b[0;31mNameError\u001b[0m                                 Traceback (most recent call last)",
      "\u001b[0;32m<ipython-input-41-63220f5e93bb>\u001b[0m in \u001b[0;36m<module>\u001b[0;34m()\u001b[0m\n\u001b[1;32m      2\u001b[0m \u001b[0mhold\u001b[0m\u001b[0;34m(\u001b[0m\u001b[0;32mTrue\u001b[0m\u001b[0;34m)\u001b[0m\u001b[0;34m\u001b[0m\u001b[0m\n\u001b[1;32m      3\u001b[0m \u001b[0mgg\u001b[0m\u001b[0;34m=\u001b[0m\u001b[0mlist\u001b[0m\u001b[0;34m(\u001b[0m\u001b[0;34m)\u001b[0m\u001b[0;34m\u001b[0m\u001b[0m\n\u001b[0;32m----> 4\u001b[0;31m \u001b[0;32mfor\u001b[0m \u001b[0msol\u001b[0m \u001b[0;32min\u001b[0m \u001b[0mallsol\u001b[0m\u001b[0;34m:\u001b[0m\u001b[0;34m\u001b[0m\u001b[0m\n\u001b[0m\u001b[1;32m      5\u001b[0m     \u001b[0mtotal_conc\u001b[0m \u001b[0;34m=\u001b[0m \u001b[0msum\u001b[0m\u001b[0;34m(\u001b[0m\u001b[0msol\u001b[0m\u001b[0;34m,\u001b[0m \u001b[0maxis\u001b[0m \u001b[0;34m=\u001b[0m \u001b[0;36m0\u001b[0m\u001b[0;34m)\u001b[0m\u001b[0;34m\u001b[0m\u001b[0m\n\u001b[1;32m      6\u001b[0m     \u001b[0mgg\u001b[0m\u001b[0;34m.\u001b[0m\u001b[0mappend\u001b[0m\u001b[0;34m(\u001b[0m\u001b[0;36m1\u001b[0m\u001b[0;34m/\u001b[0m\u001b[0msum\u001b[0m\u001b[0;34m(\u001b[0m\u001b[0mtotal_conc\u001b[0m\u001b[0;34m[\u001b[0m\u001b[0;34m:\u001b[0m\u001b[0;34m-\u001b[0m\u001b[0;36m1\u001b[0m\u001b[0;34m]\u001b[0m\u001b[0;34m)\u001b[0m\u001b[0;34m)\u001b[0m\u001b[0;34m\u001b[0m\u001b[0m\n",
      "\u001b[0;31mNameError\u001b[0m: name 'allsol' is not defined"
     ]
    },
    {
     "data": {
      "image/png": "[encoded data removed]",
      "text/plain": [
       "<matplotlib.figure.Figure at 0x10b55ff98>"
      ]
     },
     "metadata": {},
     "output_type": "display_data"
    }
   ],
   "source": [
    "figure()\n",
    "hold(True)\n",
    "gg=list()\n",
    "for sol in allsol:\n",
    "    total_conc = sum(sol, axis = 0)\n",
    "    gg.append(1/sum(total_conc[:-1]))\n",
    "loglog(1/well_diams**2, array(gg),'.',markersize=10)\n",
    "# loglog(well_diams, array(gg),'.',markersize=10)\n"
   ]
  },
  {
   "cell_type": "markdown",
   "metadata": {},
   "source": [
    "### Use LSODA integrator"
   ]
  },
  {
   "cell_type": "code",
   "execution_count": 33,
   "metadata": {
    "collapsed": false
   },
   "outputs": [],
   "source": [
    "from scipy.integrate import ode\n",
    "\n",
    "def nxt_step(timepoint, yvals, settings_and_params):\n",
    "    settings, params = settings_and_params\n",
    "    jac = jacob(timepoint, yvals, [settings, params])\n",
    "    nxt_vals = jac.dot(yvals)\n",
    "    return nxt_vals\n",
    "\n",
    "## pick parameter values\n",
    "params = dict()\n",
    "# width of reactive well\n",
    "params['WELL_DIAM'] = .02\n",
    "# width of overall potential well. smaller this is, the stronger the forcing\n",
    "params['POT_DIAM'] = .05\n",
    "params['KAPPA'] = 4e-1\n",
    "params['DCOEFF'] = 1e-6\n",
    "# alpha less than one\n",
    "params['ALPHA']= .5\n",
    "\n",
    "\n",
    "## set integrator settings\n",
    "settings = dict()\n",
    "\n",
    "space_pts = 100\n",
    "ACTUAL_LENGTH = .5\n",
    "dx = ACTUAL_LENGTH/space_pts\n",
    "space = linspace(0.0, ACTUAL_LENGTH, space_pts)\n",
    "space = space+dx\n",
    "\n",
    "time_pts = 1e6\n",
    "start_time = 0.0\n",
    "stop_time = 17.0\n",
    "dt = (stop_time-start_time)/time_pts\n",
    "times = linspace(start_time, stop_time, time_pts)\n",
    "times = times + dt\n",
    "\n",
    "# initial conditions\n",
    "y0 = ones(space_pts)\n",
    "\n",
    "# settings['dx'] = dx\n",
    "settings['space'] = space\n",
    "settings['times'] = times\n",
    "\n",
    "\n",
    "\n",
    "r = ode(nxt_step, jacob).set_integrator('vode', method='bdf', with_jacobian=True)\n",
    "# r = ode(nxt_step, jacob).set_integrator('lsoda', with_jacobian=True)\n",
    "# r = ode(nxt_step, jacob).set_integrator('dop853')\n",
    "r.set_initial_value(y0, times[0])\n",
    "\n",
    "r.set_f_params([settings, params])\n",
    "r.set_jac_params([settings, params])\n",
    "\n",
    "t1 = stop_time\n",
    "sol = list()\n",
    "while r.successful() and r.t < t1:\n",
    "    r.integrate(r.t+dt)\n",
    "    sol.append(r.y)\n",
    "\n",
    "sol = array(real(sol)).T\n",
    "\n",
    "gauss = exp(-space**2/(4*params['POT_DIAM']**2))\n",
    "gauss = gauss[:, None]\n",
    "sol = sol*gauss\n",
    "\n",
    "\n",
    "radpart = 4*pi*(space**2)\n",
    "radpart = radpart[:, None]\n",
    "sol = sol*radpart"
   ]
  },
  {
   "cell_type": "code",
   "execution_count": 34,
   "metadata": {
    "collapsed": false
   },
   "outputs": [
    {
     "data": {
      "image/png": "[encoded data removed]",
      "text/plain": [
       "<matplotlib.figure.Figure at 0x10a491b00>"
      ]
     },
     "metadata": {},
     "output_type": "display_data"
    }
   ],
   "source": [
    "# plot time slices\n",
    "figure()\n",
    "solrange = len(sol[0,:])\n",
    "num_slices = 20\n",
    "hold(True)\n",
    "slice_range = floor(solrange/num_slices)\n",
    "for ii in range(num_slices):\n",
    "    plot(space, sol[:,ii*slice_range])\n",
    "plot(space, sol[:,-1])\n",
    "# ylim([0,.05])\n",
    "rcParams['font.family']='Open Sans'\n",
    "xlabel(\"Position along well\")\n",
    "ylabel(\"Probability\")\n",
    "namestr = 'alpha_' + str(params['ALPHA']) + '__diffu_' + str(params['DCOEFF'])+'__kappa_' +\\\n",
    "str(params['KAPPA'])+'__reacdiam_' +str(params['WELL_DIAM'])+'__potdiam_' + str(params['POT_DIAM'])\n",
    "# savefig(namestr+'.pdf')\n",
    "\n",
    "\n",
    "# figure()\n",
    "# figure() \n",
    "# total_conc = sum(sol, axis = 0)\n",
    "# plot(times,total_conc[:-1])\n",
    "# ylabel(\"Total count\")\n",
    "# xlabel(\"time\")"
   ]
  },
  {
   "cell_type": "code",
   "execution_count": 37,
   "metadata": {
    "collapsed": false
   },
   "outputs": [
    {
     "name": "stdout",
     "output_type": "stream",
     "text": [
      "0.001\n",
      "0.0011253355826\n",
      "0.00126638017347\n",
      "0.0014251026703\n",
      "0.00160371874375\n",
      "0.00180472176683\n",
      "0.0020309176209\n",
      "0.00228546386413\n",
      "0.00257191380906\n",
      "0.00289426612472\n",
      "0.00325702065566\n",
      "0.00366524123708\n",
      "0.0041246263829\n",
      "0.00464158883361\n",
      "0.00522334507427\n",
      "0.00587801607227\n",
      "0.00661474064123\n",
      "0.00744380301325\n",
      "0.00837677640068\n",
      "0.00942668455118\n",
      "0.0106081835514\n",
      "0.0119377664171\n",
      "0.013433993326\n",
      "0.0151177507062\n",
      "0.0170125427985\n",
      "0.0191448197617\n",
      "0.0215443469003\n",
      "0.0242446201708\n",
      "0.0272833337649\n",
      "0.0307029062976\n",
      "0.0345510729459\n",
      "0.0388815518031\n",
      "0.0437547937507\n",
      "0.0492388263171\n",
      "0.0554102033001\n",
      "0.0623550734127\n",
      "0.070170382867\n",
      "0.078965228685\n",
      "0.0888623816274\n",
      "0.1\n"
     ]
    }
   ],
   "source": [
    "## pick parameter values\n",
    "\n",
    "save_full_sol = False\n",
    "save_fht = False\n",
    "\n",
    "well_diams = linspace(.001,.1,40)\n",
    "well_diams = expspace(.001,.1,40)\n",
    "\n",
    "allsol = list() # not recommended for more than 10 points\n",
    "\n",
    "all_fht = list()\n",
    "\n",
    "all_timesums = list()\n",
    "\n",
    "\n",
    "for diam in well_diams:\n",
    "    \n",
    "    params['POT_DIAM'] = diam\n",
    "    \n",
    "    # have to re-intialize because r is a generator\n",
    "    r = ode(nxt_step, jacob).set_integrator('lsoda', with_jacobian=True)\n",
    "    r.set_initial_value(y0, times[0])\n",
    "    r.set_f_params([settings, params])\n",
    "    r.set_jac_params([settings, params])\n",
    "    t1 = stop_time\n",
    "    \n",
    "    sol = list()\n",
    "    while r.successful() and r.t < t1:\n",
    "        r.integrate(r.t+dt)\n",
    "        sol.append(r.y)\n",
    "    sol = array(real(sol)).T\n",
    "    \n",
    "    gauss = exp(-space**2/(4*params['POT_DIAM']**2))\n",
    "    gauss = gauss[:, None]\n",
    "    sol = sol*gauss\n",
    "\n",
    "    radpart = 4*pi*(space**2)\n",
    "    radpart = radpart[:, None]\n",
    "    sol = sol*radpart\n",
    "    \n",
    "    # integrate out space\n",
    "    timesum = sum(sol, axis = 0)\n",
    "    all_timesums.append( timesum )\n",
    "    \n",
    "    \n",
    "    \n",
    "    if save_full_sol:\n",
    "        allsol.append( sol )\n",
    "    \n",
    "    if save_fht:\n",
    "        all_fht.append( -diff(timesum) )\n",
    "    \n",
    "    \n",
    "    print (diam)"
   ]
  },
  {
   "cell_type": "code",
   "execution_count": null,
   "metadata": {
    "collapsed": false
   },
   "outputs": [],
   "source": [
    "# import pickle\n",
    "# namestr = 'MANYSOL__alpha_' + str(params['ALPHA']) + '__diffu_' + str(params['DCOEFF'])+'__kappa_' +\\\n",
    "# str(params['KAPPA']) + '__reacdiam_'+ str(params['POT_DIAM'])\n",
    "\n",
    "# thefile = open(namestr + '.pkl', 'w')\n",
    "# pickle.dump(allsol, thefile)"
   ]
  },
  {
   "cell_type": "code",
   "execution_count": null,
   "metadata": {
    "collapsed": true
   },
   "outputs": [],
   "source": [
    "# import cPickle as pickle\n",
    "# allsol = pickle.load(namestr + '.pkl')"
   ]
  },
  {
   "cell_type": "code",
   "execution_count": 32,
   "metadata": {
    "collapsed": false
   },
   "outputs": [
    {
     "data": {
      "image/png": "[encoded data removed]",
      "text/plain": [
       "<matplotlib.figure.Figure at 0x10a7778d0>"
      ]
     },
     "metadata": {},
     "output_type": "display_data"
    }
   ],
   "source": [
    "for (xval, timesum) in zip(well_diams**2, all_timesums):\n",
    "    yval = sum(timesum)\n",
    "    loglog(xval, yval, '.', markersize=25)\n",
    "    \n",
    "# nmstr = 'rough_mfpt_time_versus_well_squared_kappa=4e-1.pdf'\n",
    "# savefig(nmstr)\n",
    "# fig_annotate(nmstr, params)\n",
    "\n",
    "\n",
    "\n",
    "# hold(True)\n",
    "# loglog(well_diams**2, well_diams**4)\n",
    "# # loglog(well_diams**2, well_diams**3)"
   ]
  },
  {
   "cell_type": "code",
   "execution_count": 29,
   "metadata": {
    "collapsed": false
   },
   "outputs": [
    {
     "data": {
      "text/plain": [
       "[<matplotlib.lines.Line2D at 0x10a70e160>]"
      ]
     },
     "execution_count": 29,
     "metadata": {},
     "output_type": "execute_result"
    },
    {
     "data": {
      "image/png": "[encoded data removed]",
      "text/plain": [
       "<matplotlib.figure.Figure at 0x109b5aef0>"
      ]
     },
     "metadata": {},
     "output_type": "display_data"
    }
   ],
   "source": [
    "def expspace(lowlim, uplum, npts):\n",
    "    '''\n",
    "    logarithmically sample an interval\n",
    "    '''\n",
    "    return exp(linspace(log(lowlim), log(uplum),npts))\n",
    "    \n",
    "    \n",
    "plot(expspace(.001, .1,40),'.')\n",
    "hold(True)\n",
    "plot(linspace(.001, .1,40),'.')"
   ]
  },
  {
   "cell_type": "code",
   "execution_count": null,
   "metadata": {
    "collapsed": true
   },
   "outputs": [],
   "source": []
  },
  {
   "cell_type": "code",
   "execution_count": 26,
   "metadata": {
    "collapsed": false
   },
   "outputs": [
    {
     "data": {
      "text/plain": [
       "[<matplotlib.lines.Line2D at 0x109dd9d68>]"
      ]
     },
     "execution_count": 26,
     "metadata": {},
     "output_type": "execute_result"
    },
    {
     "data": {
      "image/png": "[encoded data removed]",
      "text/plain": [
       "<matplotlib.figure.Figure at 0x10a061f98>"
      ]
     },
     "metadata": {},
     "output_type": "display_data"
    }
   ],
   "source": [
    "# Check to make sure that size of gaussian is reasonable \n",
    "# given the size of the simulation box\n",
    "\n",
    "gauss = exp(-space**2/(4*(.01)**2))\n",
    "gauss = gauss[:, None]\n",
    "plot(gauss)"
   ]
  },
  {
   "cell_type": "markdown",
   "metadata": {
    "collapsed": true
   },
   "source": [
    "# Calculate first passage time distribution"
   ]
  },
  {
   "cell_type": "code",
   "execution_count": null,
   "metadata": {
    "collapsed": true
   },
   "outputs": [],
   "source": []
  },
  {
   "cell_type": "code",
   "execution_count": null,
   "metadata": {
    "collapsed": true
   },
   "outputs": [],
   "source": [
    "# Make a list of fht if you haven't already\n",
    "\n",
    "all_fht = list()\n",
    "for spec_sol in allsol:\n",
    "    all_fht.append( make_fht(times, spec_sol) )"
   ]
  },
  {
   "cell_type": "code",
   "execution_count": 22,
   "metadata": {
    "collapsed": false
   },
   "outputs": [
    {
     "name": "stderr",
     "output_type": "stream",
     "text": [
      "/Users/william/miniconda/envs/spakenv/lib/python3.4/site-packages/IPython/kernel/__main__.py:11: RuntimeWarning: invalid value encountered in log\n"
     ]
    },
    {
     "ename": "NameError",
     "evalue": "name 'fht' is not defined",
     "output_type": "error",
     "traceback": [
      "\u001b[0;31m---------------------------------------------------------------------------\u001b[0m",
      "\u001b[0;31mNameError\u001b[0m                                 Traceback (most recent call last)",
      "\u001b[0;32m<ipython-input-22-f8d245c3b5a3>\u001b[0m in \u001b[0;36m<module>\u001b[0;34m()\u001b[0m\n\u001b[1;32m     19\u001b[0m     \u001b[0;31m# calculate an approximate laplace transform\u001b[0m\u001b[0;34m\u001b[0m\u001b[0;34m\u001b[0m\u001b[0m\n\u001b[1;32m     20\u001b[0m     \u001b[0mtimestep\u001b[0m \u001b[0;34m=\u001b[0m \u001b[0mmedian\u001b[0m\u001b[0;34m(\u001b[0m\u001b[0mdiff\u001b[0m\u001b[0;34m(\u001b[0m\u001b[0mtimes\u001b[0m\u001b[0;34m)\u001b[0m\u001b[0;34m)\u001b[0m\u001b[0;34m\u001b[0m\u001b[0m\n\u001b[0;32m---> 21\u001b[0;31m     \u001b[0mout\u001b[0m \u001b[0;34m=\u001b[0m \u001b[0mjanky_laplace\u001b[0m\u001b[0;34m(\u001b[0m\u001b[0mtimesum\u001b[0m\u001b[0;34m,\u001b[0m \u001b[0mnum_lvls\u001b[0m\u001b[0;34m=\u001b[0m\u001b[0;36m200\u001b[0m\u001b[0;34m)\u001b[0m\u001b[0;34m\u001b[0m\u001b[0m\n\u001b[0m\u001b[1;32m     22\u001b[0m     \u001b[0mamps\u001b[0m \u001b[0;34m=\u001b[0m \u001b[0mout\u001b[0m\u001b[0;34m[\u001b[0m\u001b[0;36m1\u001b[0m\u001b[0;34m]\u001b[0m\u001b[0;34m\u001b[0m\u001b[0m\n\u001b[1;32m     23\u001b[0m     \u001b[0mall_timescales\u001b[0m\u001b[0;34m.\u001b[0m\u001b[0mappend\u001b[0m\u001b[0;34m(\u001b[0m\u001b[0mtimestep\u001b[0m\u001b[0;34m/\u001b[0m\u001b[0mout\u001b[0m\u001b[0;34m[\u001b[0m\u001b[0;36m0\u001b[0m\u001b[0;34m]\u001b[0m\u001b[0;34m)\u001b[0m\u001b[0;34m\u001b[0m\u001b[0m\n",
      "\u001b[0;32m/Users/william/Documents/Research/spakowitz_lab/code/diffusion_integrator_funcs.py\u001b[0m in \u001b[0;36mjanky_laplace\u001b[0;34m(signal, num_lvls)\u001b[0m\n\u001b[1;32m     83\u001b[0m \u001b[0;34m\u001b[0m\u001b[0m\n\u001b[1;32m     84\u001b[0m     \u001b[0;31m# estimate average timescale present\u001b[0m\u001b[0;34m\u001b[0m\u001b[0;34m\u001b[0m\u001b[0m\n\u001b[0;32m---> 85\u001b[0;31m     \u001b[0mkrate\u001b[0m \u001b[0;34m=\u001b[0m \u001b[0mmean\u001b[0m\u001b[0;34m(\u001b[0m \u001b[0mdiff\u001b[0m\u001b[0;34m(\u001b[0m\u001b[0mlog\u001b[0m\u001b[0;34m(\u001b[0m\u001b[0mfht\u001b[0m\u001b[0;34m)\u001b[0m\u001b[0;34m)\u001b[0m \u001b[0;34m)\u001b[0m\u001b[0;34m\u001b[0m\u001b[0m\n\u001b[0m\u001b[1;32m     86\u001b[0m     \u001b[0mkrate\u001b[0m \u001b[0;34m=\u001b[0m \u001b[0;34m-\u001b[0m\u001b[0mkrate\u001b[0m\u001b[0;34m\u001b[0m\u001b[0m\n\u001b[1;32m     87\u001b[0m \u001b[0;34m\u001b[0m\u001b[0m\n",
      "\u001b[0;31mNameError\u001b[0m: name 'fht' is not defined"
     ]
    },
    {
     "data": {
      "image/png": "[encoded data removed]",
      "text/plain": [
       "<matplotlib.figure.Figure at 0x10b71c518>"
      ]
     },
     "metadata": {},
     "output_type": "display_data"
    }
   ],
   "source": [
    "saveflag = False\n",
    "\n",
    "figure()\n",
    "hold(True)\n",
    "all_tau = list()\n",
    "all_laplace = list()\n",
    "all_timescales = list()\n",
    "\n",
    "for timesum in all_timesums:\n",
    "    \n",
    "    plot( times[::1000], log(log(timesum[::1000])) )\n",
    "    \n",
    "    # complete mean first passage time\n",
    "    krate = mean( diff(log(timesum)) )\n",
    "    krate = krate/mean( diff(times) )\n",
    "    tau = -1/krate\n",
    "    all_tau.append(tau)\n",
    "    \n",
    "    # calculate an approximate laplace transform\n",
    "    timestep = median(diff(times))\n",
    "    out = janky_laplace(timesum, num_lvls=200)\n",
    "    amps = out[1]\n",
    "    all_timescales.append(timestep/out[0])\n",
    "    \n",
    "    # don't take laplace of first-hitting distribution; \n",
    "    # take laplace of actual time traces\n",
    "    \n",
    "    all_laplace.append( amps[:,::1000].dot( timesum[::1000] )  )\n",
    "    \n",
    "\n",
    "if saveflag:\n",
    "    savefig('xxx_pdeoft_for_various_potdiam.pdf')\n",
    "\n",
    "\n",
    "# figure()\n",
    "# hold(True)\n",
    "# for sq_diam, tau, in zip(well_diams**2, all_tau):\n",
    "#     loglog(sq_diam,tau,'.',markersize=25)\n",
    "# if saveflag:\n",
    "#     savefig('xxmfpt_versus_potdiam.pdf')\n",
    "\n",
    "\n",
    "# figure()\n",
    "# hold(True)                      \n",
    "# for timescale, lapt in zip(all_timescales, all_laplace):\n",
    "#     loglog(timescale, lapt,'.')\n",
    "# if saveflag:\n",
    "#     savefig('all_laplace_pde.pdf')\n",
    "\n"
   ]
  },
  {
   "cell_type": "code",
   "execution_count": 17,
   "metadata": {
    "collapsed": false
   },
   "outputs": [
    {
     "data": {
      "text/plain": [
       "20"
      ]
     },
     "execution_count": 17,
     "metadata": {},
     "output_type": "execute_result"
    }
   ],
   "source": [
    "len(all_timesums)"
   ]
  },
  {
   "cell_type": "code",
   "execution_count": 15,
   "metadata": {
    "collapsed": false
   },
   "outputs": [
    {
     "name": "stderr",
     "output_type": "stream",
     "text": [
      "/Users/william/miniconda/envs/spakenv/lib/python3.4/site-packages/IPython/kernel/__main__.py:4: RuntimeWarning: invalid value encountered in log\n"
     ]
    },
    {
     "data": {
      "image/png": "[encoded data removed]",
      "text/plain": [
       "<matplotlib.figure.Figure at 0x104fc48d0>"
      ]
     },
     "metadata": {},
     "output_type": "display_data"
    }
   ],
   "source": [
    "hold(True)\n",
    "for timesum in all_timesums:\n",
    "    plot( times[::1000], log(log(timesum[::1000])) )\n",
    "# ylim([-1,1])"
   ]
  },
  {
   "cell_type": "code",
   "execution_count": 91,
   "metadata": {
    "collapsed": false
   },
   "outputs": [
    {
     "data": {
      "image/png": "[encoded data removed]",
      "text/plain": [
       "<matplotlib.figure.Figure at 0x10feda940>"
      ]
     },
     "metadata": {},
     "output_type": "display_data"
    }
   ],
   "source": [
    "figure()\n",
    "hold(True)                      \n",
    "for timescale, lapt in zip(all_timescales, all_laplace):\n",
    "    semilogy(timescale, lapt,'.')\n",
    "if saveflag:\n",
    "    savefig('all_laplace_pde.pdf')"
   ]
  },
  {
   "cell_type": "code",
   "execution_count": 77,
   "metadata": {
    "collapsed": false,
    "scrolled": true
   },
   "outputs": [
    {
     "data": {
      "image/png": "[encoded data removed]",
      "text/plain": [
       "<matplotlib.figure.Figure at 0x10b94c2b0>"
      ]
     },
     "metadata": {},
     "output_type": "display_data"
    },
    {
     "data": {
      "image/png": "[encoded data removed]",
      "text/plain": [
       "<matplotlib.figure.Figure at 0x11136bc18>"
      ]
     },
     "metadata": {},
     "output_type": "display_data"
    },
    {
     "data": {
      "image/png": "[encoded data removed]",
      "text/plain": [
       "<matplotlib.figure.Figure at 0x10fd25dd8>"
      ]
     },
     "metadata": {},
     "output_type": "display_data"
    }
   ],
   "source": [
    "# # sol_time = sum(sol, axis = 0)\n",
    "\n",
    "# saveflag = True\n",
    "\n",
    "# figure()\n",
    "# hold(True)\n",
    "# all_tau=list()\n",
    "# all_laplace = list()\n",
    "# all_timescales = list()\n",
    "# for fht in all_fht:\n",
    "    \n",
    "#     semilogy(times[:-1],fht)\n",
    "    \n",
    "#     # complete mean first passage time\n",
    "#     krate = mean( diff(log(fht)) )\n",
    "#     krate = krate/mean( diff(times) )\n",
    "#     tau = -1/krate\n",
    "#     all_tau.append(tau)\n",
    "    \n",
    "#     # calculate an approximate laplace transform\n",
    "#     timestep = median(diff(times))\n",
    "#     out = janky_laplace(fht, num_lvls=200)\n",
    "#     amps = out[1]\n",
    "#     all_timescales.append(timestep/out[0])\n",
    "    \n",
    "#     # don't take laplace of first-hitting distribution; \n",
    "#     # take laplace of actual time traces\n",
    "    \n",
    "#     all_laplace.append( amps[:,::1000].dot( fht[::1000] )  )\n",
    "    \n",
    "    \n",
    "\n",
    "# if saveflag:\n",
    "#     savefig('first_hitting_dists_for_various_potdiam.pdf')\n",
    "\n",
    "\n",
    "# figure()\n",
    "# hold(True)\n",
    "# for sq_diam, tau, in zip(well_diams**2, all_tau):\n",
    "#     loglog(sq_diam,tau,'.',markersize=25)\n",
    "# if saveflag:\n",
    "#     savefig('mfpt_versus_potdiam.pdf')\n",
    "\n",
    "\n",
    "# figure()\n",
    "# hold(True)                      \n",
    "# for timescale, lapt in zip(all_timescales, all_laplace):\n",
    "#     loglog(timescale, lapt,'.')\n",
    "# if saveflag:\n",
    "#     savefig('all_laplace_fht.pdf')\n",
    "\n"
   ]
  },
  {
   "cell_type": "code",
   "execution_count": 179,
   "metadata": {
    "collapsed": false
   },
   "outputs": [
    {
     "data": {
      "text/plain": [
       "[<matplotlib.lines.Line2D at 0x4558cc358>]"
      ]
     },
     "execution_count": 179,
     "metadata": {},
     "output_type": "execute_result"
    },
    {
     "data": {
      "image/png": "[encoded data removed]",
      "text/plain": [
       "<matplotlib.figure.Figure at 0x455903320>"
      ]
     },
     "metadata": {},
     "output_type": "display_data"
    }
   ],
   "source": [
    "timestep = median(diff(times))\n",
    "\n",
    "out = janky_laplace(fht, num_lvls=100)\n",
    "amps = out[1]\n",
    "\n",
    "timescales = timestep/out[0]\n",
    "\n",
    "# downsample to plot\n",
    "loglog(timescales, amps[:,::1000].dot(fht[::1000]),'.')\n",
    "# savefig('laplace_fht.pdf')"
   ]
  },
  {
   "cell_type": "code",
   "execution_count": 21,
   "metadata": {
    "collapsed": true
   },
   "outputs": [],
   "source": [
    "## pick parameter values\n",
    "\n",
    "\n",
    "def timescale_vs_asquared(well_diams):\n",
    "    '''\n",
    "    Estimate the characteristic timescale of the reaction diffusion system \n",
    "    as a function of the well diameter. This code does not save the full \n",
    "    solution for memory reasons.\n",
    "    '''\n",
    "                    \n",
    "\n",
    "    save_full_sol = False #not recommended for more than 10 points\n",
    "    save_fht = False\n",
    "\n",
    "    allsol = list()\n",
    "\n",
    "    all_fht = list()\n",
    "\n",
    "    all_timesums = list()\n",
    "\n",
    "\n",
    "    for diam in well_diams:\n",
    "        \n",
    "        params['POT_DIAM'] = diam\n",
    "\n",
    "        # have to re-intialize because r is a generator expression\n",
    "        r = ode(nxt_step, jacob).set_integrator('lsoda', with_jacobian=True)\n",
    "        r.set_initial_value(y0, times[0])\n",
    "        r.set_f_params([settings, params])\n",
    "        r.set_jac_params([settings, params])\n",
    "        t1 = stop_time\n",
    "\n",
    "        sol = list()\n",
    "        while r.successful() and r.t < t1:\n",
    "            r.integrate(r.t+dt)\n",
    "            sol.append(r.y)\n",
    "        sol = array(real(sol)).T\n",
    "\n",
    "        gauss = exp(-space**2/(4*params['POT_DIAM']**2))\n",
    "        gauss = gauss[:, None]\n",
    "        sol = sol*gauss\n",
    "\n",
    "        radpart = 4*pi*(space**2)\n",
    "        radpart = radpart[:, None]\n",
    "        sol = sol*radpart\n",
    "\n",
    "        # integrate out space\n",
    "        timesum = sum(sol, axis = 0)\n",
    "        all_timesums.append( timesum )\n",
    "\n",
    "        if save_full_sol:\n",
    "            allsol.append( sol )\n",
    "\n",
    "        if save_fht:\n",
    "            all_fht.append( -diff(timesum) )\n",
    "\n",
    "\n",
    "        print (diam)\n",
    "        \n",
    "    return array(all_timesums)\n",
    "\n",
    "\n",
    "def timescale_vs_asquared_vs_kappa(well_diams, kvals):\n",
    "    \n",
    "    outs = list()\n",
    "    \n",
    "    for kval in kvals:\n",
    "        params['KAPPA'] = kval\n",
    "        outs.append( sum(timescale_vs_asquared(well_diams), axis=1) )\n",
    "        \n",
    "        \n",
    "    "
   ]
  },
  {
   "cell_type": "markdown",
   "metadata": {},
   "source": [
    "# Appendix code"
   ]
  },
  {
   "cell_type": "code",
   "execution_count": null,
   "metadata": {
    "collapsed": true
   },
   "outputs": [],
   "source": [
    "import unittest\n",
    "\n",
    "class IntegratorTest(unittest.TestCase):\n",
    "    def test(self):\n",
    "        self.assertEqual(fun(3), 4)"
   ]
  },
  {
   "cell_type": "code",
   "execution_count": null,
   "metadata": {
    "collapsed": true
   },
   "outputs": [],
   "source": [
    "def nxt_step(yvals, timepoint, dt, settings, params):\n",
    "    \n",
    "    assert dt > 0\n",
    "    \n",
    "    allspace = settings['space']\n",
    "    dx = allspace[2]-allspace[1]\n",
    "    \n",
    "    WELL_DIAM = params['WELL_DIAM']\n",
    "    POT_DIAM = params['POT_DIAM']\n",
    "    KAPPA = params['KAPPA']\n",
    "    DCOEFF = params['DCOEFF']\n",
    "    ALPHA = params['ALPHA']\n",
    "    \n",
    "    DCOEFF = ALPHA *(timepoint**(ALPHA-1))*DCOEFF\n",
    "    \n",
    "    # remove this and change allspace\n",
    "    a = POT_DIAM\n",
    "\n",
    "    L = len(yvals)\n",
    "        \n",
    "    nxt_vals = zeros(len(yvals))\n",
    "    \n",
    "    # second derivative step\n",
    "    lap = lap2d(L) \n",
    "    nxt_vals += (1/dx**2)*lap.dot(yvals)\n",
    "    \n",
    "    \n",
    "    # first derivative steps\n",
    "    drv = grad1D(L)\n",
    "    drvvals = (1/dx)*drv.dot(yvals)\n",
    "    nxt_vals += (4*drvvals)/allspace\n",
    "    nxt_vals += -(3/4)*allspace*drvvals/(a**2)\n",
    "    \n",
    "    \n",
    "    # other steps\n",
    "    nxt_vals += (1/(8*a**4))*(allspace**2)*yvals\n",
    "    nxt_vals += -(1/a**2)*yvals\n",
    "    # assume \\ell = 0\n",
    "    nxt_vals += (2/(allspace**2))*yvals\n",
    "    \n",
    "    \n",
    "    # now multiply by diffusion coefficient and all that\n",
    "    nxt_vals = -DCOEFF*nxt_vals\n",
    "    \n",
    "    # now implement reaction step\n",
    "    drain_window = double(allspace < WELL_DIAM)\n",
    "    \n",
    "    # smooth step\n",
    "#     drain_window = 1-smoothstep(linspace(0,L,L),center=floor(WELL_DIAM/allspace[-1]),sharpness=.9)\n",
    "    \n",
    "    nxt_vals += -KAPPA*drain_window*yvals\n",
    "    \n",
    "    # now implement boundary conditions\n",
    "    nxt_vals[0] = nxt_vals[1]\n",
    "    nxt_vals[-1] = nxt_vals[-2]\n",
    "    \n",
    "    return nxt_vals"
   ]
  },
  {
   "cell_type": "code",
   "execution_count": null,
   "metadata": {
    "collapsed": true
   },
   "outputs": [],
   "source": []
  },
  {
   "cell_type": "code",
   "execution_count": null,
   "metadata": {
    "collapsed": true
   },
   "outputs": [],
   "source": []
  },
  {
   "cell_type": "code",
   "execution_count": 33,
   "metadata": {
    "collapsed": false
   },
   "outputs": [
    {
     "name": "stdout",
     "output_type": "stream",
     "text": [
      "0.001\n",
      "0.00621052631579\n",
      "0.0114210526316\n",
      "0.0166315789474\n",
      "0.0218421052632\n",
      "0.0270526315789\n",
      "0.0322631578947\n",
      "0.0374736842105\n",
      "0.0426842105263\n",
      "0.0478947368421\n",
      "0.0531052631579\n",
      "0.0583157894737\n",
      "0.0635263157895\n",
      "0.0687368421053\n",
      "0.0739473684211\n",
      "0.0791578947368\n",
      "0.0843684210526\n",
      "0.0895789473684\n",
      "0.0947894736842\n",
      "0.1\n"
     ]
    }
   ],
   "source": [
    "well_diams = linspace(.001,.1,20)\n",
    "kvals = linspace(1e-4,1e-5, 5)\n",
    "outs = timescale_vs_asquared(well_diams)"
   ]
  },
  {
   "cell_type": "code",
   "execution_count": 36,
   "metadata": {
    "collapsed": false
   },
   "outputs": [
    {
     "data": {
      "text/plain": [
       "[<matplotlib.lines.Line2D at 0x13efaddd8>]"
      ]
     },
     "execution_count": 36,
     "metadata": {},
     "output_type": "execute_result"
    },
    {
     "data": {
      "image/png": "[encoded data removed]",
      "text/plain": [
       "<matplotlib.figure.Figure at 0x13fe8f240>"
      ]
     },
     "metadata": {},
     "output_type": "display_data"
    }
   ],
   "source": [
    "loglog(well_diams**2, sum(array(outs),axis=1),'.')"
   ]
  },
  {
   "cell_type": "code",
   "execution_count": null,
   "metadata": {
    "collapsed": true
   },
   "outputs": [],
   "source": []
  }
 ],
 "metadata": {
  "kernelspec": {
   "display_name": "Python 3",
   "language": "python",
   "name": "python3"
  },
  "language_info": {
   "codemirror_mode": {
    "name": "ipython",
    "version": 3
   },
   "file_extension": ".py",
   "mimetype": "text/x-python",
   "name": "python",
   "nbconvert_exporter": "python",
   "pygments_lexer": "ipython3",
   "version": "3.4.3"
  }
 },
 "nbformat": 4,
 "nbformat_minor": 0
}
