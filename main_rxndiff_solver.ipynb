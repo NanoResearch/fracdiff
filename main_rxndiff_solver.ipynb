{
 "cells": [
  {
   "cell_type": "markdown",
   "metadata": {},
   "source": [
    "# Integrate the 3D fractional diffusion equation in a harmonic potential with a reaction zone"
   ]
  },
  {
   "cell_type": "markdown",
   "metadata": {},
   "source": [
    "This notebook walks through the steps necessary to solve and analyze this differential equation\n",
    "\n",
    "$$ \\dfrac{1}{\\alpha D t^{\\alpha - a}} \\left(  \\dot\\phi + \\kappa \\;\\mathcal H(d - r)  \\right) = \\phi'' + 4 \\dfrac{\\phi'}{r} + \\dfrac{1}{8a^4} r^2 \\phi - \\dfrac{1}{a^2} \\phi + 2\\dfrac{1}{r^2}\\phi $$\n",
    "\n",
    "where $\\mathcal H$ is the unit step that defines the reaction zone, $\\phi = \\phi(r,t)$ is the concentration, $\\kappa$ is the reaction rate, $D$ is the diffusion coefficient, $d$ is the width of the reaction zone, and $a$ is the width of the harmonic potential centered at the origin. This equation was derived by taking the full 3D fractional diffusion equation (with a power-law diffusivity) and keeping only the $\\ell=0$ spherical harmonic, resulting in a single radial diffusion equation. In the equation above, the equilibrium distribution has already been pulled out of the term $\\phi$, so that the true concentration looks like:\n",
    "\n",
    "$$ \\Phi(r,t) = \\phi(r,t) \\exp\\left( -\\frac{r^2}{4 a^2}  \\right) $$\n",
    "\n",
    "So this integrator solves for $\\phi(r,t)$ and then multiplies the final solution by the equilibrium gaussian to give a concentration profile. Additionally, this code multiplies the final result by a factor of $4 \\pi r^2$ in order to give a probability density, instead of a concentration profile:\n",
    "\n",
    "$$ P(r,t) = \\dfrac{4 \\pi r^2}{8 a^3 \\pi^{3/2}}  \\phi(r,t) \\exp\\left( -\\frac{r^2}{4 a^2}  \\right) $$\n",
    "\n",
    "**The final array \"sol\" returned by the integrator represents this function $P(r,t)$ in time and space **\n",
    "The jumble of constants at the front normalizes the distribution. \n",
    "\n",
    "There's another file in this directory, *rxn_diffusion_nondim.ipynb*, that solves a slightly different parametricization of this equation where $t \\rightarrow t^\\alpha$\n",
    "\n",
    "*If you are current reading an HTML file, then you are looking at a static snapshot of the .ipynb version of this file.*"
   ]
  },
  {
   "cell_type": "markdown",
   "metadata": {},
   "source": [
    "### Import necessary functions and packages"
   ]
  },
  {
   "cell_type": "code",
   "execution_count": 1,
   "metadata": {
    "collapsed": false
   },
   "outputs": [
    {
     "name": "stdout",
     "output_type": "stream",
     "text": [
      "Populating the interactive namespace from numpy and matplotlib\n"
     ]
    }
   ],
   "source": [
    "# import matplotlib\n",
    "# matplotlib.use( \"agg\" )\n",
    "%pylab inline\n",
    "\n",
    "import plt_fmt\n",
    "\n",
    "from numba import jit\n",
    "\n",
    "from fig_annotate import *\n",
    "\n",
    "\n",
    "from diffusion_integrator_funcs import *\n",
    "from frac_brown import *\n",
    "\n",
    "from brownian_integrator import *"
   ]
  },
  {
   "cell_type": "markdown",
   "metadata": {},
   "source": [
    "### Set parameters and run integrator"
   ]
  },
  {
   "cell_type": "code",
   "execution_count": 98,
   "metadata": {
    "collapsed": false
   },
   "outputs": [],
   "source": [
    "from scipy.integrate import ode\n",
    "\n",
    "## pick parameter values\n",
    "params = dict()\n",
    "\n",
    "\n",
    "# # width of overall potential well. smaller this is, the stronger the forcing\n",
    "# params['POT_DIAM'] = .1\n",
    "# params['KAPPA'] = 4e-1\n",
    "# params['DCOEFF'] = 1e-6\n",
    "# # alpha less than one\n",
    "# params['ALPHA']= .5\n",
    "\n",
    "# width of overall potential well. smaller this is, the stronger the forcing\n",
    "params['POT_DIAM'] = 1.0\n",
    "params['KAPPA'] = 4e-3\n",
    "params['DCOEFF'] = 1e-1\n",
    "# alpha less than one\n",
    "params['ALPHA']= .5\n",
    "\n",
    "## set integrator settings\n",
    "settings = dict()\n",
    "\n",
    "space_pts = 100\n",
    "ACTUAL_LENGTH = 10*params['POT_DIAM']\n",
    "\n",
    "\n",
    "# width of reactive well\n",
    "params['WELL_DIAM'] = 2\n",
    "\n",
    "\n",
    "time_pts = 1e6\n",
    "start_time = 0.0\n",
    "stop_time = 1e1\n",
    "\n",
    "\n",
    "\n",
    "# set integrator settings\n",
    "settings = dict()\n",
    "\n",
    "dt = (stop_time-start_time)/time_pts\n",
    "times = linspace(start_time, stop_time, time_pts)\n",
    "times = times + dt\n",
    "\n",
    "dx = ACTUAL_LENGTH/space_pts\n",
    "space = linspace(0.0, ACTUAL_LENGTH, space_pts)\n",
    "space = space+dx\n",
    "\n",
    "# initial conditions\n",
    "y0 = ones(space_pts)\n",
    "\n",
    "# settings['dx'] = dx\n",
    "settings['space'] = space\n",
    "settings['times'] = times\n",
    "\n",
    "# settings['times'] = time_nondim(times, params)\n",
    "\n",
    "\n",
    "# r = ode(nxt_step, jacob).set_integrator('vode', method='bdf', with_jacobian=True)\n",
    "r = ode(nxt_step, radiff_timeop).set_integrator('lsoda', with_jacobian=True)\n",
    "r.set_initial_value(y0, times[0])\n",
    "\n",
    "r.set_f_params([settings, params])\n",
    "r.set_jac_params([settings, params])\n",
    "\n",
    "t1 = stop_time\n",
    "sol = list()\n",
    "while r.successful() and r.t < t1:\n",
    "    r.integrate(r.t+dt)\n",
    "    sol.append(r.y)\n",
    "\n",
    "sol = array(real(sol)).T\n",
    "\n",
    "\n",
    "# now multiply through by the equilibrium distribution to express things in terms \n",
    "# of a radial probability density function\n",
    "gauss = eq_dist(space, params['POT_DIAM'])\n",
    "gauss = gauss[:, None]\n",
    "sol = sol*gauss\n"
   ]
  },
  {
   "cell_type": "markdown",
   "metadata": {},
   "source": [
    "## Plot the results"
   ]
  },
  {
   "cell_type": "code",
   "execution_count": 99,
   "metadata": {
    "collapsed": false
   },
   "outputs": [
    {
     "data": {
      "text/plain": [
       "<matplotlib.text.Text at 0x17567ef98>"
      ]
     },
     "execution_count": 99,
     "metadata": {},
     "output_type": "execute_result"
    },
    {
     "data": {
      "image/png": "[encoded data removed]",
      "text/plain": [
       "<matplotlib.figure.Figure at 0x1320c1c18>"
      ]
     },
     "metadata": {},
     "output_type": "display_data"
    },
    {
     "data": {
      "image/png": "[encoded data removed]",
      "text/plain": [
       "<matplotlib.figure.Figure at 0x175673668>"
      ]
     },
     "metadata": {},
     "output_type": "display_data"
    }
   ],
   "source": [
    "# plot time slices\n",
    "figure()\n",
    "solrange = len(sol[0,:])\n",
    "num_slices = 20\n",
    "hold(True)\n",
    "slice_range = floor(solrange/num_slices)\n",
    "for ii in range(num_slices):\n",
    "    plot(space, sol[:,ii*slice_range])\n",
    "plot(space, sol[:,-1])\n",
    "# ylim([0,.05])\n",
    "rcParams['font.family']='Open Sans'\n",
    "xlabel(\"Position along well\")\n",
    "ylabel(\"Probability\")\n",
    "\n",
    "\n",
    "#namestr = 'alpha_' + str(params['ALPHA']) + '__diffu_' + str(params['DCOEFF'])+'__kappa_' +\\\n",
    "str(params['KAPPA'])+'__reacdiam_' +str(params['WELL_DIAM'])+'__potdiam_' + str(params['POT_DIAM'])\n",
    "# savefig(namestr+'.pdf')\n",
    "\n",
    "\n",
    "# integrate out space and plot surviving fraction as a function of time\n",
    "figure()\n",
    "total_conc = dx*sum(sol, axis = 0)\n",
    "plot(times, total_conc)\n",
    "ylabel(\"Surviving fraction\")\n",
    "xlabel(\"time\")"
   ]
  },
  {
   "cell_type": "markdown",
   "metadata": {},
   "source": [
    "## Plot the survival probabilities for various values of the potential diameter"
   ]
  },
  {
   "cell_type": "markdown",
   "metadata": {},
   "source": [
    "The next step is to run the integrator above for a bunch of different values of the potential diameter, $a$. The code below does list that, printing out the diameter it just used as it goes. The integrator will save the full solution in space and time (for each value of $a$ tested) if the boolean *save_full_sol* is True. This takes a lot of memory and is only really useful if you want to examine full space slices at different times for signs of numerical stability issues. Otherwise, the integrator reduces the dimensionality of the data by integrating out space:\n",
    "\n",
    "$$ P_{survival} (t) = \\int P(r,t) dr $$\n",
    "\n",
    "These vectors (indexed by timepoint) get stored in a list (indexed by the potential diameter $a$). In general, for very small values of $a$, $P_{survival} (t)$ looks like an exponential, whereas for very large values of $a$, $P_{survival} (t)$ starts to look like a stretched exponential. These limiting cases are further discussed below.\n",
    "\n",
    "In order to estimate the average survival time at each $a$ from $P_{survival} (t)$, the distribution is just integrated,\n",
    "\n",
    "$$ \\tau_{survive} = \\int P_{survival} (t) dt $$\n",
    "\n",
    "**The key plots from this project are graphs of $\\tau_{survive}$ for different values of $a^2$, which is proportional to $N$ and thus the molecular weight. This relationship is further discussed below.**\n"
   ]
  },
  {
   "cell_type": "code",
   "execution_count": 89,
   "metadata": {
    "collapsed": true
   },
   "outputs": [],
   "source": [
    "## pick parameter values\n",
    "\n",
    "\n",
    "def timescale_vs_asquared(well_diams, params, settings, save_full_sol=False):\n",
    "    '''\n",
    "    Estimate the characteristic timescale of the reaction diffusion system \n",
    "    as a function of the well diameter. This code does not save the full \n",
    "    solution for memory reasons.\n",
    "    \n",
    "    INPUTS\n",
    "    ------\n",
    "    \n",
    "    well_diams : array\n",
    "        The different potential well widths at which to run simulations\n",
    "    \n",
    "    params : dict()\n",
    "        All parameters values to use in the integration\n",
    "        \n",
    "   settings : dict()\n",
    "        All of the settings for the integrator\n",
    "        \n",
    "        \n",
    "    RETURNS\n",
    "    -------\n",
    "    \n",
    "    outs : array\n",
    "        Survival probability traces for each value in well_diams\n",
    "    \n",
    "    '''\n",
    "    \n",
    "    # make a defensive copy\n",
    "    params = params.copy()\n",
    "    settings = settings.copy()\n",
    "\n",
    "    allsol = list()\n",
    "    all_timesums = list()\n",
    "    ct = 0\n",
    "\n",
    "    for diam in well_diams:\n",
    "        \n",
    "        params['POT_DIAM'] = diam\n",
    "        space_pts = 100\n",
    "        ACTUAL_LENGTH = 10*params['POT_DIAM']\n",
    "#         ACTUAL_LENGTH = .5\n",
    "        dx = ACTUAL_LENGTH/space_pts\n",
    "        space = linspace(0.0, ACTUAL_LENGTH, space_pts)\n",
    "        space = space+dx\n",
    "    \n",
    "        settings['space'] = space\n",
    "        \n",
    "        # set initial equilibrium conditions\n",
    "        y0 = ones(space_pts)\n",
    "        \n",
    "        # have to re-intialize because r is a generator expression\n",
    "        r = ode(nxt_step, radiff_timeop).set_integrator('lsoda', with_jacobian=True)\n",
    "        r.set_initial_value(y0, times[0])\n",
    "        r.set_f_params([settings, params])\n",
    "        r.set_jac_params([settings, params])\n",
    "        t1 = times[-1]\n",
    "\n",
    "        sol = list()\n",
    "        while r.successful() and r.t < t1:\n",
    "            r.integrate(r.t+dt)\n",
    "            sol.append(r.y)\n",
    "        sol = array(real(sol)).T\n",
    "\n",
    "        gauss = eq_dist(space, params['POT_DIAM'])\n",
    "        gauss = gauss[:, None]\n",
    "        sol = sol*gauss\n",
    "        \n",
    "#         gauss = (1/sqrt(2*pi*params['POT_DIAM']**2))*exp(-space**2/(4*params['POT_DIAM']**2))\n",
    "#         gauss = gauss[:, None]\n",
    "#         sol = sol*gauss\n",
    "#         radpart = 4*pi*(space**2)\n",
    "#         radpart = radpart[:, None]\n",
    "#         sol = radpart*sol\n",
    "\n",
    "\n",
    "        # integrate out space\n",
    "        timesum = dx*sum(sol, axis = 0)\n",
    "        all_timesums.append( timesum )\n",
    "\n",
    "        if save_full_sol:\n",
    "            allsol.append( sol )\n",
    "        \n",
    "        # report on progress\n",
    "        nn = len(well_diams)\n",
    "        nnind = floor(nn/5)\n",
    "        ct = mod(ct, nnind)\n",
    "        ct += 1\n",
    "        if ct==1: print (diam)\n",
    "    \n",
    "    outs = array(all_timesums)\n",
    "    if save_full_sol:\n",
    "        return [allsol, outs]\n",
    "    else:\n",
    "        return outs\n",
    "\n",
    "\n",
    "\n",
    "def timescale_vs_asquared_vs_kappa(well_diams, kvals, params, settings):\n",
    "    \n",
    "    params = params.copy()\n",
    "    outs = list()\n",
    "    times = settings['times']\n",
    "    dt = times[2] - times[1]\n",
    "    \n",
    "    for kval in kvals:\n",
    "        params['KAPPA'] = kval\n",
    "        tva = timescale_vs_asquared(well_diams, params, settings)\n",
    "        outs.append( dt*sum(tva, axis=1) )\n",
    "        \n",
    "    return outs\n",
    "        \n",
    "\n",
    "def timescale_vs_asquared_vs_rxndiam(well_diams, rxn_diam_vals, params, settings):\n",
    "    \n",
    "    params = params.copy()\n",
    "    outs = list()\n",
    "    times = settings['times']\n",
    "    dt = times[2] - times[1]\n",
    "    \n",
    "    for rxn_diam in rxn_diam_vals:\n",
    "        params['WELL_DIAM'] = rxn_diam\n",
    "        tva = timescale_vs_asquared(well_diams, params, settings)\n",
    "        outs.append( dt*sum(tva, axis=1) )\n",
    "        \n",
    "    return outs"
   ]
  },
  {
   "cell_type": "code",
   "execution_count": 91,
   "metadata": {
    "collapsed": false
   },
   "outputs": [
    {
     "ename": "KeyboardInterrupt",
     "evalue": "",
     "output_type": "error",
     "traceback": [
      "\u001b[0;31m---------------------------------------------------------------------------\u001b[0m",
      "\u001b[0;31mKeyboardInterrupt\u001b[0m                         Traceback (most recent call last)",
      "\u001b[0;32m<ipython-input-91-8d70216f99fb>\u001b[0m in \u001b[0;36m<module>\u001b[0;34m()\u001b[0m\n\u001b[1;32m      9\u001b[0m \u001b[0mwell_diams\u001b[0m \u001b[0;34m=\u001b[0m \u001b[0mexpspace\u001b[0m\u001b[0;34m(\u001b[0m\u001b[0mmin_a_val\u001b[0m\u001b[0;34m,\u001b[0m \u001b[0mmax_a_val\u001b[0m\u001b[0;34m,\u001b[0m \u001b[0ma_npts\u001b[0m\u001b[0;34m)\u001b[0m\u001b[0;34m\u001b[0m\u001b[0m\n\u001b[1;32m     10\u001b[0m \u001b[0;34m\u001b[0m\u001b[0m\n\u001b[0;32m---> 11\u001b[0;31m \u001b[0mout\u001b[0m \u001b[0;34m=\u001b[0m \u001b[0mtimescale_vs_asquared\u001b[0m\u001b[0;34m(\u001b[0m\u001b[0mwell_diams\u001b[0m\u001b[0;34m,\u001b[0m \u001b[0mparams\u001b[0m\u001b[0;34m,\u001b[0m \u001b[0msettings\u001b[0m\u001b[0;34m,\u001b[0m \u001b[0msave_full_sol\u001b[0m\u001b[0;34m=\u001b[0m\u001b[0;32mFalse\u001b[0m\u001b[0;34m)\u001b[0m\u001b[0;34m\u001b[0m\u001b[0m\n\u001b[0m\u001b[1;32m     12\u001b[0m \u001b[0;34m\u001b[0m\u001b[0m\n\u001b[1;32m     13\u001b[0m \u001b[0;34m\u001b[0m\u001b[0m\n",
      "\u001b[0;32m<ipython-input-89-f7e465894a7a>\u001b[0m in \u001b[0;36mtimescale_vs_asquared\u001b[0;34m(well_diams, params, settings, save_full_sol)\u001b[0m\n\u001b[1;32m     61\u001b[0m         \u001b[0msol\u001b[0m \u001b[0;34m=\u001b[0m \u001b[0mlist\u001b[0m\u001b[0;34m(\u001b[0m\u001b[0;34m)\u001b[0m\u001b[0;34m\u001b[0m\u001b[0m\n\u001b[1;32m     62\u001b[0m         \u001b[0;32mwhile\u001b[0m \u001b[0mr\u001b[0m\u001b[0;34m.\u001b[0m\u001b[0msuccessful\u001b[0m\u001b[0;34m(\u001b[0m\u001b[0;34m)\u001b[0m \u001b[0;32mand\u001b[0m \u001b[0mr\u001b[0m\u001b[0;34m.\u001b[0m\u001b[0mt\u001b[0m \u001b[0;34m<\u001b[0m \u001b[0mt1\u001b[0m\u001b[0;34m:\u001b[0m\u001b[0;34m\u001b[0m\u001b[0m\n\u001b[0;32m---> 63\u001b[0;31m             \u001b[0mr\u001b[0m\u001b[0;34m.\u001b[0m\u001b[0mintegrate\u001b[0m\u001b[0;34m(\u001b[0m\u001b[0mr\u001b[0m\u001b[0;34m.\u001b[0m\u001b[0mt\u001b[0m\u001b[0;34m+\u001b[0m\u001b[0mdt\u001b[0m\u001b[0;34m)\u001b[0m\u001b[0;34m\u001b[0m\u001b[0m\n\u001b[0m\u001b[1;32m     64\u001b[0m             \u001b[0msol\u001b[0m\u001b[0;34m.\u001b[0m\u001b[0mappend\u001b[0m\u001b[0;34m(\u001b[0m\u001b[0mr\u001b[0m\u001b[0;34m.\u001b[0m\u001b[0my\u001b[0m\u001b[0;34m)\u001b[0m\u001b[0;34m\u001b[0m\u001b[0m\n\u001b[1;32m     65\u001b[0m         \u001b[0msol\u001b[0m \u001b[0;34m=\u001b[0m \u001b[0marray\u001b[0m\u001b[0;34m(\u001b[0m\u001b[0mreal\u001b[0m\u001b[0;34m(\u001b[0m\u001b[0msol\u001b[0m\u001b[0;34m)\u001b[0m\u001b[0;34m)\u001b[0m\u001b[0;34m.\u001b[0m\u001b[0mT\u001b[0m\u001b[0;34m\u001b[0m\u001b[0m\n",
      "\u001b[0;32m/Users/william/miniconda/envs/spakenv/lib/python3.4/site-packages/scipy/integrate/_ode.py\u001b[0m in \u001b[0;36mintegrate\u001b[0;34m(self, t, step, relax)\u001b[0m\n\u001b[1;32m    392\u001b[0m             self._y, self.t = mth(self.f, self.jac or (lambda: None),\n\u001b[1;32m    393\u001b[0m                                 \u001b[0mself\u001b[0m\u001b[0;34m.\u001b[0m\u001b[0m_y\u001b[0m\u001b[0;34m,\u001b[0m \u001b[0mself\u001b[0m\u001b[0;34m.\u001b[0m\u001b[0mt\u001b[0m\u001b[0;34m,\u001b[0m \u001b[0mt\u001b[0m\u001b[0;34m,\u001b[0m\u001b[0;34m\u001b[0m\u001b[0m\n\u001b[0;32m--> 394\u001b[0;31m                                 self.f_params, self.jac_params)\n\u001b[0m\u001b[1;32m    395\u001b[0m         \u001b[0;32mexcept\u001b[0m \u001b[0mSystemError\u001b[0m\u001b[0;34m:\u001b[0m\u001b[0;34m\u001b[0m\u001b[0m\n\u001b[1;32m    396\u001b[0m             \u001b[0;31m# f2py issue with tuple returns, see ticket 1187.\u001b[0m\u001b[0;34m\u001b[0m\u001b[0;34m\u001b[0m\u001b[0m\n",
      "\u001b[0;31mKeyboardInterrupt\u001b[0m: "
     ]
    }
   ],
   "source": [
    "min_a_val = .001\n",
    "max_a_val = .1\n",
    "\n",
    "min_a_val = 2\n",
    "max_a_val = 100\n",
    "a_npts = 20\n",
    "\n",
    "\n",
    "well_diams = expspace(min_a_val, max_a_val, a_npts)\n",
    "\n",
    "out = timescale_vs_asquared(well_diams, params, settings, save_full_sol=False)\n",
    "\n",
    "\n",
    "# plot the results\n",
    "loglog(well_diams**2, dt*sum(out, axis=1),'.',markersize=20)\n",
    "ylabel('Survival time')\n",
    "xlabel('a^2 (proportional to molecular weight)')"
   ]
  },
  {
   "cell_type": "markdown",
   "metadata": {
    "collapsed": true
   },
   "source": [
    "# Now make some plots of the survival distribution itself"
   ]
  },
  {
   "cell_type": "markdown",
   "metadata": {},
   "source": [
    "We're going to plot everything as $log(-log(P_{survival}(t))$ versus $log(t)$ first, so that the slope of the resulting line is simply $1/\\alpha$ in the diffusion-dominated regime large $M$ or $N$. Then we're going to plot everything as $\\log(P_{survival}(t))$ versus $t$, since in the reaction regime we expect to see exponential survival times. There is also a function, *janky_laplace.py*, that implements a really crude version of the Laplace transform for the discrete signal/"
   ]
  },
  {
   "cell_type": "code",
   "execution_count": 36,
   "metadata": {
    "collapsed": false
   },
   "outputs": [
    {
     "name": "stderr",
     "output_type": "stream",
     "text": [
      "/Users/william/miniconda/envs/spakenv/lib/python3.4/site-packages/IPython/kernel/__main__.py:1: RuntimeWarning: invalid value encountered in log\n",
      "  if __name__ == '__main__':\n",
      "/Users/william/miniconda/envs/spakenv/lib/python3.4/site-packages/IPython/kernel/__main__.py:1: RuntimeWarning: divide by zero encountered in log\n",
      "  if __name__ == '__main__':\n"
     ]
    },
    {
     "data": {
      "text/plain": [
       "[<matplotlib.lines.Line2D at 0x108dc8828>,\n",
       " <matplotlib.lines.Line2D at 0x108dc8470>,\n",
       " <matplotlib.lines.Line2D at 0x108db7ef0>,\n",
       " <matplotlib.lines.Line2D at 0x108dd90f0>,\n",
       " <matplotlib.lines.Line2D at 0x108dd9e10>,\n",
       " <matplotlib.lines.Line2D at 0x108dd9048>,\n",
       " <matplotlib.lines.Line2D at 0x10917a898>,\n",
       " <matplotlib.lines.Line2D at 0x109171240>,\n",
       " <matplotlib.lines.Line2D at 0x1091715f8>,\n",
       " <matplotlib.lines.Line2D at 0x10915d7f0>]"
      ]
     },
     "execution_count": 36,
     "metadata": {},
     "output_type": "execute_result"
    },
    {
     "data": {
      "image/png": "[encoded data removed]",
      "text/plain": [
       "<matplotlib.figure.Figure at 0x109b05a58>"
      ]
     },
     "metadata": {},
     "output_type": "display_data"
    }
   ],
   "source": [
    "plot(log( -(log(mm)) ))"
   ]
  },
  {
   "cell_type": "code",
   "execution_count": 37,
   "metadata": {
    "collapsed": false
   },
   "outputs": [
    {
     "data": {
      "text/plain": [
       "(1001, 10)"
      ]
     },
     "execution_count": 37,
     "metadata": {},
     "output_type": "execute_result"
    }
   ],
   "source": [
    "mm.shape"
   ]
  },
  {
   "cell_type": "code",
   "execution_count": 38,
   "metadata": {
    "collapsed": false
   },
   "outputs": [
    {
     "data": {
      "text/plain": [
       "(1000,)"
      ]
     },
     "execution_count": 38,
     "metadata": {},
     "output_type": "execute_result"
    }
   ],
   "source": [
    "times[::1000].shape"
   ]
  },
  {
   "cell_type": "code",
   "execution_count": 42,
   "metadata": {
    "collapsed": false
   },
   "outputs": [
    {
     "name": "stderr",
     "output_type": "stream",
     "text": [
      "/Users/william/miniconda/envs/spakenv/lib/python3.4/site-packages/IPython/kernel/__main__.py:4: RuntimeWarning: invalid value encountered in log\n",
      "/Users/william/miniconda/envs/spakenv/lib/python3.4/site-packages/IPython/kernel/__main__.py:4: RuntimeWarning: divide by zero encountered in log\n",
      "/Users/william/miniconda/envs/spakenv/lib/python3.4/site-packages/IPython/kernel/__main__.py:8: RuntimeWarning: invalid value encountered in log\n",
      "/Users/william/miniconda/envs/spakenv/lib/python3.4/site-packages/IPython/kernel/__main__.py:9: RuntimeWarning: invalid value encountered in log\n"
     ]
    },
    {
     "data": {
      "text/plain": [
       "[<matplotlib.lines.Line2D at 0x109171cf8>,\n",
       " <matplotlib.lines.Line2D at 0x10961d080>,\n",
       " <matplotlib.lines.Line2D at 0x10961db70>,\n",
       " <matplotlib.lines.Line2D at 0x10915da90>,\n",
       " <matplotlib.lines.Line2D at 0x14216a710>,\n",
       " <matplotlib.lines.Line2D at 0x142165940>,\n",
       " <matplotlib.lines.Line2D at 0x109150630>,\n",
       " <matplotlib.lines.Line2D at 0x1091505c0>,\n",
       " <matplotlib.lines.Line2D at 0x154273208>,\n",
       " <matplotlib.lines.Line2D at 0x154273080>]"
      ]
     },
     "execution_count": 42,
     "metadata": {},
     "output_type": "execute_result"
    },
    {
     "data": {
      "image/png": "[encoded data removed]",
      "text/plain": [
       "<matplotlib.figure.Figure at 0x135919b38>"
      ]
     },
     "metadata": {},
     "output_type": "display_data"
    },
    {
     "data": {
      "image/png": "[encoded data removed]",
      "text/plain": [
       "<matplotlib.figure.Figure at 0x10914da20>"
      ]
     },
     "metadata": {},
     "output_type": "display_data"
    }
   ],
   "source": [
    "figure()\n",
    "hold(True)\n",
    "mm = out[:,::1000].T/out[:,0].T\n",
    "semilogx( times[::1000], log( -(log(mm[:-1])) ))\n",
    "    \n",
    "    \n",
    "figure()\n",
    "mm=40+log(out[:, ::1000].T)\n",
    "plot( times[::1000], log(mm[:-1])) \n"
   ]
  },
  {
   "cell_type": "markdown",
   "metadata": {},
   "source": [
    "## Now overlay multiple plots of $\\tau_{survival}$ vs. $a^2$ for different values of $\\kappa$"
   ]
  },
  {
   "cell_type": "markdown",
   "metadata": {},
   "source": [
    "As $\\kappa$ changes, we expect the location of the transition from 3/2 scaling to 2 scaling to change. So we generate many copies of the plot above to see if this occurs in the simulations"
   ]
  },
  {
   "cell_type": "code",
   "execution_count": 76,
   "metadata": {
    "collapsed": false
   },
   "outputs": [
    {
     "name": "stdout",
     "output_type": "stream",
     "text": [
      "0.001\n",
      "0.00117210229753\n",
      "0.00137382379588\n",
      "0.00161026202756\n",
      "0.00188739182214\n",
      "0.00221221629107\n",
      "0.0025929437974\n",
      "0.00303919538231\n",
      "0.00356224789026\n",
      "0.00417531893656\n",
      "0.00489390091848\n",
      "0.00573615251045\n",
      "0.0067233575365\n",
      "0.00788046281567\n",
      "0.00923670857187\n",
      "0.0108263673387\n",
      "0.0126896100317\n",
      "0.0148735210729\n",
      "0.017433288222\n",
      "0.0204335971786\n",
      "0.0239502661999\n",
      "0.0280721620394\n",
      "0.0329034456231\n",
      "0.0385662042116\n",
      "0.0452035365636\n",
      "0.0529831690628\n",
      "0.0621016941892\n",
      "0.0727895384398\n",
      "0.0853167852417\n",
      "0.1\n",
      "0.001\n",
      "0.00117210229753\n",
      "0.00137382379588\n",
      "0.00161026202756\n",
      "0.00188739182214\n",
      "0.00221221629107\n",
      "0.0025929437974\n",
      "0.00303919538231\n",
      "0.00356224789026\n",
      "0.00417531893656\n",
      "0.00489390091848\n",
      "0.00573615251045\n",
      "0.0067233575365\n",
      "0.00788046281567\n",
      "0.00923670857187\n",
      "0.0108263673387\n",
      "0.0126896100317\n",
      "0.0148735210729\n",
      "0.017433288222\n",
      "0.0204335971786\n",
      "0.0239502661999\n",
      "0.0280721620394\n",
      "0.0329034456231\n",
      "0.0385662042116\n",
      "0.0452035365636\n",
      "0.0529831690628\n",
      "0.0621016941892\n",
      "0.0727895384398\n",
      "0.0853167852417\n",
      "0.1\n",
      "0.001\n",
      "0.00117210229753\n",
      "0.00137382379588\n",
      "0.00161026202756\n",
      "0.00188739182214\n",
      "0.00221221629107\n",
      "0.0025929437974\n",
      "0.00303919538231\n",
      "0.00356224789026\n",
      "0.00417531893656\n",
      "0.00489390091848\n",
      "0.00573615251045\n",
      "0.0067233575365\n",
      "0.00788046281567\n",
      "0.00923670857187\n",
      "0.0108263673387\n",
      "0.0126896100317\n",
      "0.0148735210729\n",
      "0.017433288222\n",
      "0.0204335971786\n",
      "0.0239502661999\n",
      "0.0280721620394\n",
      "0.0329034456231\n",
      "0.0385662042116\n",
      "0.0452035365636\n",
      "0.0529831690628\n",
      "0.0621016941892\n",
      "0.0727895384398\n",
      "0.0853167852417\n",
      "0.1\n"
     ]
    }
   ],
   "source": [
    "well_diams = expspace(.001,.1, 30)\n",
    "kvals = expspace(4e-1, 1e-1, 3)\n",
    "# kvals = linspace(1e-4,1e-5, 2)\n",
    "outs = timescale_vs_asquared_vs_kappa(well_diams, kvals)\n",
    "\n",
    "\n",
    "figure()\n",
    "loglog(well_diams**2, array(outs).T)\n",
    "\n",
    "# nmstr = 'k_1e-1_4e-1.pdf'\n",
    "# savefig(nmstr)\n",
    "# fig_annotate(nmstr,params)"
   ]
  },
  {
   "cell_type": "markdown",
   "metadata": {},
   "source": [
    "## Now vary the reaction zone width while keeping $a$ fixed"
   ]
  },
  {
   "cell_type": "code",
   "execution_count": 177,
   "metadata": {
    "collapsed": false
   },
   "outputs": [
    {
     "name": "stdout",
     "output_type": "stream",
     "text": [
      "0.001\n",
      "0.00117210229753\n",
      "0.00137382379588\n",
      "0.00161026202756\n",
      "0.00188739182214\n",
      "0.00221221629107\n",
      "0.0025929437974\n",
      "0.00303919538231\n",
      "0.00356224789026\n",
      "0.00417531893656\n",
      "0.00489390091848\n",
      "0.00573615251045\n",
      "0.0067233575365\n",
      "0.00788046281567\n",
      "0.00923670857187\n",
      "0.0108263673387\n",
      "0.0126896100317\n",
      "0.0148735210729\n",
      "0.017433288222\n",
      "0.0204335971786\n",
      "0.0239502661999\n",
      "0.0280721620394\n",
      "0.0329034456231\n",
      "0.0385662042116\n",
      "0.0452035365636\n",
      "0.0529831690628\n",
      "0.0621016941892\n",
      "0.0727895384398\n",
      "0.0853167852417\n",
      "0.1\n",
      "0.001\n",
      "0.00117210229753\n",
      "0.00137382379588\n",
      "0.00161026202756\n",
      "0.00188739182214\n",
      "0.00221221629107\n",
      "0.0025929437974\n",
      "0.00303919538231\n",
      "0.00356224789026\n",
      "0.00417531893656\n",
      "0.00489390091848\n",
      "0.00573615251045\n",
      "0.0067233575365\n",
      "0.00788046281567\n",
      "0.00923670857187\n",
      "0.0108263673387\n",
      "0.0126896100317\n",
      "0.0148735210729\n",
      "0.017433288222\n",
      "0.0204335971786\n",
      "0.0239502661999\n",
      "0.0280721620394\n",
      "0.0329034456231\n",
      "0.0385662042116\n",
      "0.0452035365636\n",
      "0.0529831690628\n",
      "0.0621016941892\n",
      "0.0727895384398\n",
      "0.0853167852417\n",
      "0.1\n",
      "0.001\n",
      "0.00117210229753\n",
      "0.00137382379588\n",
      "0.00161026202756\n",
      "0.00188739182214\n",
      "0.00221221629107\n",
      "0.0025929437974\n",
      "0.00303919538231\n",
      "0.00356224789026\n",
      "0.00417531893656\n",
      "0.00489390091848\n",
      "0.00573615251045\n",
      "0.0067233575365\n",
      "0.00788046281567\n",
      "0.00923670857187\n",
      "0.0108263673387\n",
      "0.0126896100317\n",
      "0.0148735210729\n",
      "0.017433288222\n",
      "0.0204335971786\n",
      "0.0239502661999\n",
      "0.0280721620394\n",
      "0.0329034456231\n",
      "0.0385662042116\n",
      "0.0452035365636\n",
      "0.0529831690628\n",
      "0.0621016941892\n",
      "0.0727895384398\n",
      "0.0853167852417\n",
      "0.1\n",
      "0.001\n",
      "0.00117210229753\n",
      "0.00137382379588\n",
      "0.00161026202756\n",
      "0.00188739182214\n",
      "0.00221221629107\n",
      "0.0025929437974\n",
      "0.00303919538231\n",
      "0.00356224789026\n",
      "0.00417531893656\n",
      "0.00489390091848\n",
      "0.00573615251045\n",
      "0.0067233575365\n",
      "0.00788046281567\n",
      "0.00923670857187\n",
      "0.0108263673387\n",
      "0.0126896100317\n",
      "0.0148735210729\n",
      "0.017433288222\n",
      "0.0204335971786\n",
      "0.0239502661999\n",
      "0.0280721620394\n",
      "0.0329034456231\n",
      "0.0385662042116\n",
      "0.0452035365636\n",
      "0.0529831690628\n",
      "0.0621016941892\n",
      "0.0727895384398\n",
      "0.0853167852417\n",
      "0.1\n",
      "0.001\n",
      "0.00117210229753\n",
      "0.00137382379588\n",
      "0.00161026202756\n",
      "0.00188739182214\n",
      "0.00221221629107\n",
      "0.0025929437974\n",
      "0.00303919538231\n",
      "0.00356224789026\n",
      "0.00417531893656\n",
      "0.00489390091848\n",
      "0.00573615251045\n",
      "0.0067233575365\n",
      "0.00788046281567\n",
      "0.00923670857187\n",
      "0.0108263673387\n",
      "0.0126896100317\n",
      "0.0148735210729\n",
      "0.017433288222\n",
      "0.0204335971786\n",
      "0.0239502661999\n",
      "0.0280721620394\n",
      "0.0329034456231\n",
      "0.0385662042116\n",
      "0.0452035365636\n",
      "0.0529831690628\n",
      "0.0621016941892\n",
      "0.0727895384398\n",
      "0.0853167852417\n",
      "0.1\n"
     ]
    }
   ],
   "source": [
    "well_diams = expspace(.001,.1, 30)\n",
    "rxn_diam_vals = linspace(.01,.3,5)\n",
    "# kvals = linspace(1e-4,1e-5, 2)\n",
    "outs = timescale_vs_asquared_vs_rxndiam(well_diams, rxn_diam_vals)\n",
    "\n",
    "figure()\n",
    "hold(True)\n",
    "loglog(well_diams**2, array(outs).T)\n",
    "\n",
    "# nmstr = 'vary_rxnzone_kappa_4e-1_potdiam_.1.pdf'\n",
    "# savefig(nmstr)\n",
    "# fig_annotate(nmstr,params)"
   ]
  },
  {
   "cell_type": "code",
   "execution_count": null,
   "metadata": {
    "collapsed": false
   },
   "outputs": [],
   "source": []
  },
  {
   "cell_type": "markdown",
   "metadata": {},
   "source": [
    "## Now compare to the predictions of theory"
   ]
  },
  {
   "cell_type": "markdown",
   "metadata": {},
   "source": [
    "Let's try to express the Rouse and reaction timescales in terms of the units available to the integrator. The key analogy is that the solutions to the radial diffusion equation were expressed as arbitrary functions multiplied by the equilibrium distribution, which was parameterized with the potential length scale $a$\n",
    "\n",
    "\n",
    "$$ P(r, t) = p(r, t) \\exp\\left( -\\frac{r^2}{4 a^2}  \\right)  $$\n",
    "\n",
    "We compare this to the canonical equilibrium solution to the three-dimensional diffusion equaiton in a harmonic potential (see Doi and Edwards p. 63 and p. 93) \n",
    "\n",
    "$$ P_{eq}(r,t) \\sim \\exp\\left( -r^2 \\left(\\frac{3 \\pi^2}{N b^2}\\right)^2  \\right)  $$\n",
    "\n",
    "From comparison, it is clear that the key relation to relate the units of this integrator to standard variable values is:\n",
    "\n",
    "$$ a^2 = \\dfrac{N b^2}{12 \\pi^2}   $$\n",
    "\n",
    "We take the longest relxation time of a Rouse polymer, $\\tau = \\eta \\frac{N^2 b^2}{3 \\pi^2 k_b T}$, plug in for $N$, and find that \n",
    "\n",
    "$$ \\tau_{Rouse} = \\eta \\frac{(4)(12)\\pi^2 a^4}{b^2 k_b T} $$\n",
    "\n",
    "We know that, when $\\alpha = 1$, $D = k_b T/\\eta$ and so this equation can be expressed purely in terms of coefficients in the radial diffusion equation. **However, for our system with $\\alpha = .5$, I'm still not totally sure how to eliminate $b^2$ (the Kuhn length) and $k_b T$ as free parameters.**\n",
    "\n",
    "Our other timescale is taken by examining just the portion of the equilibrium gaussian distribution that sits above the reaction well, and assuming in the slow diffusion limit that probability decays exponentially in this region (without contributions due to particles diffusing into the regions). Integrating $p_{eq}(r)$ over just this finite region yeilds the reaction-dominated timescale:\n",
    "\n",
    "$$  \\tau_{rxn} = \\left( \\dfrac{2 \\pi N b^2}{3}   \\right)^\\frac32 \\dfrac{1}{\\kappa \\frac{4}{3} \\pi d^3}  $$\n",
    "\n",
    "where $d$ is the width of the reaction zone. Just for completeness, we'll write this in terms of $N$ and the Kuhn length $b$,\n",
    "\n",
    "$$  \\tau_{rxn} = \\left( 8 \\pi^3 a^2 \\right)^\\frac32 \\dfrac{1}{\\kappa \\frac{4}{3} \\pi d^3}  $$\n",
    "\n",
    "\n"
   ]
  },
  {
   "cell_type": "code",
   "execution_count": 27,
   "metadata": {
    "collapsed": true
   },
   "outputs": [],
   "source": [
    "def rouse_time(avals):\n",
    "    '''\n",
    "    Return the Rouse timescale in terms of the variables of the integrator\n",
    "    Doi and Edwards p. 96, eqn. 4.25\n",
    "    \n",
    "    avals : array (or a single double)\n",
    "        The width of the potential\n",
    "    '''\n",
    "\n",
    "    # these are the constants that I'm still not certain about\n",
    "    # whatever eta is, it's going to be inversely proportional to params['DCOEFF']\n",
    "    eta = 1.0 \n",
    "    kuhn =1.0\n",
    "    kT = 1.0\n",
    "    \n",
    "    numerator = eta*4*12*(pi**2)*(avals**4)\n",
    "    denominator = (kuhn**2)*kT\n",
    "    return numerator/denominator\n",
    "\n",
    "\n",
    "def rxn_time(avals):\n",
    "    '''\n",
    "    Return the timescale associated with the portion of the \n",
    "    gaussian distribution that sits above the potential reacting\n",
    "    \n",
    "    avals : array (or a single double)\n",
    "        The width of the potential\n",
    "    '''\n",
    "    # this is a constant that I'm still not certain about\n",
    "    kuhn =1.0\n",
    "    \n",
    "    d = params['WELL_DIAM']\n",
    "    kap = params['KAPPA']\n",
    "    numerator = ( 8*(pi**3)*(avals**2) )**(3/2)\n",
    "    denominator = kap*(4/3)*pi*(d**3)\n",
    "    return numerator/denominator\n"
   ]
  },
  {
   "cell_type": "code",
   "execution_count": 28,
   "metadata": {
    "collapsed": false
   },
   "outputs": [
    {
     "data": {
      "text/plain": [
       "[<matplotlib.lines.Line2D at 0x151992c18>]"
      ]
     },
     "execution_count": 28,
     "metadata": {},
     "output_type": "execute_result"
    },
    {
     "data": {
      "image/png": "[encoded data removed]",
      "text/plain": [
       "<matplotlib.figure.Figure at 0x15423e518>"
      ]
     },
     "metadata": {},
     "output_type": "display_data"
    }
   ],
   "source": [
    "# Analytic predictions\n",
    "\n",
    "figure()\n",
    "# hold(True)\n",
    "loglog(well_diams**2, rouse_time(well_diams))\n",
    "loglog(well_diams**2, rxn_time(well_diams))\n",
    "\n",
    "# savefig('rouse_and_rxn_times.pdf')"
   ]
  },
  {
   "cell_type": "code",
   "execution_count": null,
   "metadata": {
    "collapsed": true
   },
   "outputs": [],
   "source": []
  },
  {
   "cell_type": "code",
   "execution_count": null,
   "metadata": {
    "collapsed": true
   },
   "outputs": [],
   "source": []
  },
  {
   "cell_type": "code",
   "execution_count": null,
   "metadata": {
    "collapsed": true
   },
   "outputs": [],
   "source": []
  },
  {
   "cell_type": "code",
   "execution_count": null,
   "metadata": {
    "collapsed": true
   },
   "outputs": [],
   "source": []
  }
 ],
 "metadata": {
  "kernelspec": {
   "display_name": "Python 3",
   "language": "python",
   "name": "python3"
  },
  "language_info": {
   "codemirror_mode": {
    "name": "ipython",
    "version": 3
   },
   "file_extension": ".py",
   "mimetype": "text/x-python",
   "name": "python",
   "nbconvert_exporter": "python",
   "pygments_lexer": "ipython3",
   "version": "3.4.3"
  }
 },
 "nbformat": 4,
 "nbformat_minor": 0
}
